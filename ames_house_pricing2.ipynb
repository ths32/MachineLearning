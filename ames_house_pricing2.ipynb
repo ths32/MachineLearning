{
 "cells": [
  {
   "cell_type": "code",
   "execution_count": 1,
   "id": "cf6ca80c",
   "metadata": {},
   "outputs": [],
   "source": [
    "import numpy as np\n",
    "import pandas as pd\n",
    "import matplotlib.pyplot as plt\n",
    "from sklearn.preprocessing import StandardScaler\n",
    "from sklearn.metrics import mean_squared_error, mean_absolute_error\n",
    "from sklearn.linear_model import Ridge, Lasso, ElasticNet\n",
    "from sklearn.model_selection import train_test_split, GridSearchCV\n",
    "from sklearn.linear_model import LinearRegression\n",
    "from sklearn.ensemble import RandomForestRegressor, GradientBoostingRegressor, BaggingRegressor, ExtraTreesRegressor, StackingRegressor\n",
    "from xgboost import XGBRegressor\n",
    "from lightgbm import LGBMRegressor\n",
    "import math\n",
    "from scipy.stats import skew"
   ]
  },
  {
   "cell_type": "code",
   "execution_count": 15,
   "id": "f56f8f23",
   "metadata": {},
   "outputs": [],
   "source": [
    "df_house = pd.read_csv('C:/Users/thsong/Downloads/house-prices-advanced-regression-techniques/train.csv')\n",
    "df_house_test = pd.read_csv('C:/Users/thsong/Downloads/house-prices-advanced-regression-techniques/test.csv')"
   ]
  },
  {
   "cell_type": "code",
   "execution_count": 2,
   "id": "f464890d",
   "metadata": {},
   "outputs": [],
   "source": [
    "df_house_extracted = pd.read_csv('C:/Users/thsong/df_house_extracted_tmp.csv')"
   ]
  },
  {
   "cell_type": "code",
   "execution_count": 8,
   "id": "7c9efec3",
   "metadata": {},
   "outputs": [],
   "source": [
    "df_house_extracted_wool = pd.read_csv('C:/Users/thsong/df_house_extracted_wool_tmp.csv')"
   ]
  },
  {
   "cell_type": "code",
   "execution_count": 31,
   "id": "42ead27d",
   "metadata": {},
   "outputs": [],
   "source": [
    "### define a fuction for printing RMSLE values of each regression model\n",
    "def print_rmsle_values(model, X_train, X_test, y_train, y_test):\n",
    "    model.fit(X_train,y_train)\n",
    "    pred = model.predict(X_test)\n",
    "    ### print and return RMSLE values of each model\n",
    "    print('#'*5, model.__class__.__name__,'#'*5)\n",
    "    # not to make nan values from np.log1p\n",
    "    y_test_ = y_test - y_test.min() + 1\n",
    "    # plug y_test_ into np.log1p\n",
    "    log_y = np.log1p(y_test_)\n",
    "    # not to make nan values from np.log1p\n",
    "    pred_ = pred - pred.min() + 1\n",
    "    # plug pred_ into np.log1p\n",
    "    log_pred = np.log1p(pred_)\n",
    "    # get squared error\n",
    "    squared_error = (log_y - log_pred)**2 \n",
    "    rmsle = np.sqrt(np.mean(squared_error))\n",
    "    # print RMSLE value\n",
    "    print('RMSLE : {}'.format(rmsle))\n",
    "    # return RMSLE value\n",
    "    return rmsle"
   ]
  },
  {
   "cell_type": "code",
   "execution_count": 55,
   "id": "a2923974",
   "metadata": {},
   "outputs": [],
   "source": [
    "### define a function for printing best parameters for modeling\n",
    "def print_best_params(model, params):\n",
    "    grid_model = GridSearchCV(model, param_grid=params, scoring='neg_mean_squared_error', cv=5)\n",
    "    grid_model.fit(X, y) # the same result as .fit(X_train,y_train)\n",
    "    rmse = np.sqrt(-1*grid_model.best_score_)\n",
    "    print('when the model {0} is taken with grid search cv = 5 the best avg rmse value is : {1}, and the best parameter is : {2}'.format(model.__class__.__name__, np.round(rmse,4), grid_model.best_params_))"
   ]
  },
  {
   "cell_type": "code",
   "execution_count": null,
   "id": "d7acbd45",
   "metadata": {},
   "outputs": [],
   "source": [
    "df_house_extracted"
   ]
  },
  {
   "cell_type": "code",
   "execution_count": 276,
   "id": "54630089",
   "metadata": {},
   "outputs": [
    {
     "data": {
      "image/png": "[encoded data removed]",
      "text/plain": [
       "<Figure size 432x288 with 1 Axes>"
      ]
     },
     "metadata": {
      "needs_background": "light"
     },
     "output_type": "display_data"
    }
   ],
   "source": [
    "plt.scatter(x = df_house_extracted['GrLivArea'], y = df_house_extracted['SalePrice'])\n",
    "plt.ylabel('SalePrice',fontsize=15)\n",
    "plt.xlabel('GrLivArea', fontsize=15)\n",
    "plt.show()"
   ]
  },
  {
   "cell_type": "code",
   "execution_count": 7,
   "id": "2cd9a6c1",
   "metadata": {},
   "outputs": [
    {
     "data": {
      "text/plain": [
       "Index(['MSSubClass', 'MSZoning_', 'LotFrontage', 'LotArea', 'LotShape_',\n",
       "       'LotConfig_', 'Neighborhood_', 'HouseStyle_', 'OverallQual',\n",
       "       'OverallCond', 'RoofStyle_', 'MasVnrType_', 'MasVnrArea', 'ExterQual_',\n",
       "       'Foundation_', 'BsmtQual_', 'BsmtExposure_', 'BsmtFinType1_',\n",
       "       'BsmtFinSF1', 'BsmtUnfSF', 'TotalBsmtSF', 'HeatingQC_', '1stFlrSF',\n",
       "       '2ndFlrSF', 'GrLivArea', 'BsmtFullBath', 'FullBath', 'HalfBath',\n",
       "       'BedroomAbvGr', 'KitchenQual_', 'TotRmsAbvGrd', 'Fireplaces',\n",
       "       'FireplaceQu_', 'GarageType_', 'House_Age', 'Garage_Age',\n",
       "       'GarageFinish_', 'GarageCars', 'GarageArea', 'WoodDeckSF',\n",
       "       'OpenPorchSF', 'Exterior_Avg', 'SalePrice'],\n",
       "      dtype='object')"
      ]
     },
     "execution_count": 7,
     "metadata": {},
     "output_type": "execute_result"
    }
   ],
   "source": [
    "df_house_extracted.columns"
   ]
  },
  {
   "cell_type": "code",
   "execution_count": 18,
   "id": "11a60157",
   "metadata": {},
   "outputs": [],
   "source": [
    "# df_house_extracted2 = df_house_extracted.copy(deep=True)\n",
    "df_house_extracted3 = df_house_extracted.copy(deep=True)\n",
    "df_house_extracted4 = df_house_extracted.copy(deep=True)\n",
    "df_house_extracted5 = df_house_extracted.copy(deep=True)"
   ]
  },
  {
   "cell_type": "code",
   "execution_count": 94,
   "id": "bb79f276",
   "metadata": {},
   "outputs": [],
   "source": [
    "df_house_extracted6 = df_house_extracted.copy(deep=True)"
   ]
  },
  {
   "cell_type": "code",
   "execution_count": 176,
   "id": "6ae542c9",
   "metadata": {},
   "outputs": [],
   "source": [
    "df_house_extracted7 = df_house_extracted.copy(deep=True)\n",
    "df_house_extracted8 = df_house_extracted.copy(deep=True)\n",
    "df_house_extracted9 = df_house_extracted.copy(deep=True)\n",
    "df_house_extracted10 = df_house_extracted.copy(deep=True)\n",
    "df_house_extracted11 = df_house_extracted.copy(deep=True)"
   ]
  },
  {
   "cell_type": "code",
   "execution_count": 239,
   "id": "05110878",
   "metadata": {},
   "outputs": [],
   "source": [
    "df_house_extracted12 = df_house_extracted.copy(deep=True)\n",
    "df_house_extracted13 = df_house_extracted.copy(deep=True)\n",
    "df_house_extracted14 = df_house_extracted.copy(deep=True)\n",
    "df_house_extracted15 = df_house_extracted.copy(deep=True)\n",
    "df_house_extracted16 = df_house_extracted.copy(deep=True)"
   ]
  },
  {
   "cell_type": "code",
   "execution_count": null,
   "id": "1fbb7b15",
   "metadata": {},
   "outputs": [],
   "source": [
    "df_house_extracted3 = df_house_extracted_wool.copy(deep=True)\n",
    "df_house_extracted4 = df_house_extracted_wool.copy(deep=True)\n",
    "df_house_extracted5 = df_house_extracted_wool.copy(deep=True)\n",
    "df_house_extracted6 = df_house_extracted_wool.copy(deep=True)\n",
    "df_house_extracted7 = df_house_extracted_wool.copy(deep=True)\n",
    "df_house_extracted8 = df_house_extracted_wool.copy(deep=True)\n",
    "df_house_extracted9 = df_house_extracted_wool.copy(deep=True)\n",
    "df_house_extracted10 = df_house_extracted_wool.copy(deep=True)\n",
    "df_house_extracted11 = df_house_extracted_wool.copy(deep=True)\n",
    "df_house_extracted12 = df_house_extracted_wool.copy(deep=True)\n",
    "df_house_extracted13 = df_house_extracted_wool.copy(deep=True)\n",
    "df_house_extracted14 = df_house_extracted_wool.copy(deep=True)\n",
    "df_house_extracted15 = df_house_extracted_wool.copy(deep=True)\n",
    "df_house_extracted16 = df_house_extracted_wool.copy(deep=True) "
   ]
  },
  {
   "cell_type": "code",
   "execution_count": 5,
   "id": "805d39a3",
   "metadata": {},
   "outputs": [],
   "source": [
    "df_house_test_extracted = pd.read_csv('C:/Users/thsong/df_house_test_extracted_tmp.csv')"
   ]
  },
  {
   "cell_type": "code",
   "execution_count": 279,
   "id": "94531b94",
   "metadata": {},
   "outputs": [],
   "source": [
    "#df_house_test_extracted = pd.read_csv('C:/Users/thsong/df_house_extracted_wool_tmp.csv')"
   ]
  },
  {
   "cell_type": "code",
   "execution_count": 21,
   "id": "a89a5337",
   "metadata": {},
   "outputs": [],
   "source": [
    "df_house_test_extracted3 = df_house_test_extracted.copy(deep=True)\n",
    "df_house_test_extracted4 = df_house_test_extracted.copy(deep=True)\n",
    "df_house_test_extracted5 = df_house_test_extracted.copy(deep=True)"
   ]
  },
  {
   "cell_type": "code",
   "execution_count": 53,
   "id": "772b7c34",
   "metadata": {},
   "outputs": [],
   "source": [
    "df_house_test_extracted6 = df_house_test_extracted.copy(deep=True)"
   ]
  },
  {
   "cell_type": "code",
   "execution_count": 177,
   "id": "ba76351e",
   "metadata": {},
   "outputs": [],
   "source": [
    "df_house_test_extracted7 = df_house_test_extracted.copy(deep=True)\n",
    "df_house_test_extracted8 = df_house_test_extracted.copy(deep=True)\n",
    "df_house_test_extracted9 = df_house_test_extracted.copy(deep=True)\n",
    "df_house_test_extracted10 = df_house_test_extracted.copy(deep=True)\n",
    "df_house_test_extracted11 = df_house_test_extracted.copy(deep=True)"
   ]
  },
  {
   "cell_type": "code",
   "execution_count": 240,
   "id": "28eda28a",
   "metadata": {},
   "outputs": [],
   "source": [
    "df_house_test_extracted12 = df_house_test_extracted.copy(deep=True)\n",
    "df_house_test_extracted13 = df_house_test_extracted.copy(deep=True)\n",
    "df_house_test_extracted14 = df_house_test_extracted.copy(deep=True)\n",
    "df_house_test_extracted15 = df_house_test_extracted.copy(deep=True)\n",
    "df_house_test_extracted16 = df_house_test_extracted.copy(deep=True)"
   ]
  },
  {
   "cell_type": "code",
   "execution_count": null,
   "id": "c3feae02",
   "metadata": {},
   "outputs": [],
   "source": []
  },
  {
   "cell_type": "code",
   "execution_count": 40,
   "id": "8f8c40e2",
   "metadata": {},
   "outputs": [],
   "source": [
    "df_house_test3 = df_house_test.copy(deep=True)\n",
    "df_house_test4 = df_house_test.copy(deep=True)\n",
    "df_house_test5 = df_house_test.copy(deep=True)"
   ]
  },
  {
   "cell_type": "code",
   "execution_count": 54,
   "id": "736b8682",
   "metadata": {},
   "outputs": [],
   "source": [
    "df_house_test6 = df_house_test.copy(deep=True)"
   ]
  },
  {
   "cell_type": "code",
   "execution_count": 178,
   "id": "7bfb1bdf",
   "metadata": {},
   "outputs": [],
   "source": [
    "df_house_test7 = df_house_test.copy(deep=True)\n",
    "df_house_test8 = df_house_test.copy(deep=True)\n",
    "df_house_test9 = df_house_test.copy(deep=True)\n",
    "df_house_test10 = df_house_test.copy(deep=True)\n",
    "df_house_test11 = df_house_test.copy(deep=True)"
   ]
  },
  {
   "cell_type": "code",
   "execution_count": 241,
   "id": "16e46f21",
   "metadata": {},
   "outputs": [],
   "source": [
    "df_house_test12 = df_house_test.copy(deep=True)\n",
    "df_house_test13 = df_house_test.copy(deep=True)\n",
    "df_house_test14 = df_house_test.copy(deep=True)\n",
    "df_house_test15 = df_house_test.copy(deep=True)\n",
    "df_house_test16 = df_house_test.copy(deep=True)"
   ]
  },
  {
   "cell_type": "code",
   "execution_count": null,
   "id": "f5dff453",
   "metadata": {},
   "outputs": [],
   "source": []
  },
  {
   "cell_type": "markdown",
   "id": "bb731a6d",
   "metadata": {},
   "source": [
    "### checking the result of the 3rd trial"
   ]
  },
  {
   "cell_type": "code",
   "execution_count": 19,
   "id": "446fc7b3",
   "metadata": {},
   "outputs": [],
   "source": [
    "### Feature Engineering\n",
    "df_house_extracted3['IndoorSF'] =  df_house_extracted3['BsmtFinSF1'] + df_house_extracted3['BsmtUnfSF'] \\\n",
    "                                + df_house_extracted3['TotalBsmtSF'] + df_house_extracted3['TotalBsmtSF'] \\\n",
    "                                + df_house_extracted3['1stFlrSF'] \\\n",
    "                                + df_house_extracted3['2ndFlrSF'] + df_house_extracted3['GrLivArea']\n",
    "df_house_extracted3['OutdoorSF'] = df_house_extracted3['WoodDeckSF'] + df_house_extracted3['OpenPorchSF']\n",
    "df_house_extracted3.drop(['BsmtFinSF1','BsmtUnfSF','TotalBsmtSF','TotalBsmtSF','1stFlrSF','2ndFlrSF','GrLivArea'],axis=1,inplace=True)\n",
    "df_house_extracted3.drop(['WoodDeckSF','OpenPorchSF'],axis=1,inplace=True)\n",
    "df_house_extracted3['GarageArea_Unit'] =  df_house_extracted3['GarageArea'] / df_house_extracted3['GarageCars']\n",
    "df_house_extracted3['GarageArea_Unit'] = df_house_extracted3['GarageArea_Unit'].fillna(0)\n",
    "df_house_extracted3.drop(['GarageArea','GarageCars'],axis=1,inplace=True)\n",
    "#--------------------------------------------------------------------------------\n",
    "df_house_extracted3['MSSubClass_'] = 0\n",
    "for i in range(len(df_house_extracted3)):\n",
    "    if df_house_extracted3.MSSubClass.iloc[i] == 60:\n",
    "        df_house_extracted3.MSSubClass_.iloc[i] = 299  \n",
    "    elif df_house_extracted3.MSSubClass.iloc[i] == 20:\n",
    "        df_house_extracted3.MSSubClass_.iloc[i] = 536\n",
    "    elif df_house_extracted3.MSSubClass.iloc[i] == 50:\n",
    "        df_house_extracted3.MSSubClass_.iloc[i] = 144\n",
    "    elif df_house_extracted3.MSSubClass.iloc[i] == 120:\n",
    "        df_house_extracted3.MSSubClass_.iloc[i] = 87\n",
    "    elif df_house_extracted3.MSSubClass.iloc[i] == 30:\n",
    "        df_house_extracted3.MSSubClass_.iloc[i] = 69\n",
    "    elif df_house_extracted3.MSSubClass.iloc[i] == 160:\n",
    "        df_house_extracted3.MSSubClass_.iloc[i] = 63\n",
    "    elif df_house_extracted3.MSSubClass.iloc[i] == 70:\n",
    "        df_house_extracted3.MSSubClass_.iloc[i] = 60\n",
    "    elif df_house_extracted3.MSSubClass.iloc[i] == 80:\n",
    "        df_house_extracted3.MSSubClass_.iloc[i] = 58\n",
    "    elif df_house_extracted3.MSSubClass.iloc[i] == 90:\n",
    "        df_house_extracted3.MSSubClass_.iloc[i] = 52\n",
    "    elif df_house_extracted3.MSSubClass.iloc[i] == 190:\n",
    "        df_house_extracted3.MSSubClass_.iloc[i] = 30\n",
    "    elif df_house_extracted3.MSSubClass.iloc[i] == 85:\n",
    "        df_house_extracted3.MSSubClass_.iloc[i] = 20\n",
    "    elif df_house_extracted3.MSSubClass.iloc[i] == 75:    \n",
    "        df_house_extracted3.MSSubClass_.iloc[i] = 16\n",
    "    elif df_house_extracted3.MSSubClass.iloc[i] == 45:\n",
    "        df_house_extracted3.MSSubClass_.iloc[i] = 12\n",
    "    elif df_house_extracted3.MSSubClass.iloc[i] == 180:\n",
    "        df_house_extracted3.MSSubClass_.iloc[i] = 10\n",
    "    elif df_house_extracted3.MSSubClass.iloc[i] == 40:\n",
    "        df_house_extracted3.MSSubClass_.iloc[i] = 4\n",
    "#---------------------------------------------------------------------------------\n",
    "df_house_extracted3.drop(['MSSubClass'],axis=1,inplace=True)\n",
    "# one hot encodings\n",
    "LotShape_ohe = pd.get_dummies(df_house['LotShape'],prefix='LotShape')\n",
    "LotConfig_ohe = pd.get_dummies(df_house['LotConfig'],prefix='LotConfig')\n",
    "##BldgType_ohe = pd.get_dummies(df_house['BldgType'],prefix='BldgType')\n",
    "RoofStyle_ohe = pd.get_dummies(df_house['RoofStyle'],prefix='RoofStyle')\n",
    "MasVnrType_ohe = pd.get_dummies(df_house['MasVnrType'],prefix='MasVnrType')\n",
    "Foundation_ohe = pd.get_dummies(df_house['Foundation'],prefix='Foundation')\n",
    "BsmtExposure_ohe = pd.get_dummies(df_house['BsmtExposure'],prefix='BsmtExposure')\n",
    "BsmtFinType1_ohe = pd.get_dummies(df_house['BsmtFinType1'],prefix='BsmtFinType1')\n",
    "GarageType_ohe = pd.get_dummies(df_house['GarageType'],prefix='GarageType')\n",
    "GarageFinish_ohe = pd.get_dummies(df_house['GarageFinish'],prefix='GarageFinish')\n",
    "# concat the data\n",
    "df_house_extracted3_ = pd.concat([df_house_extracted3,LotShape_ohe,LotConfig_ohe,RoofStyle_ohe,\n",
    "                                 MasVnrType_ohe,Foundation_ohe,BsmtExposure_ohe,BsmtFinType1_ohe,GarageType_ohe,GarageFinish_ohe\n",
    "                                 ],axis = 1)\n",
    "df_house_extracted3_.drop(['LotShape_','LotConfig_','RoofStyle_' ,'MasVnrType_' ,'Foundation_' ,'BsmtExposure_' , 'BsmtFinType1_', \n",
    "                           'GarageType_', 'GarageFinish_'],axis=1,inplace=True)"
   ]
  },
  {
   "cell_type": "code",
   "execution_count": 20,
   "id": "91c53519",
   "metadata": {},
   "outputs": [
    {
     "data": {
      "text/plain": [
       "Index(['MSZoning_', 'LotFrontage', 'LotArea', 'Neighborhood_', 'HouseStyle_',\n",
       "       'OverallQual', 'OverallCond', 'MasVnrArea', 'ExterQual_', 'BsmtQual_',\n",
       "       'HeatingQC_', 'BsmtFullBath', 'FullBath', 'HalfBath', 'BedroomAbvGr',\n",
       "       'KitchenQual_', 'TotRmsAbvGrd', 'Fireplaces', 'FireplaceQu_',\n",
       "       'House_Age', 'Garage_Age', 'Exterior_Avg', 'SalePrice', 'IndoorSF',\n",
       "       'OutdoorSF', 'GarageArea_Unit', 'MSSubClass_', 'LotShape_IR1',\n",
       "       'LotShape_IR2', 'LotShape_IR3', 'LotShape_Reg', 'LotConfig_Corner',\n",
       "       'LotConfig_CulDSac', 'LotConfig_FR2', 'LotConfig_FR3',\n",
       "       'LotConfig_Inside', 'RoofStyle_Flat', 'RoofStyle_Gable',\n",
       "       'RoofStyle_Gambrel', 'RoofStyle_Hip', 'RoofStyle_Mansard',\n",
       "       'RoofStyle_Shed', 'MasVnrType_BrkCmn', 'MasVnrType_BrkFace',\n",
       "       'MasVnrType_None', 'MasVnrType_Stone', 'Foundation_BrkTil',\n",
       "       'Foundation_CBlock', 'Foundation_PConc', 'Foundation_Slab',\n",
       "       'Foundation_Stone', 'Foundation_Wood', 'BsmtExposure_Av',\n",
       "       'BsmtExposure_Gd', 'BsmtExposure_Mn', 'BsmtExposure_No',\n",
       "       'BsmtFinType1_ALQ', 'BsmtFinType1_BLQ', 'BsmtFinType1_GLQ',\n",
       "       'BsmtFinType1_LwQ', 'BsmtFinType1_Rec', 'BsmtFinType1_Unf',\n",
       "       'GarageType_2Types', 'GarageType_Attchd', 'GarageType_Basment',\n",
       "       'GarageType_BuiltIn', 'GarageType_CarPort', 'GarageType_Detchd',\n",
       "       'GarageFinish_Fin', 'GarageFinish_RFn', 'GarageFinish_Unf'],\n",
       "      dtype='object')"
      ]
     },
     "execution_count": 20,
     "metadata": {},
     "output_type": "execute_result"
    }
   ],
   "source": [
    "df_house_extracted3_.columns"
   ]
  },
  {
   "cell_type": "code",
   "execution_count": 23,
   "id": "e42f02f6",
   "metadata": {},
   "outputs": [],
   "source": [
    "scaler = StandardScaler()"
   ]
  },
  {
   "cell_type": "code",
   "execution_count": 24,
   "id": "c1813452",
   "metadata": {},
   "outputs": [],
   "source": [
    "col_lst = ['MSZoning_', 'LotFrontage', 'LotArea', 'Neighborhood_', 'HouseStyle_',\n",
    "       'OverallQual', 'OverallCond', 'MasVnrArea', 'ExterQual_', 'BsmtQual_',\n",
    "       'HeatingQC_', 'BsmtFullBath', 'FullBath', 'HalfBath', 'BedroomAbvGr',\n",
    "       'KitchenQual_', 'TotRmsAbvGrd', 'Fireplaces', 'FireplaceQu_',\n",
    "       'House_Age', 'Garage_Age', 'Exterior_Avg','IndoorSF',\n",
    "       'OutdoorSF', 'GarageArea_Unit', 'MSSubClass_']\n",
    "# create column and contain standardized data from the columns above, in sequence\n",
    "for i in range(len(col_lst)):\n",
    "    # standardize the data, using the library\n",
    "    array_tst = df_house_extracted3_[col_lst[i]].values.reshape(-1,1)\n",
    "    scaled_data_tst = scaler.fit_transform(array_tst) \n",
    "    # making new column's name\n",
    "    new_col = col_lst[i] + '(scaled)'\n",
    "    # create column for containing the standardized data\n",
    "    df_house_extracted3_[new_col] = scaled_data_tst\n",
    "#-----------------------------------------------------------------\n",
    "log_SalePrice = np.log1p(df_house_extracted3_['SalePrice'])\n",
    "df_house_extracted3_['SalePrice(log)'] = log_SalePrice"
   ]
  },
  {
   "cell_type": "code",
   "execution_count": 35,
   "id": "9bffefec",
   "metadata": {},
   "outputs": [],
   "source": [
    "# ordinary linear regression model\n",
    "line_fitter4 = LinearRegression()\n",
    "### turned models through series of parameter adjustments\n",
    "# linear models\n",
    "ridge_fitter4 = Ridge(alpha=98.7)\n",
    "lasso_fitter4 = Lasso(alpha=0.00064)\n",
    "elasticNet_fitter4 = ElasticNet(alpha = 0.08, l1_ratio=0.0001)\n",
    "# ensemble models\n",
    "xgb_fitter4 = XGBRegressor(n_estimators=155)\n",
    "gbm_fitter4 = GradientBoostingRegressor(n_estimators=155)\n",
    "rf_fitter4 = RandomForestRegressor(n_estimators=182)\n",
    "lgbm_fitter4 = LGBMRegressor(n_estimators=151)\n",
    "bg_fitter4 = BaggingRegressor(n_estimators=157)\n",
    "et_fitter4 = ExtraTreesRegressor(n_estimators=153)"
   ]
  },
  {
   "cell_type": "code",
   "execution_count": 29,
   "id": "fa5d85e7",
   "metadata": {},
   "outputs": [],
   "source": [
    "X = df_house_extracted3_[['MSZoning_(scaled)', 'LotFrontage(scaled)', 'LotArea(scaled)',\n",
    "       'Neighborhood_(scaled)', 'HouseStyle_(scaled)', 'OverallQual(scaled)',\n",
    "       'OverallCond(scaled)', 'MasVnrArea(scaled)', 'ExterQual_(scaled)',\n",
    "       'BsmtQual_(scaled)', 'HeatingQC_(scaled)', 'BsmtFullBath(scaled)',\n",
    "       'FullBath(scaled)', 'HalfBath(scaled)', 'BedroomAbvGr(scaled)',\n",
    "       'KitchenQual_(scaled)', 'TotRmsAbvGrd(scaled)', 'Fireplaces(scaled)',\n",
    "       'FireplaceQu_(scaled)', 'House_Age(scaled)', 'Garage_Age(scaled)',\n",
    "       'Exterior_Avg(scaled)', 'IndoorSF(scaled)', 'OutdoorSF(scaled)',\n",
    "       'GarageArea_Unit(scaled)', 'MSSubClass_(scaled)',\n",
    "        'LotShape_IR1','LotShape_IR2', 'LotShape_IR3', 'LotShape_Reg', \n",
    "        'LotConfig_Corner','LotConfig_CulDSac', 'LotConfig_FR2', 'LotConfig_FR3','LotConfig_Inside', \n",
    "        'RoofStyle_Flat', 'RoofStyle_Gable', 'RoofStyle_Gambrel', 'RoofStyle_Hip', 'RoofStyle_Mansard', 'RoofStyle_Shed', \n",
    "        'MasVnrType_BrkCmn', 'MasVnrType_BrkFace', 'MasVnrType_None', 'MasVnrType_Stone', \n",
    "        'Foundation_BrkTil', 'Foundation_CBlock', 'Foundation_PConc', 'Foundation_Slab', 'Foundation_Stone', 'Foundation_Wood',\n",
    "       'BsmtExposure_Av', 'BsmtExposure_Gd', 'BsmtExposure_Mn', 'BsmtExposure_No', \n",
    "       'BsmtFinType1_ALQ', 'BsmtFinType1_BLQ', 'BsmtFinType1_GLQ', 'BsmtFinType1_LwQ', 'BsmtFinType1_Rec', 'BsmtFinType1_Unf', \n",
    "        'GarageType_2Types', 'GarageType_Attchd', 'GarageType_Basment', 'GarageType_BuiltIn', 'GarageType_CarPort',\n",
    "       'GarageType_Detchd', 'GarageFinish_Fin', 'GarageFinish_RFn','GarageFinish_Unf'          \n",
    "        ]]\n",
    "y = df_house_extracted3_['SalePrice(log)']"
   ]
  },
  {
   "cell_type": "code",
   "execution_count": 30,
   "id": "0ac885bf",
   "metadata": {},
   "outputs": [],
   "source": [
    "X_train, X_test, y_train, y_test = train_test_split(X,y,test_size=0.2,random_state=42)"
   ]
  },
  {
   "cell_type": "code",
   "execution_count": 36,
   "id": "df148bca",
   "metadata": {},
   "outputs": [
    {
     "name": "stdout",
     "output_type": "stream",
     "text": [
      "##### LinearRegression #####\n",
      "RMSLE : 24.086139888737026\n",
      "##### Ridge #####\n",
      "RMSLE : 0.15091123003589973\n",
      "##### Lasso #####\n",
      "RMSLE : 0.1285817068430045\n",
      "##### ElasticNet #####\n",
      "RMSLE : 0.14997419840857043\n",
      "##### XGBRegressor #####\n",
      "RMSLE : 0.10867772423341107\n",
      "##### GradientBoostingRegressor #####\n",
      "RMSLE : 0.058125983526028775\n",
      "##### RandomForestRegressor #####\n",
      "RMSLE : 0.13778147431882437\n",
      "##### LGBMRegressor #####\n",
      "RMSLE : 0.1045953098049248\n",
      "##### BaggingRegressor #####\n",
      "RMSLE : 0.1372642024949007\n",
      "##### ExtraTreesRegressor #####\n",
      "RMSLE : 0.17221380015992932\n"
     ]
    },
    {
     "data": {
      "text/plain": [
       "{'GradientBoostingRegressor(n_estimators=155)': 0.058125983526028775,\n",
       " 'LGBMRegressor(n_estimators=151)': 0.1045953098049248,\n",
       " \"XGBRegressor(base_score=0.5, booster='gbtree', callbacks=None,\\n             colsample_bylevel=1, colsample_bynode=1, colsample_bytree=1,\\n             early_stopping_rounds=None, enable_categorical=False,\\n             eval_metric=None, gamma=0, gpu_id=-1, grow_policy='depthwise',\\n             importance_type=None, interaction_constraints='',\\n             learning_rate=0.300000012, max_bin=256, max_cat_to_onehot=4,\\n             max_delta_step=0, max_depth=6, max_leaves=0, min_child_weight=1,\\n             missing=nan, monotone_constraints='()', n_estimators=155, n_jobs=0,\\n             num_parallel_tree=1, predictor='auto', random_state=0, reg_alpha=0,\\n             reg_lambda=1, ...)\": 0.10867772423341107,\n",
       " 'Lasso(alpha=0.00064)': 0.1285817068430045,\n",
       " 'BaggingRegressor(n_estimators=157)': 0.1372642024949007,\n",
       " 'RandomForestRegressor(n_estimators=182)': 0.13778147431882437,\n",
       " 'ElasticNet(alpha=0.08, l1_ratio=0.0001)': 0.14997419840857043,\n",
       " 'Ridge(alpha=98.7)': 0.15091123003589973,\n",
       " 'ExtraTreesRegressor(n_estimators=153)': 0.17221380015992932,\n",
       " 'LinearRegression()': 24.086139888737026}"
      ]
     },
     "execution_count": 36,
     "metadata": {},
     "output_type": "execute_result"
    }
   ],
   "source": [
    "### Print RMSLE values using the user-defined function above\n",
    "dict_rmsle = {}\n",
    "for model in [line_fitter4,ridge_fitter4,lasso_fitter4,elasticNet_fitter4,xgb_fitter4,gbm_fitter4,rf_fitter4,lgbm_fitter4,bg_fitter4,et_fitter4]:\n",
    "    rmsle_value = print_rmsle_values(model,X_train.values,X_test.values,y_train.values,y_test.values)\n",
    "    dict_rmsle[str(model)] = rmsle_value\n",
    "### Sort RMSLE values in ascending order\n",
    "{k: v for k, v in sorted(dict_rmsle.items(), key=lambda item: item[1])}"
   ]
  },
  {
   "cell_type": "code",
   "execution_count": 26,
   "id": "a41711dc",
   "metadata": {},
   "outputs": [
    {
     "name": "stderr",
     "output_type": "stream",
     "text": [
      "C:\\ProgramData\\Anaconda3\\lib\\site-packages\\pandas\\core\\indexing.py:1732: SettingWithCopyWarning: \n",
      "A value is trying to be set on a copy of a slice from a DataFrame\n",
      "\n",
      "See the caveats in the documentation: https://pandas.pydata.org/pandas-docs/stable/user_guide/indexing.html#returning-a-view-versus-a-copy\n",
      "  self._setitem_single_block(indexer, value, name)\n"
     ]
    }
   ],
   "source": [
    "### Feature Engineering\n",
    "df_house_test_extracted3['IndoorSF'] =  df_house_test_extracted3['BsmtFinSF1'] + df_house_test_extracted3['BsmtUnfSF'] \\\n",
    "                                + df_house_test_extracted3['TotalBsmtSF'] + df_house_test_extracted3['TotalBsmtSF'] \\\n",
    "                                + df_house_test_extracted3['1stFlrSF'] \\\n",
    "                                + df_house_test_extracted3['2ndFlrSF'] + df_house_test_extracted3['GrLivArea']\n",
    "df_house_test_extracted3['OutdoorSF'] = df_house_test_extracted3['WoodDeckSF'] + df_house_test_extracted3['OpenPorchSF']\n",
    "df_house_test_extracted3.drop(['BsmtFinSF1','BsmtUnfSF','TotalBsmtSF','TotalBsmtSF','1stFlrSF','2ndFlrSF','GrLivArea'],axis=1,inplace=True)\n",
    "df_house_test_extracted3.drop(['WoodDeckSF','OpenPorchSF'],axis=1,inplace=True)\n",
    "df_house_test_extracted3['GarageArea_Unit'] =  df_house_test_extracted3['GarageArea'] / df_house_test_extracted3['GarageCars']\n",
    "df_house_test_extracted3['GarageArea_Unit'] = df_house_test_extracted3['GarageArea_Unit'].fillna(0)\n",
    "df_house_test_extracted3.drop(['GarageArea','GarageCars'],axis=1,inplace=True)\n",
    "#-----------------------------------------------------------------\n",
    "df_house_test_extracted3['MSSubClass_'] = 0\n",
    "for i in range(len(df_house_test_extracted3)):\n",
    "    if df_house_test_extracted3.MSSubClass.iloc[i] == 60:\n",
    "        df_house_test_extracted3.MSSubClass_.iloc[i] = 299    \n",
    "    elif df_house_test_extracted3.MSSubClass.iloc[i] == 20:\n",
    "        df_house_test_extracted3.MSSubClass_.iloc[i] = 536  \n",
    "    elif df_house_test_extracted3.MSSubClass.iloc[i] == 50:\n",
    "        df_house_test_extracted3.MSSubClass_.iloc[i] = 144\n",
    "    elif df_house_test_extracted3.MSSubClass.iloc[i] == 120:\n",
    "        df_house_test_extracted3.MSSubClass_.iloc[i] = 87\n",
    "    elif df_house_test_extracted3.MSSubClass.iloc[i] == 30:\n",
    "        df_house_test_extracted3.MSSubClass_.iloc[i] = 69\n",
    "    elif df_house_test_extracted3.MSSubClass.iloc[i] == 160:\n",
    "        df_house_test_extracted3.MSSubClass_.iloc[i] = 63\n",
    "    elif df_house_test_extracted3.MSSubClass.iloc[i] == 70:\n",
    "        df_house_test_extracted3.MSSubClass_.iloc[i] = 60\n",
    "    elif df_house_test_extracted3.MSSubClass.iloc[i] == 80:\n",
    "        df_house_test_extracted3.MSSubClass_.iloc[i] = 58\n",
    "    elif df_house_test_extracted3.MSSubClass.iloc[i] == 90:\n",
    "        df_house_test_extracted3.MSSubClass_.iloc[i] = 52\n",
    "    elif df_house_test_extracted3.MSSubClass.iloc[i] == 190:\n",
    "        df_house_test_extracted3.MSSubClass_.iloc[i] = 30\n",
    "    elif df_house_test_extracted3.MSSubClass.iloc[i] == 85:\n",
    "        df_house_test_extracted3.MSSubClass_.iloc[i] = 20\n",
    "    elif df_house_test_extracted3.MSSubClass.iloc[i] == 75:    \n",
    "        df_house_test_extracted3.MSSubClass_.iloc[i] = 16\n",
    "    elif df_house_test_extracted3.MSSubClass.iloc[i] == 45:\n",
    "        df_house_test_extracted3.MSSubClass_.iloc[i] = 12\n",
    "    elif df_house_test_extracted3.MSSubClass.iloc[i] == 180:\n",
    "        df_house_test_extracted3.MSSubClass_.iloc[i] = 10\n",
    "    elif df_house_test_extracted3.MSSubClass.iloc[i] == 40:\n",
    "        df_house_test_extracted3.MSSubClass_.iloc[i] = 4\n",
    "#------------------------\n",
    "df_house_test_extracted3.drop(['MSSubClass'],axis=1,inplace=True)\n",
    "#----------------------------------------\n",
    "LotShape_ohe = pd.get_dummies(df_house_test['LotShape'],prefix='LotShape')\n",
    "LotConfig_ohe = pd.get_dummies(df_house_test['LotConfig'],prefix='LotConfig')\n",
    "BldgType_ohe = pd.get_dummies(df_house_test['BldgType'],prefix='BldgType')\n",
    "RoofStyle_ohe = pd.get_dummies(df_house_test['RoofStyle'],prefix='RoofStyle')\n",
    "MasVnrType_ohe = pd.get_dummies(df_house_test['MasVnrType'],prefix='MasVnrType')\n",
    "Foundation_ohe = pd.get_dummies(df_house_test['Foundation'],prefix='Foundation')\n",
    "BsmtExposure_ohe = pd.get_dummies(df_house_test['BsmtExposure'],prefix='BsmtExposure')\n",
    "BsmtFinType1_ohe = pd.get_dummies(df_house_test['BsmtFinType1'],prefix='BsmtFinType1')\n",
    "GarageType_ohe = pd.get_dummies(df_house_test['GarageType'],prefix='GarageType')\n",
    "GarageFinish_ohe = pd.get_dummies(df_house_test['GarageFinish'],prefix='GarageFinish')\n",
    "#--------------------------------------------------------------------------------------------------\n",
    "#--concat--------------------------------------------------------------------------------------------\n",
    "df_house_test_extracted3_ = pd.concat([df_house_test_extracted3,LotShape_ohe,LotConfig_ohe,BldgType_ohe,RoofStyle_ohe,\n",
    "                                 MasVnrType_ohe,Foundation_ohe,BsmtExposure_ohe,BsmtFinType1_ohe,GarageType_ohe,GarageFinish_ohe\n",
    "                                 ],axis = 1 )\n",
    "#--------------------------------------------\n",
    "df_house_test_extracted3_.drop(['LotShape_','LotConfig_','RoofStyle_' ,'MasVnrType_' ,'Foundation_' ,'BsmtExposure_' , 'BsmtFinType1_', 'GarageType_', 'GarageFinish_',\n",
    "                          'BldgType_1Fam', 'BldgType_2fmCon','BldgType_Duplex', 'BldgType_Twnhs', 'BldgType_TwnhsE'\n",
    "                          ],axis=1,inplace=True)\n",
    "#-------------------------------------------------------\n",
    "col_lst = ['MSZoning_', 'LotFrontage', 'LotArea', 'Neighborhood_', 'HouseStyle_',\n",
    "       'OverallQual', 'OverallCond', 'MasVnrArea', 'ExterQual_', 'BsmtQual_',\n",
    "       'HeatingQC_', 'BsmtFullBath', 'FullBath', 'HalfBath', 'BedroomAbvGr',\n",
    "       'KitchenQual_', 'TotRmsAbvGrd', 'Fireplaces', 'FireplaceQu_',\n",
    "       'House_Age', 'Garage_Age', 'Exterior_Avg','IndoorSF',\n",
    "       'OutdoorSF', 'GarageArea_Unit', 'MSSubClass_']\n",
    "#--------------------------------------------------------------\n",
    "# create column and contain standardized data from the columns above, in sequence\n",
    "for i in range(len(col_lst)):\n",
    "    # standardize the data, using the library\n",
    "    array_tst = df_house_test_extracted3_[col_lst[i]].values.reshape(-1,1)\n",
    "    scaled_data_tst = scaler.fit_transform(array_tst) \n",
    "    # making new column's name\n",
    "    new_col = col_lst[i] + '(scaled)'\n",
    "    # create column for containing the standardized data\n",
    "    df_house_test_extracted3_[new_col] = scaled_data_tst"
   ]
  },
  {
   "cell_type": "code",
   "execution_count": 27,
   "id": "9559e655",
   "metadata": {},
   "outputs": [],
   "source": [
    "df_house_test_extracted3_2b_predicted = df_house_test_extracted3_[['LotShape_IR1', 'LotShape_IR2',\n",
    "       'LotShape_IR3', 'LotShape_Reg', 'LotConfig_Corner', 'LotConfig_CulDSac',\n",
    "       'LotConfig_FR2', 'LotConfig_FR3', 'LotConfig_Inside', 'RoofStyle_Flat',\n",
    "       'RoofStyle_Gable', 'RoofStyle_Gambrel', 'RoofStyle_Hip',\n",
    "       'RoofStyle_Mansard', 'RoofStyle_Shed', 'MasVnrType_BrkCmn',\n",
    "       'MasVnrType_BrkFace', 'MasVnrType_None', 'MasVnrType_Stone',\n",
    "       'Foundation_BrkTil', 'Foundation_CBlock', 'Foundation_PConc',\n",
    "       'Foundation_Slab', 'Foundation_Stone', 'Foundation_Wood',\n",
    "       'BsmtExposure_Av', 'BsmtExposure_Gd', 'BsmtExposure_Mn',\n",
    "       'BsmtExposure_No', 'BsmtFinType1_ALQ', 'BsmtFinType1_BLQ',\n",
    "       'BsmtFinType1_GLQ', 'BsmtFinType1_LwQ', 'BsmtFinType1_Rec',\n",
    "       'BsmtFinType1_Unf', 'GarageType_2Types', 'GarageType_Attchd',\n",
    "       'GarageType_Basment', 'GarageType_BuiltIn', 'GarageType_CarPort',\n",
    "       'GarageType_Detchd', 'GarageFinish_Fin', 'GarageFinish_RFn',\n",
    "       'GarageFinish_Unf', 'MSZoning_(scaled)', 'LotFrontage(scaled)',\n",
    "       'LotArea(scaled)', 'Neighborhood_(scaled)', 'HouseStyle_(scaled)',\n",
    "       'OverallQual(scaled)', 'OverallCond(scaled)', 'MasVnrArea(scaled)',\n",
    "       'ExterQual_(scaled)', 'BsmtQual_(scaled)', 'HeatingQC_(scaled)',\n",
    "       'BsmtFullBath(scaled)', 'FullBath(scaled)', 'HalfBath(scaled)',\n",
    "       'BedroomAbvGr(scaled)', 'KitchenQual_(scaled)', 'TotRmsAbvGrd(scaled)',\n",
    "       'Fireplaces(scaled)', 'FireplaceQu_(scaled)', 'House_Age(scaled)',\n",
    "       'Garage_Age(scaled)', 'Exterior_Avg(scaled)', 'IndoorSF(scaled)',\n",
    "       'OutdoorSF(scaled)', 'GarageArea_Unit(scaled)', 'MSSubClass_(scaled)']]"
   ]
  },
  {
   "cell_type": "code",
   "execution_count": 41,
   "id": "bd73ccfe",
   "metadata": {},
   "outputs": [],
   "source": [
    "result_from_model = gbm_fitter4.predict(df_house_test_extracted3_2b_predicted)\n",
    "df_house_test3['SalePrice'] = 0\n",
    "df_house_test3['SalePrice'] = np.expm1(result_from_model)"
   ]
  },
  {
   "cell_type": "code",
   "execution_count": 42,
   "id": "f330ec9e",
   "metadata": {},
   "outputs": [
    {
     "data": {
      "text/html": [
       "<div>\n",
       "<style scoped>\n",
       "    .dataframe tbody tr th:only-of-type {\n",
       "        vertical-align: middle;\n",
       "    }\n",
       "\n",
       "    .dataframe tbody tr th {\n",
       "        vertical-align: top;\n",
       "    }\n",
       "\n",
       "    .dataframe thead th {\n",
       "        text-align: right;\n",
       "    }\n",
       "</style>\n",
       "<table border=\"1\" class=\"dataframe\">\n",
       "  <thead>\n",
       "    <tr style=\"text-align: right;\">\n",
       "      <th></th>\n",
       "      <th>Id</th>\n",
       "      <th>SalePrice</th>\n",
       "    </tr>\n",
       "  </thead>\n",
       "  <tbody>\n",
       "    <tr>\n",
       "      <th>0</th>\n",
       "      <td>1461</td>\n",
       "      <td>150030.969864</td>\n",
       "    </tr>\n",
       "    <tr>\n",
       "      <th>1</th>\n",
       "      <td>1462</td>\n",
       "      <td>165979.083047</td>\n",
       "    </tr>\n",
       "    <tr>\n",
       "      <th>2</th>\n",
       "      <td>1463</td>\n",
       "      <td>152900.375882</td>\n",
       "    </tr>\n",
       "    <tr>\n",
       "      <th>3</th>\n",
       "      <td>1464</td>\n",
       "      <td>153479.460816</td>\n",
       "    </tr>\n",
       "    <tr>\n",
       "      <th>4</th>\n",
       "      <td>1465</td>\n",
       "      <td>174748.200146</td>\n",
       "    </tr>\n",
       "    <tr>\n",
       "      <th>...</th>\n",
       "      <td>...</td>\n",
       "      <td>...</td>\n",
       "    </tr>\n",
       "    <tr>\n",
       "      <th>1454</th>\n",
       "      <td>2915</td>\n",
       "      <td>175365.684383</td>\n",
       "    </tr>\n",
       "    <tr>\n",
       "      <th>1455</th>\n",
       "      <td>2916</td>\n",
       "      <td>175365.684383</td>\n",
       "    </tr>\n",
       "    <tr>\n",
       "      <th>1456</th>\n",
       "      <td>2917</td>\n",
       "      <td>148203.436304</td>\n",
       "    </tr>\n",
       "    <tr>\n",
       "      <th>1457</th>\n",
       "      <td>2918</td>\n",
       "      <td>174410.938514</td>\n",
       "    </tr>\n",
       "    <tr>\n",
       "      <th>1458</th>\n",
       "      <td>2919</td>\n",
       "      <td>170758.675253</td>\n",
       "    </tr>\n",
       "  </tbody>\n",
       "</table>\n",
       "<p>1459 rows × 2 columns</p>\n",
       "</div>"
      ],
      "text/plain": [
       "        Id      SalePrice\n",
       "0     1461  150030.969864\n",
       "1     1462  165979.083047\n",
       "2     1463  152900.375882\n",
       "3     1464  153479.460816\n",
       "4     1465  174748.200146\n",
       "...    ...            ...\n",
       "1454  2915  175365.684383\n",
       "1455  2916  175365.684383\n",
       "1456  2917  148203.436304\n",
       "1457  2918  174410.938514\n",
       "1458  2919  170758.675253\n",
       "\n",
       "[1459 rows x 2 columns]"
      ]
     },
     "execution_count": 42,
     "metadata": {},
     "output_type": "execute_result"
    }
   ],
   "source": [
    "df_house_test3[['Id','SalePrice']]"
   ]
  },
  {
   "cell_type": "code",
   "execution_count": null,
   "id": "204d5073",
   "metadata": {},
   "outputs": [],
   "source": []
  },
  {
   "cell_type": "markdown",
   "id": "75f52aa9",
   "metadata": {},
   "source": [
    "### checking the result of the 4th trial"
   ]
  },
  {
   "cell_type": "code",
   "execution_count": null,
   "id": "c045b727",
   "metadata": {},
   "outputs": [],
   "source": []
  },
  {
   "cell_type": "code",
   "execution_count": 43,
   "id": "4f870a98",
   "metadata": {},
   "outputs": [],
   "source": [
    "### Feature Engineering\n",
    "df_house_extracted4['IndoorSF'] =  df_house_extracted4['BsmtFinSF1'] + df_house_extracted4['BsmtUnfSF'] \\\n",
    "                                + df_house_extracted4['TotalBsmtSF'] + df_house_extracted4['TotalBsmtSF'] \\\n",
    "                                + df_house_extracted4['1stFlrSF'] \\\n",
    "                                + df_house_extracted4['2ndFlrSF'] + df_house_extracted4['GrLivArea']\n",
    "df_house_extracted4['OutdoorSF'] = df_house_extracted4['WoodDeckSF'] + df_house_extracted4['OpenPorchSF']\n",
    "# drop used columns\n",
    "df_house_extracted4.drop(['BsmtFinSF1','BsmtUnfSF','TotalBsmtSF','TotalBsmtSF','1stFlrSF','2ndFlrSF','GrLivArea'],axis=1,inplace=True)\n",
    "df_house_extracted4.drop(['WoodDeckSF','OpenPorchSF'],axis=1,inplace=True)\n",
    "#--------------\n",
    "# reduced number of one hot encodings\n",
    "LotShape_ohe = pd.get_dummies(df_house['LotShape'],prefix='LotShape')\n",
    "MasVnrType_ohe = pd.get_dummies(df_house['MasVnrType'],prefix='MasVnrType')\n",
    "BsmtExposure_ohe = pd.get_dummies(df_house['BsmtExposure'],prefix='BsmtExposure')\n",
    "GarageFinish_ohe = pd.get_dummies(df_house['GarageFinish'],prefix='GarageFinish')\n",
    "#---------------\n",
    "df_house_extracted4_ = pd.concat([df_house_extracted4,LotShape_ohe,MasVnrType_ohe, BsmtExposure_ohe, GarageFinish_ohe],axis = 1)\n",
    "df_house_extracted4_.drop(['LotShape_','MasVnrType_' ,'BsmtExposure_' ,'GarageFinish_'],axis=1,inplace=True)\n",
    "#---------------------------------------------------------------------------------------------------------------\n",
    "col_lst = ['MSSubClass', 'MSZoning_', 'LotFrontage', 'LotArea', 'LotConfig_',\n",
    "       'Neighborhood_', 'HouseStyle_', 'OverallQual', 'OverallCond',\n",
    "       'RoofStyle_', 'MasVnrArea', 'ExterQual_', 'Foundation_', 'BsmtQual_',\n",
    "       'BsmtFinType1_', 'HeatingQC_', 'BsmtFullBath', 'FullBath', 'HalfBath',\n",
    "       'BedroomAbvGr', 'KitchenQual_', 'TotRmsAbvGrd', 'Fireplaces',\n",
    "       'FireplaceQu_', 'GarageType_', 'House_Age', 'Garage_Age', 'GarageCars',\n",
    "       'GarageArea', 'Exterior_Avg', 'SalePrice', 'IndoorSF', 'OutdoorSF']\n",
    "#--------------------------------------------------------------\n",
    "# create column and contain standardized data from the columns above, in sequence\n",
    "for i in range(len(col_lst)):\n",
    "    # standardize the data, using the library\n",
    "    array_tst = df_house_extracted4_[col_lst[i]].values.reshape(-1,1)\n",
    "    scaled_data_tst = scaler.fit_transform(array_tst) \n",
    "    # making new column's name\n",
    "    new_col = col_lst[i] + '(scaled)'\n",
    "    # create column for containing the standardized data\n",
    "    df_house_extracted4_[new_col] = scaled_data_tst\n",
    "#-----------------------------------------------------\n",
    "log_SalePrice = np.log1p(df_house_extracted4_['SalePrice'])\n",
    "df_house_extracted4_['SalePrice(log)'] = log_SalePrice\n",
    "#------------------------------\n",
    "X = df_house_extracted4_[['LotShape_IR1', 'LotShape_IR2', 'LotShape_IR3', 'LotShape_Reg',\n",
    "       'MasVnrType_BrkCmn', 'MasVnrType_BrkFace', 'MasVnrType_None',\n",
    "       'MasVnrType_Stone', 'BsmtExposure_Av', 'BsmtExposure_Gd',\n",
    "       'BsmtExposure_Mn', 'BsmtExposure_No', 'GarageFinish_Fin',\n",
    "       'GarageFinish_RFn', 'GarageFinish_Unf', 'MSSubClass(scaled)',\n",
    "       'MSZoning_(scaled)', 'LotFrontage(scaled)', 'LotArea(scaled)',\n",
    "       'LotConfig_(scaled)', 'Neighborhood_(scaled)', 'HouseStyle_(scaled)',\n",
    "       'OverallQual(scaled)', 'OverallCond(scaled)', 'RoofStyle_(scaled)',\n",
    "       'MasVnrArea(scaled)', 'ExterQual_(scaled)', 'Foundation_(scaled)',\n",
    "       'BsmtQual_(scaled)', 'BsmtFinType1_(scaled)', 'HeatingQC_(scaled)',\n",
    "       'BsmtFullBath(scaled)', 'FullBath(scaled)', 'HalfBath(scaled)',\n",
    "       'BedroomAbvGr(scaled)', 'KitchenQual_(scaled)', 'TotRmsAbvGrd(scaled)',\n",
    "       'Fireplaces(scaled)', 'FireplaceQu_(scaled)', 'GarageType_(scaled)',\n",
    "       'House_Age(scaled)', 'Garage_Age(scaled)', 'GarageCars(scaled)',\n",
    "       'GarageArea(scaled)', 'Exterior_Avg(scaled)',\n",
    "       'IndoorSF(scaled)', 'OutdoorSF(scaled)']]\n",
    "y = df_house_extracted4_['SalePrice(log)']\n",
    "# split X and y \n",
    "# make sure that 'test' here is different from 'test' in df_house_test\n",
    "X_train, X_test, y_train, y_test = train_test_split(X,y,test_size=0.2,random_state=42)"
   ]
  },
  {
   "cell_type": "code",
   "execution_count": 44,
   "id": "aefc9546",
   "metadata": {},
   "outputs": [],
   "source": [
    "# ordinary linear regression model\n",
    "line_fitter5 = LinearRegression()\n",
    "### turned models through series of parameter adjustments\n",
    "# linear models\n",
    "ridge_fitter5 = Ridge(alpha=149)\n",
    "lasso_fitter5 = Lasso(alpha=0.0018)\n",
    "elasticNet_fitter5 = ElasticNet(alpha = 0.13, l1_ratio=0.001)\n",
    "# ensemble models\n",
    "xgb_fitter5 = XGBRegressor(n_estimators=50)\n",
    "gbm_fitter5 = GradientBoostingRegressor(n_estimators=161)\n",
    "rf_fitter5 = RandomForestRegressor(n_estimators=180)\n",
    "lgbm_fitter5 = LGBMRegressor(n_estimators=126)\n",
    "bg_fitter5 = BaggingRegressor(n_estimators=162)\n",
    "et_fitter5 = ExtraTreesRegressor(n_estimators=159)"
   ]
  },
  {
   "cell_type": "code",
   "execution_count": 45,
   "id": "2d8e1ee3",
   "metadata": {},
   "outputs": [
    {
     "name": "stdout",
     "output_type": "stream",
     "text": [
      "##### LinearRegression #####\n",
      "RMSLE : 0.12991596077842069\n",
      "##### Ridge #####\n",
      "RMSLE : 0.1583054896668377\n",
      "##### Lasso #####\n",
      "RMSLE : 0.14574610425845388\n",
      "##### ElasticNet #####\n",
      "RMSLE : 0.15915185928723077\n",
      "##### XGBRegressor #####\n",
      "RMSLE : 0.12472176448088519\n",
      "##### GradientBoostingRegressor #####\n",
      "RMSLE : 0.07755916401800982\n",
      "##### RandomForestRegressor #####\n",
      "RMSLE : 0.1291696073019251\n",
      "##### LGBMRegressor #####\n",
      "RMSLE : 0.1120461502936317\n",
      "##### BaggingRegressor #####\n",
      "RMSLE : 0.12385936663628398\n",
      "##### ExtraTreesRegressor #####\n",
      "RMSLE : 0.14956524957979211\n"
     ]
    },
    {
     "data": {
      "text/plain": [
       "{'GradientBoostingRegressor(n_estimators=161)': 0.07755916401800982,\n",
       " 'LGBMRegressor(n_estimators=126)': 0.1120461502936317,\n",
       " 'BaggingRegressor(n_estimators=162)': 0.12385936663628398,\n",
       " \"XGBRegressor(base_score=0.5, booster='gbtree', callbacks=None,\\n             colsample_bylevel=1, colsample_bynode=1, colsample_bytree=1,\\n             early_stopping_rounds=None, enable_categorical=False,\\n             eval_metric=None, gamma=0, gpu_id=-1, grow_policy='depthwise',\\n             importance_type=None, interaction_constraints='',\\n             learning_rate=0.300000012, max_bin=256, max_cat_to_onehot=4,\\n             max_delta_step=0, max_depth=6, max_leaves=0, min_child_weight=1,\\n             missing=nan, monotone_constraints='()', n_estimators=50, n_jobs=0,\\n             num_parallel_tree=1, predictor='auto', random_state=0, reg_alpha=0,\\n             reg_lambda=1, ...)\": 0.12472176448088519,\n",
       " 'RandomForestRegressor(n_estimators=180)': 0.1291696073019251,\n",
       " 'LinearRegression()': 0.12991596077842069,\n",
       " 'Lasso(alpha=0.0018)': 0.14574610425845388,\n",
       " 'ExtraTreesRegressor(n_estimators=159)': 0.14956524957979211,\n",
       " 'Ridge(alpha=149)': 0.1583054896668377,\n",
       " 'ElasticNet(alpha=0.13, l1_ratio=0.001)': 0.15915185928723077}"
      ]
     },
     "execution_count": 45,
     "metadata": {},
     "output_type": "execute_result"
    }
   ],
   "source": [
    "### Print RMSLE values using the user-defined function above\n",
    "dict_rmsle = {}\n",
    "for model in [line_fitter5,ridge_fitter5,lasso_fitter5,elasticNet_fitter5,xgb_fitter5,gbm_fitter5,rf_fitter5,lgbm_fitter5,bg_fitter5,et_fitter5]:\n",
    "    rmsle_value = print_rmsle_values(model,X_train.values,X_test.values,y_train.values,y_test.values)\n",
    "    dict_rmsle[str(model)] = rmsle_value\n",
    "### Sort RMSLE values in ascending order\n",
    "{k: v for k, v in sorted(dict_rmsle.items(), key=lambda item: item[1])}"
   ]
  },
  {
   "cell_type": "code",
   "execution_count": 46,
   "id": "f70a8850",
   "metadata": {},
   "outputs": [],
   "source": [
    "### Feature Engineering\n",
    "df_house_test_extracted4['IndoorSF'] =  df_house_test_extracted4['BsmtFinSF1'] + df_house_test_extracted4['BsmtUnfSF'] \\\n",
    "                                + df_house_test_extracted4['TotalBsmtSF'] + df_house_test_extracted4['TotalBsmtSF'] \\\n",
    "                                + df_house_test_extracted4['1stFlrSF'] \\\n",
    "                                + df_house_test_extracted4['2ndFlrSF'] + df_house_test_extracted4['GrLivArea']\n",
    "df_house_test_extracted4['OutdoorSF'] = df_house_test_extracted4['WoodDeckSF'] + df_house_test_extracted4['OpenPorchSF']\n",
    "# drop used columns\n",
    "df_house_test_extracted4.drop(['BsmtFinSF1','BsmtUnfSF','TotalBsmtSF','TotalBsmtSF','1stFlrSF','2ndFlrSF','GrLivArea'],axis=1,inplace=True)\n",
    "df_house_test_extracted4.drop(['WoodDeckSF','OpenPorchSF'],axis=1,inplace=True)\n",
    "\n",
    "# reduced number of one hot encodings\n",
    "LotShape_ohe = pd.get_dummies(df_house_test['LotShape'],prefix='LotShape')\n",
    "MasVnrType_ohe = pd.get_dummies(df_house_test['MasVnrType'],prefix='MasVnrType')\n",
    "BsmtExposure_ohe = pd.get_dummies(df_house_test['BsmtExposure'],prefix='BsmtExposure')\n",
    "GarageFinish_ohe = pd.get_dummies(df_house_test['GarageFinish'],prefix='GarageFinish')\n",
    "\n",
    "df_house_test_extracted4_ = pd.concat([df_house_test_extracted4,LotShape_ohe,MasVnrType_ohe, BsmtExposure_ohe, GarageFinish_ohe],axis = 1)\n",
    "\n",
    "df_house_test_extracted4_.drop(['LotShape_','MasVnrType_' ,'BsmtExposure_' ,'GarageFinish_'],axis=1,inplace=True)\n",
    "\n",
    "col_lst = ['MSSubClass', 'MSZoning_', 'LotFrontage', 'LotArea', 'LotConfig_',\n",
    "       'Neighborhood_', 'HouseStyle_', 'OverallQual', 'OverallCond',\n",
    "       'RoofStyle_', 'MasVnrArea', 'ExterQual_', 'Foundation_', 'BsmtQual_',\n",
    "       'BsmtFinType1_', 'HeatingQC_', 'BsmtFullBath', 'FullBath', 'HalfBath',\n",
    "       'BedroomAbvGr', 'KitchenQual_', 'TotRmsAbvGrd', 'Fireplaces',\n",
    "       'FireplaceQu_', 'GarageType_', 'House_Age', 'Garage_Age', 'GarageCars',\n",
    "       'GarageArea', 'Exterior_Avg', 'IndoorSF', 'OutdoorSF']\n",
    "#--------------------------------------------------------------\n",
    "# create column and contain standardized data from the columns above, in sequence\n",
    "for i in range(len(col_lst)):\n",
    "    # standardize the data, using the library\n",
    "    array_tst = df_house_test_extracted4_[col_lst[i]].values.reshape(-1,1)\n",
    "    scaled_data_tst = scaler.fit_transform(array_tst) \n",
    "    # making new column's name\n",
    "    new_col = col_lst[i] + '(scaled)'\n",
    "    # create column for containing the standardized data\n",
    "    df_house_test_extracted4_[new_col] = scaled_data_tst"
   ]
  },
  {
   "cell_type": "code",
   "execution_count": 47,
   "id": "c81d9105",
   "metadata": {},
   "outputs": [],
   "source": [
    "df_house_test_extracted4_2b_predicted = df_house_test_extracted4_[['LotShape_IR1', 'LotShape_IR2', 'LotShape_IR3', 'LotShape_Reg',\n",
    "       'MasVnrType_BrkCmn', 'MasVnrType_BrkFace', 'MasVnrType_None',\n",
    "       'MasVnrType_Stone', 'BsmtExposure_Av', 'BsmtExposure_Gd',\n",
    "       'BsmtExposure_Mn', 'BsmtExposure_No', 'GarageFinish_Fin',\n",
    "       'GarageFinish_RFn', 'GarageFinish_Unf', 'MSSubClass(scaled)',\n",
    "       'MSZoning_(scaled)', 'LotFrontage(scaled)', 'LotArea(scaled)',\n",
    "       'LotConfig_(scaled)', 'Neighborhood_(scaled)', 'HouseStyle_(scaled)',\n",
    "       'OverallQual(scaled)', 'OverallCond(scaled)', 'RoofStyle_(scaled)',\n",
    "       'MasVnrArea(scaled)', 'ExterQual_(scaled)', 'Foundation_(scaled)',\n",
    "       'BsmtQual_(scaled)', 'BsmtFinType1_(scaled)', 'HeatingQC_(scaled)',\n",
    "       'BsmtFullBath(scaled)', 'FullBath(scaled)', 'HalfBath(scaled)',\n",
    "       'BedroomAbvGr(scaled)', 'KitchenQual_(scaled)', 'TotRmsAbvGrd(scaled)',\n",
    "       'Fireplaces(scaled)', 'FireplaceQu_(scaled)', 'GarageType_(scaled)',\n",
    "       'House_Age(scaled)', 'Garage_Age(scaled)', 'GarageCars(scaled)',\n",
    "       'GarageArea(scaled)', 'Exterior_Avg(scaled)',\n",
    "       'IndoorSF(scaled)', 'OutdoorSF(scaled)']]"
   ]
  },
  {
   "cell_type": "code",
   "execution_count": 48,
   "id": "a8d48e22",
   "metadata": {},
   "outputs": [],
   "source": [
    "result_from_model2 = gbm_fitter5.predict(df_house_test_extracted4_2b_predicted)"
   ]
  },
  {
   "cell_type": "code",
   "execution_count": 49,
   "id": "02719db9",
   "metadata": {},
   "outputs": [],
   "source": [
    "df_house_test4['SalePrice'] = 0\n",
    "df_house_test4['SalePrice'] = np.expm1(result_from_model2)"
   ]
  },
  {
   "cell_type": "code",
   "execution_count": 50,
   "id": "822c6c0f",
   "metadata": {},
   "outputs": [
    {
     "data": {
      "text/html": [
       "<div>\n",
       "<style scoped>\n",
       "    .dataframe tbody tr th:only-of-type {\n",
       "        vertical-align: middle;\n",
       "    }\n",
       "\n",
       "    .dataframe tbody tr th {\n",
       "        vertical-align: top;\n",
       "    }\n",
       "\n",
       "    .dataframe thead th {\n",
       "        text-align: right;\n",
       "    }\n",
       "</style>\n",
       "<table border=\"1\" class=\"dataframe\">\n",
       "  <thead>\n",
       "    <tr style=\"text-align: right;\">\n",
       "      <th></th>\n",
       "      <th>Id</th>\n",
       "      <th>SalePrice</th>\n",
       "    </tr>\n",
       "  </thead>\n",
       "  <tbody>\n",
       "    <tr>\n",
       "      <th>0</th>\n",
       "      <td>1461</td>\n",
       "      <td>125693.912665</td>\n",
       "    </tr>\n",
       "    <tr>\n",
       "      <th>1</th>\n",
       "      <td>1462</td>\n",
       "      <td>162388.140971</td>\n",
       "    </tr>\n",
       "    <tr>\n",
       "      <th>2</th>\n",
       "      <td>1463</td>\n",
       "      <td>174395.629767</td>\n",
       "    </tr>\n",
       "    <tr>\n",
       "      <th>3</th>\n",
       "      <td>1464</td>\n",
       "      <td>191257.975861</td>\n",
       "    </tr>\n",
       "    <tr>\n",
       "      <th>4</th>\n",
       "      <td>1465</td>\n",
       "      <td>180862.441224</td>\n",
       "    </tr>\n",
       "    <tr>\n",
       "      <th>...</th>\n",
       "      <td>...</td>\n",
       "      <td>...</td>\n",
       "    </tr>\n",
       "    <tr>\n",
       "      <th>1454</th>\n",
       "      <td>2915</td>\n",
       "      <td>82099.655363</td>\n",
       "    </tr>\n",
       "    <tr>\n",
       "      <th>1455</th>\n",
       "      <td>2916</td>\n",
       "      <td>91063.413328</td>\n",
       "    </tr>\n",
       "    <tr>\n",
       "      <th>1456</th>\n",
       "      <td>2917</td>\n",
       "      <td>187658.485909</td>\n",
       "    </tr>\n",
       "    <tr>\n",
       "      <th>1457</th>\n",
       "      <td>2918</td>\n",
       "      <td>113136.105453</td>\n",
       "    </tr>\n",
       "    <tr>\n",
       "      <th>1458</th>\n",
       "      <td>2919</td>\n",
       "      <td>229008.878691</td>\n",
       "    </tr>\n",
       "  </tbody>\n",
       "</table>\n",
       "<p>1459 rows × 2 columns</p>\n",
       "</div>"
      ],
      "text/plain": [
       "        Id      SalePrice\n",
       "0     1461  125693.912665\n",
       "1     1462  162388.140971\n",
       "2     1463  174395.629767\n",
       "3     1464  191257.975861\n",
       "4     1465  180862.441224\n",
       "...    ...            ...\n",
       "1454  2915   82099.655363\n",
       "1455  2916   91063.413328\n",
       "1456  2917  187658.485909\n",
       "1457  2918  113136.105453\n",
       "1458  2919  229008.878691\n",
       "\n",
       "[1459 rows x 2 columns]"
      ]
     },
     "execution_count": 50,
     "metadata": {},
     "output_type": "execute_result"
    }
   ],
   "source": [
    "df_house_test4[['Id','SalePrice']]"
   ]
  },
  {
   "cell_type": "code",
   "execution_count": 51,
   "id": "f8f8f61a",
   "metadata": {},
   "outputs": [],
   "source": [
    "df_house_test4[['Id','SalePrice']].to_csv('C:/Users/thsong/submission7_2.csv',index=False)"
   ]
  },
  {
   "cell_type": "code",
   "execution_count": null,
   "id": "b123c835",
   "metadata": {},
   "outputs": [],
   "source": []
  },
  {
   "cell_type": "markdown",
   "id": "6b92da51",
   "metadata": {},
   "source": [
    "### 5th trial"
   ]
  },
  {
   "cell_type": "code",
   "execution_count": 58,
   "id": "d05723b8",
   "metadata": {},
   "outputs": [],
   "source": [
    "### Feature Engineering\n",
    "# df_house_extracted5['IndoorSF'] =  df_house_extracted5['BsmtFinSF1'] + df_house_extracted5['BsmtUnfSF'] \\\n",
    "#                                 + df_house_extracted5['TotalBsmtSF'] + df_house_extracted5['TotalBsmtSF'] \\\n",
    "#                                 + df_house_extracted5['1stFlrSF'] \\\n",
    "#                                 + df_house_extracted5['2ndFlrSF'] + df_house_extracted5['GrLivArea']\n",
    "# df_house_extracted5['OutdoorSF'] = df_house_extracted5['WoodDeckSF'] + df_house_extracted5['OpenPorchSF']\n",
    "# # drop used columns\n",
    "# df_house_extracted5.drop(['BsmtFinSF1','BsmtUnfSF','TotalBsmtSF','TotalBsmtSF','1stFlrSF','2ndFlrSF','GrLivArea'],axis=1,inplace=True)\n",
    "# df_house_extracted5.drop(['WoodDeckSF','OpenPorchSF'],axis=1,inplace=True)\n",
    "#=======================================================================================================================================\n",
    "# reduced number of one hot encodings\n",
    "LotShape_ohe = pd.get_dummies(df_house['LotShape'],prefix='LotShape')\n",
    "MasVnrType_ohe = pd.get_dummies(df_house['MasVnrType'],prefix='MasVnrType')\n",
    "BsmtExposure_ohe = pd.get_dummies(df_house['BsmtExposure'],prefix='BsmtExposure')\n",
    "GarageFinish_ohe = pd.get_dummies(df_house['GarageFinish'],prefix='GarageFinish')\n",
    "#---------------\n",
    "df_house_extracted5_ = pd.concat([df_house_extracted5,LotShape_ohe,MasVnrType_ohe, BsmtExposure_ohe, GarageFinish_ohe],axis = 1)\n",
    "df_house_extracted5_.drop(['LotShape_','MasVnrType_' ,'BsmtExposure_' ,'GarageFinish_'],axis=1,inplace=True)\n",
    "#=======================================================================================================================================\n",
    "col_lst = ['MSSubClass', 'MSZoning_', 'LotFrontage', 'LotArea', 'LotConfig_',\n",
    "       'Neighborhood_', 'HouseStyle_', 'OverallQual', 'OverallCond',\n",
    "       'RoofStyle_', 'MasVnrArea', 'ExterQual_', 'Foundation_', 'BsmtQual_',\n",
    "       'BsmtFinType1_', 'HeatingQC_', 'BsmtFullBath', 'FullBath', 'HalfBath',\n",
    "       'BedroomAbvGr', 'KitchenQual_', 'TotRmsAbvGrd', 'Fireplaces',\n",
    "       'FireplaceQu_', 'GarageType_', 'House_Age', 'Garage_Age', 'GarageCars',\n",
    "       'GarageArea', 'Exterior_Avg', 'SalePrice']\n",
    "#--------------------------------------------------------------\n",
    "# create column and contain standardized data from the columns above, in sequence\n",
    "for i in range(len(col_lst)):\n",
    "    # standardize the data, using the library\n",
    "    array_tst = df_house_extracted5_[col_lst[i]].values.reshape(-1,1)\n",
    "    scaled_data_tst = scaler.fit_transform(array_tst) \n",
    "    # making new column's name\n",
    "    new_col = col_lst[i] + '(scaled)'\n",
    "    # create column for containing the standardized data\n",
    "    df_house_extracted5_[new_col] = scaled_data_tst\n",
    "#-----------------------------------------------------\n",
    "log_SalePrice = np.log1p(df_house_extracted5_['SalePrice'])\n",
    "df_house_extracted5_['SalePrice(log)'] = log_SalePrice\n",
    "#------------------------------\n",
    "X = df_house_extracted5_[['LotShape_IR1', 'LotShape_IR2', 'LotShape_IR3', 'LotShape_Reg',\n",
    "       'MasVnrType_BrkCmn', 'MasVnrType_BrkFace', 'MasVnrType_None',\n",
    "       'MasVnrType_Stone', 'BsmtExposure_Av', 'BsmtExposure_Gd',\n",
    "       'BsmtExposure_Mn', 'BsmtExposure_No', 'GarageFinish_Fin',\n",
    "       'GarageFinish_RFn', 'GarageFinish_Unf', 'MSSubClass(scaled)',\n",
    "       'MSZoning_(scaled)', 'LotFrontage(scaled)', 'LotArea(scaled)',\n",
    "       'LotConfig_(scaled)', 'Neighborhood_(scaled)', 'HouseStyle_(scaled)',\n",
    "       'OverallQual(scaled)', 'OverallCond(scaled)', 'RoofStyle_(scaled)',\n",
    "       'MasVnrArea(scaled)', 'ExterQual_(scaled)', 'Foundation_(scaled)',\n",
    "       'BsmtQual_(scaled)', 'BsmtFinType1_(scaled)', 'HeatingQC_(scaled)',\n",
    "       'BsmtFullBath(scaled)', 'FullBath(scaled)', 'HalfBath(scaled)',\n",
    "       'BedroomAbvGr(scaled)', 'KitchenQual_(scaled)', 'TotRmsAbvGrd(scaled)',\n",
    "       'Fireplaces(scaled)', 'FireplaceQu_(scaled)', 'GarageType_(scaled)',\n",
    "       'House_Age(scaled)', 'Garage_Age(scaled)', 'GarageCars(scaled)',\n",
    "       'GarageArea(scaled)', 'Exterior_Avg(scaled)']]\n",
    "y = df_house_extracted5_['SalePrice(log)']\n",
    "# split X and y \n",
    "# make sure that 'test' here is different from 'test' in df_house_test\n",
    "X_train, X_test, y_train, y_test = train_test_split(X,y,test_size=0.2,random_state=42)"
   ]
  },
  {
   "cell_type": "markdown",
   "id": "370b79c2",
   "metadata": {},
   "source": [
    "#### Tuning the models (5th trial)"
   ]
  },
  {
   "cell_type": "code",
   "execution_count": null,
   "id": "7c69b2e8",
   "metadata": {},
   "outputs": [],
   "source": []
  },
  {
   "cell_type": "code",
   "execution_count": 62,
   "id": "fc8552eb",
   "metadata": {},
   "outputs": [
    {
     "name": "stdout",
     "output_type": "stream",
     "text": [
      "when the model Ridge is taken with grid search cv = 5 the best avg rmse value is : 0.1529, and the best parameter is : {'alpha': 78.5}\n"
     ]
    }
   ],
   "source": [
    "ridge_params2 = {'alpha':[78,78.1,78.2,78.3,78.4,78.5,78.6]}\n",
    "print_best_params(ridge_fitter5,ridge_params2)"
   ]
  },
  {
   "cell_type": "code",
   "execution_count": 68,
   "id": "c9c5d805",
   "metadata": {
    "scrolled": false
   },
   "outputs": [
    {
     "name": "stdout",
     "output_type": "stream",
     "text": [
      "when the model Lasso is taken with grid search cv = 5 the best avg rmse value is : 0.1532, and the best parameter is : {'alpha': 0.0019}\n"
     ]
    }
   ],
   "source": [
    "lasso_params2 = {'alpha':[0.0017,0.0018,0.0019,0.002]}\n",
    "print_best_params(lasso_fitter5,lasso_params2)"
   ]
  },
  {
   "cell_type": "code",
   "execution_count": 77,
   "id": "3297da60",
   "metadata": {},
   "outputs": [
    {
     "name": "stdout",
     "output_type": "stream",
     "text": [
      "when the model ElasticNet is taken with grid search cv = 5 the best avg rmse value is : 0.1529, and the best parameter is : {'alpha': 0.068, 'l1_ratio': 0.0001}\n"
     ]
    }
   ],
   "source": [
    "eln_params2 = {'alpha':[0.01,0.03,0.04,0.05,0.06,0.065,0.066,0.067,0.068,0.069,0.07,0.071,0.072,0.073,0.074],\n",
    "            'l1_ratio':[0.0001]} # just 0.0001, not zero\n",
    "print_best_params(elasticNet_fitter5,eln_params2)"
   ]
  },
  {
   "cell_type": "code",
   "execution_count": 78,
   "id": "adda74db",
   "metadata": {},
   "outputs": [
    {
     "name": "stdout",
     "output_type": "stream",
     "text": [
      "when the model XGBRegressor is taken with grid search cv = 5 the best avg rmse value is : 0.155, and the best parameter is : {'n_estimators': 155}\n"
     ]
    }
   ],
   "source": [
    "candidate_params = {'n_estimators' : [150,151,152,153,154,155,156,157,158,159,160,161,162,163,164]}\n",
    "print_best_params(xgb_fitter5,candidate_params)"
   ]
  },
  {
   "cell_type": "code",
   "execution_count": 80,
   "id": "ed369025",
   "metadata": {},
   "outputs": [
    {
     "name": "stdout",
     "output_type": "stream",
     "text": [
      "when the model GradientBoostingRegressor is taken with grid search cv = 5 the best avg rmse value is : 0.1443, and the best parameter is : {'n_estimators': 165}\n"
     ]
    }
   ],
   "source": [
    "candidate_params = {'n_estimators' : [162,163,164,165,166,167,168,169,170]}\n",
    "print_best_params(gbm_fitter5,candidate_params)"
   ]
  },
  {
   "cell_type": "code",
   "execution_count": 81,
   "id": "0d2f80d9",
   "metadata": {},
   "outputs": [
    {
     "name": "stdout",
     "output_type": "stream",
     "text": [
      "when the model RandomForestRegressor is taken with grid search cv = 5 the best avg rmse value is : 0.1555, and the best parameter is : {'n_estimators': 156}\n"
     ]
    }
   ],
   "source": [
    "candidate_params = {'n_estimators' : [150,151,152,153,154,155,156,157,158,159,160,161,162,163,164]}\n",
    "print_best_params(rf_fitter5,candidate_params)"
   ]
  },
  {
   "cell_type": "code",
   "execution_count": 84,
   "id": "d479e1d8",
   "metadata": {},
   "outputs": [
    {
     "name": "stdout",
     "output_type": "stream",
     "text": [
      "when the model LGBMRegressor is taken with grid search cv = 5 the best avg rmse value is : 0.1478, and the best parameter is : {'n_estimators': 150}\n"
     ]
    }
   ],
   "source": [
    "candidate_params = {'n_estimators' : [120,130,140,145,146,147,148,149,150,151,152,153,154,155]}\n",
    "print_best_params(lgbm_fitter5,candidate_params)"
   ]
  },
  {
   "cell_type": "code",
   "execution_count": 85,
   "id": "d7bb75a0",
   "metadata": {},
   "outputs": [
    {
     "name": "stdout",
     "output_type": "stream",
     "text": [
      "when the model BaggingRegressor is taken with grid search cv = 5 the best avg rmse value is : 0.1559, and the best parameter is : {'n_estimators': 153}\n"
     ]
    }
   ],
   "source": [
    "candidate_params = {'n_estimators' : [150,151,152,153,154,155,156,157,158,159,160,161,162,163,164]}\n",
    "print_best_params(bg_fitter5,candidate_params)"
   ]
  },
  {
   "cell_type": "code",
   "execution_count": 86,
   "id": "51d509c9",
   "metadata": {},
   "outputs": [
    {
     "name": "stdout",
     "output_type": "stream",
     "text": [
      "when the model ExtraTreesRegressor is taken with grid search cv = 5 the best avg rmse value is : 0.1552, and the best parameter is : {'n_estimators': 152}\n"
     ]
    }
   ],
   "source": [
    "candidate_params = {'n_estimators' : [150,151,152,153,154,155,156,157,158,159,160,161,162,163,164]}\n",
    "print_best_params(et_fitter5,candidate_params)"
   ]
  },
  {
   "cell_type": "code",
   "execution_count": null,
   "id": "eb7d2574",
   "metadata": {},
   "outputs": [],
   "source": []
  },
  {
   "cell_type": "markdown",
   "id": "1b8b71fa",
   "metadata": {},
   "source": [
    "#### modeling, evaluating, and predicting (5th trial)"
   ]
  },
  {
   "cell_type": "code",
   "execution_count": 87,
   "id": "2a8213c5",
   "metadata": {},
   "outputs": [],
   "source": [
    "# ordinary linear regression model\n",
    "line_fitter6 = LinearRegression()\n",
    "### turned models through series of parameter adjustments\n",
    "# linear models\n",
    "ridge_fitter6 = Ridge(alpha=78.5)\n",
    "lasso_fitter6 = Lasso(alpha=0.0019)\n",
    "elasticNet_fitter6 = ElasticNet(alpha = 0.068, l1_ratio=0.0001)\n",
    "# ensemble models\n",
    "xgb_fitter6 = XGBRegressor(n_estimators=155)\n",
    "gbm_fitter6 = GradientBoostingRegressor(n_estimators=165)\n",
    "rf_fitter6 = RandomForestRegressor(n_estimators=156)\n",
    "lgbm_fitter6 = LGBMRegressor(n_estimators=150)\n",
    "bg_fitter6 = BaggingRegressor(n_estimators=153)\n",
    "et_fitter6 = ExtraTreesRegressor(n_estimators=152)"
   ]
  },
  {
   "cell_type": "code",
   "execution_count": 88,
   "id": "c88c8ac7",
   "metadata": {},
   "outputs": [
    {
     "name": "stdout",
     "output_type": "stream",
     "text": [
      "##### LinearRegression #####\n",
      "RMSLE : 0.1433213252723834\n",
      "##### Ridge #####\n",
      "RMSLE : 0.15719034138322352\n",
      "##### Lasso #####\n",
      "RMSLE : 0.15396166814290826\n",
      "##### ElasticNet #####\n",
      "RMSLE : 0.157329330260398\n",
      "##### XGBRegressor #####\n",
      "RMSLE : 0.16088338683796177\n",
      "##### GradientBoostingRegressor #####\n",
      "RMSLE : 0.07352283922471585\n",
      "##### RandomForestRegressor #####\n",
      "RMSLE : 0.11762316466618823\n",
      "##### LGBMRegressor #####\n",
      "RMSLE : 0.14380626895282755\n",
      "##### BaggingRegressor #####\n",
      "RMSLE : 0.11514550963050897\n",
      "##### ExtraTreesRegressor #####\n",
      "RMSLE : 0.18372789593559952\n"
     ]
    },
    {
     "data": {
      "text/plain": [
       "{'GradientBoostingRegressor(n_estimators=165)': 0.07352283922471585,\n",
       " 'BaggingRegressor(n_estimators=153)': 0.11514550963050897,\n",
       " 'RandomForestRegressor(n_estimators=156)': 0.11762316466618823,\n",
       " 'LinearRegression()': 0.1433213252723834,\n",
       " 'LGBMRegressor(n_estimators=150)': 0.14380626895282755,\n",
       " 'Lasso(alpha=0.0019)': 0.15396166814290826,\n",
       " 'Ridge(alpha=78.5)': 0.15719034138322352,\n",
       " 'ElasticNet(alpha=0.068, l1_ratio=0.0001)': 0.157329330260398,\n",
       " \"XGBRegressor(base_score=0.5, booster='gbtree', callbacks=None,\\n             colsample_bylevel=1, colsample_bynode=1, colsample_bytree=1,\\n             early_stopping_rounds=None, enable_categorical=False,\\n             eval_metric=None, gamma=0, gpu_id=-1, grow_policy='depthwise',\\n             importance_type=None, interaction_constraints='',\\n             learning_rate=0.300000012, max_bin=256, max_cat_to_onehot=4,\\n             max_delta_step=0, max_depth=6, max_leaves=0, min_child_weight=1,\\n             missing=nan, monotone_constraints='()', n_estimators=155, n_jobs=0,\\n             num_parallel_tree=1, predictor='auto', random_state=0, reg_alpha=0,\\n             reg_lambda=1, ...)\": 0.16088338683796177,\n",
       " 'ExtraTreesRegressor(n_estimators=152)': 0.18372789593559952}"
      ]
     },
     "execution_count": 88,
     "metadata": {},
     "output_type": "execute_result"
    }
   ],
   "source": [
    "### Print RMSLE values using the user-defined function above\n",
    "dict_rmsle = {}\n",
    "for model in [line_fitter6,ridge_fitter6,lasso_fitter6,elasticNet_fitter6,xgb_fitter6,gbm_fitter6,rf_fitter6,lgbm_fitter6,bg_fitter6,et_fitter6]:\n",
    "    rmsle_value = print_rmsle_values(model,X_train.values,X_test.values,y_train.values,y_test.values)\n",
    "    dict_rmsle[str(model)] = rmsle_value\n",
    "### Sort RMSLE values in ascending order\n",
    "{k: v for k, v in sorted(dict_rmsle.items(), key=lambda item: item[1])}"
   ]
  },
  {
   "cell_type": "code",
   "execution_count": null,
   "id": "a1071b8b",
   "metadata": {},
   "outputs": [],
   "source": []
  },
  {
   "cell_type": "code",
   "execution_count": 89,
   "id": "538d5d44",
   "metadata": {},
   "outputs": [],
   "source": [
    "### Feature Engineering\n",
    "# df_house_test_extracted5['IndoorSF'] =  df_house_test_extracted5['BsmtFinSF1'] + df_house_test_extracted5['BsmtUnfSF'] \\\n",
    "#                                 + df_house_test_extracted5['TotalBsmtSF'] + df_house_test_extracted5['TotalBsmtSF'] \\\n",
    "#                                 + df_house_test_extracted5['1stFlrSF'] \\\n",
    "#                                 + df_house_test_extracted5['2ndFlrSF'] + df_house_test_extracted5['GrLivArea']\n",
    "# df_house_test_extracted5['OutdoorSF'] = df_house_test_extracted5['WoodDeckSF'] + df_house_test_extracted5['OpenPorchSF']\n",
    "# # drop used columns\n",
    "# df_house_test_extracted5.drop(['BsmtFinSF1','BsmtUnfSF','TotalBsmtSF','TotalBsmtSF','1stFlrSF','2ndFlrSF','GrLivArea'],axis=1,inplace=True)\n",
    "# df_house_test_extracted5.drop(['WoodDeckSF','OpenPorchSF'],axis=1,inplace=True)\n",
    "#======================================================================================================================================\n",
    "# reduced number of one hot encodings\n",
    "LotShape_ohe = pd.get_dummies(df_house_test['LotShape'],prefix='LotShape')\n",
    "MasVnrType_ohe = pd.get_dummies(df_house_test['MasVnrType'],prefix='MasVnrType')\n",
    "BsmtExposure_ohe = pd.get_dummies(df_house_test['BsmtExposure'],prefix='BsmtExposure')\n",
    "GarageFinish_ohe = pd.get_dummies(df_house_test['GarageFinish'],prefix='GarageFinish')\n",
    "df_house_test_extracted5_ = pd.concat([df_house_test_extracted5,LotShape_ohe,MasVnrType_ohe, BsmtExposure_ohe, GarageFinish_ohe],axis = 1)\n",
    "df_house_test_extracted5_.drop(['LotShape_','MasVnrType_' ,'BsmtExposure_' ,'GarageFinish_'],axis=1,inplace=True)\n",
    "#======================================================================================================================================\n",
    "col_lst = ['MSSubClass', 'MSZoning_', 'LotFrontage', 'LotArea', 'LotConfig_',\n",
    "       'Neighborhood_', 'HouseStyle_', 'OverallQual', 'OverallCond',\n",
    "       'RoofStyle_', 'MasVnrArea', 'ExterQual_', 'Foundation_', 'BsmtQual_',\n",
    "       'BsmtFinType1_', 'HeatingQC_', 'BsmtFullBath', 'FullBath', 'HalfBath',\n",
    "       'BedroomAbvGr', 'KitchenQual_', 'TotRmsAbvGrd', 'Fireplaces',\n",
    "       'FireplaceQu_', 'GarageType_', 'House_Age', 'Garage_Age', 'GarageCars',\n",
    "       'GarageArea', 'Exterior_Avg']\n",
    "#--------------------------------------------------------------\n",
    "# create column and contain standardized data from the columns above, in sequence\n",
    "for i in range(len(col_lst)):\n",
    "    # standardize the data, using the library\n",
    "    array_tst = df_house_test_extracted5_[col_lst[i]].values.reshape(-1,1)\n",
    "    scaled_data_tst = scaler.fit_transform(array_tst) \n",
    "    # making new column's name\n",
    "    new_col = col_lst[i] + '(scaled)'\n",
    "    # create column for containing the standardized data\n",
    "    df_house_test_extracted5_[new_col] = scaled_data_tst"
   ]
  },
  {
   "cell_type": "code",
   "execution_count": 90,
   "id": "6ea60c53",
   "metadata": {},
   "outputs": [
    {
     "data": {
      "text/html": [
       "<div>\n",
       "<style scoped>\n",
       "    .dataframe tbody tr th:only-of-type {\n",
       "        vertical-align: middle;\n",
       "    }\n",
       "\n",
       "    .dataframe tbody tr th {\n",
       "        vertical-align: top;\n",
       "    }\n",
       "\n",
       "    .dataframe thead th {\n",
       "        text-align: right;\n",
       "    }\n",
       "</style>\n",
       "<table border=\"1\" class=\"dataframe\">\n",
       "  <thead>\n",
       "    <tr style=\"text-align: right;\">\n",
       "      <th></th>\n",
       "      <th>Id</th>\n",
       "      <th>SalePrice</th>\n",
       "    </tr>\n",
       "  </thead>\n",
       "  <tbody>\n",
       "    <tr>\n",
       "      <th>0</th>\n",
       "      <td>1461</td>\n",
       "      <td>126103.857678</td>\n",
       "    </tr>\n",
       "    <tr>\n",
       "      <th>1</th>\n",
       "      <td>1462</td>\n",
       "      <td>152296.428817</td>\n",
       "    </tr>\n",
       "    <tr>\n",
       "      <th>2</th>\n",
       "      <td>1463</td>\n",
       "      <td>165954.854838</td>\n",
       "    </tr>\n",
       "    <tr>\n",
       "      <th>3</th>\n",
       "      <td>1464</td>\n",
       "      <td>183630.973183</td>\n",
       "    </tr>\n",
       "    <tr>\n",
       "      <th>4</th>\n",
       "      <td>1465</td>\n",
       "      <td>180139.668145</td>\n",
       "    </tr>\n",
       "    <tr>\n",
       "      <th>...</th>\n",
       "      <td>...</td>\n",
       "      <td>...</td>\n",
       "    </tr>\n",
       "    <tr>\n",
       "      <th>1454</th>\n",
       "      <td>2915</td>\n",
       "      <td>80973.947559</td>\n",
       "    </tr>\n",
       "    <tr>\n",
       "      <th>1455</th>\n",
       "      <td>2916</td>\n",
       "      <td>89445.912706</td>\n",
       "    </tr>\n",
       "    <tr>\n",
       "      <th>1456</th>\n",
       "      <td>2917</td>\n",
       "      <td>188409.736017</td>\n",
       "    </tr>\n",
       "    <tr>\n",
       "      <th>1457</th>\n",
       "      <td>2918</td>\n",
       "      <td>114581.581310</td>\n",
       "    </tr>\n",
       "    <tr>\n",
       "      <th>1458</th>\n",
       "      <td>2919</td>\n",
       "      <td>213363.854056</td>\n",
       "    </tr>\n",
       "  </tbody>\n",
       "</table>\n",
       "<p>1459 rows × 2 columns</p>\n",
       "</div>"
      ],
      "text/plain": [
       "        Id      SalePrice\n",
       "0     1461  126103.857678\n",
       "1     1462  152296.428817\n",
       "2     1463  165954.854838\n",
       "3     1464  183630.973183\n",
       "4     1465  180139.668145\n",
       "...    ...            ...\n",
       "1454  2915   80973.947559\n",
       "1455  2916   89445.912706\n",
       "1456  2917  188409.736017\n",
       "1457  2918  114581.581310\n",
       "1458  2919  213363.854056\n",
       "\n",
       "[1459 rows x 2 columns]"
      ]
     },
     "execution_count": 90,
     "metadata": {},
     "output_type": "execute_result"
    }
   ],
   "source": [
    "df_house_test_extracted5_2b_predicted = df_house_test_extracted5_[['LotShape_IR1', 'LotShape_IR2', 'LotShape_IR3', 'LotShape_Reg',\n",
    "       'MasVnrType_BrkCmn', 'MasVnrType_BrkFace', 'MasVnrType_None',\n",
    "       'MasVnrType_Stone', 'BsmtExposure_Av', 'BsmtExposure_Gd',\n",
    "       'BsmtExposure_Mn', 'BsmtExposure_No', 'GarageFinish_Fin',\n",
    "       'GarageFinish_RFn', 'GarageFinish_Unf', 'MSSubClass(scaled)',\n",
    "       'MSZoning_(scaled)', 'LotFrontage(scaled)', 'LotArea(scaled)',\n",
    "       'LotConfig_(scaled)', 'Neighborhood_(scaled)', 'HouseStyle_(scaled)',\n",
    "       'OverallQual(scaled)', 'OverallCond(scaled)', 'RoofStyle_(scaled)',\n",
    "       'MasVnrArea(scaled)', 'ExterQual_(scaled)', 'Foundation_(scaled)',\n",
    "       'BsmtQual_(scaled)', 'BsmtFinType1_(scaled)', 'HeatingQC_(scaled)',\n",
    "       'BsmtFullBath(scaled)', 'FullBath(scaled)', 'HalfBath(scaled)',\n",
    "       'BedroomAbvGr(scaled)', 'KitchenQual_(scaled)', 'TotRmsAbvGrd(scaled)',\n",
    "       'Fireplaces(scaled)', 'FireplaceQu_(scaled)', 'GarageType_(scaled)',\n",
    "       'House_Age(scaled)', 'Garage_Age(scaled)', 'GarageCars(scaled)',\n",
    "       'GarageArea(scaled)', 'Exterior_Avg(scaled)']]\n",
    "result_from_model3 = gbm_fitter6.predict(df_house_test_extracted5_2b_predicted)\n",
    "df_house_test5['SalePrice'] = 0\n",
    "df_house_test5['SalePrice'] = np.expm1(result_from_model3)\n",
    "df_house_test5[['Id','SalePrice']]"
   ]
  },
  {
   "cell_type": "code",
   "execution_count": 91,
   "id": "03d54ffa",
   "metadata": {},
   "outputs": [],
   "source": [
    "df_house_test5[['Id','SalePrice']].to_csv('C:/Users/thsong/submission8.csv',index=False)"
   ]
  },
  {
   "cell_type": "code",
   "execution_count": null,
   "id": "194117ac",
   "metadata": {},
   "outputs": [],
   "source": []
  },
  {
   "cell_type": "markdown",
   "id": "3d6a70a5",
   "metadata": {},
   "source": [
    "### 6th trial"
   ]
  },
  {
   "cell_type": "code",
   "execution_count": 95,
   "id": "3ff2442c",
   "metadata": {},
   "outputs": [],
   "source": [
    "### Feature Engineering\n",
    "df_house_extracted6['IndoorSF'] =  df_house_extracted6['BsmtFinSF1'] + df_house_extracted6['BsmtUnfSF'] \\\n",
    "                                + df_house_extracted6['TotalBsmtSF'] + df_house_extracted6['TotalBsmtSF'] \\\n",
    "                                + df_house_extracted6['1stFlrSF'] \\\n",
    "                                + df_house_extracted6['2ndFlrSF'] + df_house_extracted6['GrLivArea']\n",
    "df_house_extracted6['OutdoorSF'] = df_house_extracted6['WoodDeckSF'] + df_house_extracted6['OpenPorchSF']\n",
    "# drop used columns\n",
    "df_house_extracted6.drop(['BsmtFinSF1','BsmtUnfSF','TotalBsmtSF','TotalBsmtSF','1stFlrSF','2ndFlrSF','GrLivArea'],axis=1,inplace=True)\n",
    "df_house_extracted6.drop(['WoodDeckSF','OpenPorchSF'],axis=1,inplace=True)\n",
    "#=======================================================================================================================================\n",
    "# # reduced number of one hot encodings\n",
    "# LotShape_ohe = pd.get_dummies(df_house['LotShape'],prefix='LotShape')\n",
    "# MasVnrType_ohe = pd.get_dummies(df_house['MasVnrType'],prefix='MasVnrType')\n",
    "# BsmtExposure_ohe = pd.get_dummies(df_house['BsmtExposure'],prefix='BsmtExposure')\n",
    "# GarageFinish_ohe = pd.get_dummies(df_house['GarageFinish'],prefix='GarageFinish')\n",
    "# #---------------\n",
    "# df_house_extracted6_ = pd.concat([df_house_extracted6,LotShape_ohe,MasVnrType_ohe, BsmtExposure_ohe, GarageFinish_ohe],axis = 1)\n",
    "# df_house_extracted6_.drop(['LotShape_','MasVnrType_' ,'BsmtExposure_' ,'GarageFinish_'],axis=1,inplace=True)\n",
    "#=======================================================================================================================================\n",
    "col_lst = [\n",
    "        'LotShape_','MasVnrType_','BsmtExposure_','GarageFinish_',\n",
    "    \n",
    "        'MSSubClass', 'MSZoning_', 'LotFrontage', 'LotArea', 'LotConfig_',\n",
    "       'Neighborhood_', 'HouseStyle_', 'OverallQual', 'OverallCond',\n",
    "       'RoofStyle_', 'MasVnrArea', 'ExterQual_', 'Foundation_', 'BsmtQual_',\n",
    "       'BsmtFinType1_', 'HeatingQC_', 'BsmtFullBath', 'FullBath', 'HalfBath',\n",
    "       'BedroomAbvGr', 'KitchenQual_', 'TotRmsAbvGrd', 'Fireplaces',\n",
    "       'FireplaceQu_', 'GarageType_', 'House_Age', 'Garage_Age', 'GarageCars',\n",
    "       'GarageArea', 'Exterior_Avg', 'SalePrice', 'IndoorSF', 'OutdoorSF']\n",
    "#--------------------------------------------------------------\n",
    "# create column and contain standardized data from the columns above, in sequence\n",
    "for i in range(len(col_lst)):\n",
    "    # standardize the data, using the library\n",
    "    array_tst = df_house_extracted6[col_lst[i]].values.reshape(-1,1)\n",
    "    scaled_data_tst = scaler.fit_transform(array_tst) \n",
    "    # making new column's name\n",
    "    new_col = col_lst[i] + '(scaled)'\n",
    "    # create column for containing the standardized data\n",
    "    df_house_extracted6[new_col] = scaled_data_tst\n",
    "#-----------------------------------------------------\n",
    "log_SalePrice = np.log1p(df_house_extracted6['SalePrice'])\n",
    "df_house_extracted6['SalePrice(log)'] = log_SalePrice\n",
    "#------------------------------\n",
    "X = df_house_extracted6[[\n",
    "        'LotShape_(scaled)','MasVnrType_(scaled)','BsmtExposure_(scaled)','GarageFinish_(scaled)',                \n",
    "        \n",
    "        'MSSubClass(scaled)','MSZoning_(scaled)', 'LotFrontage(scaled)', 'LotArea(scaled)',\n",
    "       'LotConfig_(scaled)', 'Neighborhood_(scaled)', 'HouseStyle_(scaled)',\n",
    "       'OverallQual(scaled)', 'OverallCond(scaled)', 'RoofStyle_(scaled)',\n",
    "       'MasVnrArea(scaled)', 'ExterQual_(scaled)', 'Foundation_(scaled)',\n",
    "       'BsmtQual_(scaled)', 'BsmtFinType1_(scaled)', 'HeatingQC_(scaled)',\n",
    "       'BsmtFullBath(scaled)', 'FullBath(scaled)', 'HalfBath(scaled)',\n",
    "       'BedroomAbvGr(scaled)', 'KitchenQual_(scaled)', 'TotRmsAbvGrd(scaled)',\n",
    "       'Fireplaces(scaled)', 'FireplaceQu_(scaled)', 'GarageType_(scaled)',\n",
    "       'House_Age(scaled)', 'Garage_Age(scaled)', 'GarageCars(scaled)',\n",
    "       'GarageArea(scaled)', 'Exterior_Avg(scaled)',\n",
    "       'IndoorSF(scaled)', 'OutdoorSF(scaled)']]\n",
    "y = df_house_extracted6['SalePrice(log)']\n",
    "# split X and y \n",
    "# make sure that 'test' here is different from 'test' in df_house_test\n",
    "X_train, X_test, y_train, y_test = train_test_split(X,y,test_size=0.2,random_state=42)"
   ]
  },
  {
   "cell_type": "code",
   "execution_count": null,
   "id": "d791862f",
   "metadata": {},
   "outputs": [],
   "source": []
  },
  {
   "cell_type": "code",
   "execution_count": null,
   "id": "65a43be5",
   "metadata": {},
   "outputs": [],
   "source": []
  },
  {
   "cell_type": "markdown",
   "id": "4ee40e93",
   "metadata": {},
   "source": [
    "#### Tuning the models (6th trial)"
   ]
  },
  {
   "cell_type": "code",
   "execution_count": 100,
   "id": "3216292a",
   "metadata": {},
   "outputs": [
    {
     "name": "stdout",
     "output_type": "stream",
     "text": [
      "when the model Ridge is taken with grid search cv = 5 the best avg rmse value is : 0.1523, and the best parameter is : {'alpha': 171}\n"
     ]
    }
   ],
   "source": [
    "ridge_params2 = {'alpha':[165,166,167,168,169,170,171,172,173,174]}\n",
    "print_best_params(ridge_fitter5,ridge_params2)"
   ]
  },
  {
   "cell_type": "code",
   "execution_count": 107,
   "id": "44cf41a8",
   "metadata": {},
   "outputs": [
    {
     "name": "stdout",
     "output_type": "stream",
     "text": [
      "when the model Lasso is taken with grid search cv = 5 the best avg rmse value is : 0.1535, and the best parameter is : {'alpha': 0.0024}\n"
     ]
    }
   ],
   "source": [
    "lasso_params2 = {'alpha':[0.0023,0.0024,0.0025,0.0026,0.0027,0.0028,0.003]}\n",
    "print_best_params(lasso_fitter5,lasso_params2)"
   ]
  },
  {
   "cell_type": "code",
   "execution_count": 111,
   "id": "565f60a7",
   "metadata": {},
   "outputs": [
    {
     "name": "stdout",
     "output_type": "stream",
     "text": [
      "when the model ElasticNet is taken with grid search cv = 5 the best avg rmse value is : 0.1523, and the best parameter is : {'alpha': 0.1, 'l1_ratio': 0.01}\n"
     ]
    }
   ],
   "source": [
    "eln_params2 = {'alpha':[0.074,0.08,0.09,0.1,0.2,0.3,0.4,0.5,0.6,0.7,0.8,0.9],\n",
    "            'l1_ratio':[0.0001,0.001,0.01,0.1,1]} # just 0.0001, not zero\n",
    "print_best_params(elasticNet_fitter5,eln_params2)"
   ]
  },
  {
   "cell_type": "code",
   "execution_count": 116,
   "id": "20350cd1",
   "metadata": {},
   "outputs": [
    {
     "name": "stdout",
     "output_type": "stream",
     "text": [
      "when the model XGBRegressor is taken with grid search cv = 5 the best avg rmse value is : 0.1428, and the best parameter is : {'n_estimators': 110}\n"
     ]
    }
   ],
   "source": [
    "candidate_params = {'n_estimators' : [90,100,110,111]}\n",
    "print_best_params(xgb_fitter5,candidate_params)"
   ]
  },
  {
   "cell_type": "code",
   "execution_count": 117,
   "id": "82d126a8",
   "metadata": {},
   "outputs": [
    {
     "name": "stdout",
     "output_type": "stream",
     "text": [
      "when the model GradientBoostingRegressor is taken with grid search cv = 5 the best avg rmse value is : 0.1297, and the best parameter is : {'n_estimators': 167}\n"
     ]
    }
   ],
   "source": [
    "candidate_params = {'n_estimators' : [162,163,164,165,166,167,168,169,170]}\n",
    "print_best_params(gbm_fitter5,candidate_params)"
   ]
  },
  {
   "cell_type": "code",
   "execution_count": 120,
   "id": "b1d45b09",
   "metadata": {},
   "outputs": [
    {
     "name": "stdout",
     "output_type": "stream",
     "text": [
      "when the model RandomForestRegressor is taken with grid search cv = 5 the best avg rmse value is : 0.1442, and the best parameter is : {'n_estimators': 148}\n"
     ]
    }
   ],
   "source": [
    "candidate_params = {'n_estimators' : [140,145,146,147,148,149,150,151]}\n",
    "print_best_params(rf_fitter5,candidate_params)"
   ]
  },
  {
   "cell_type": "code",
   "execution_count": 122,
   "id": "be078e5f",
   "metadata": {},
   "outputs": [
    {
     "name": "stdout",
     "output_type": "stream",
     "text": [
      "when the model LGBMRegressor is taken with grid search cv = 5 the best avg rmse value is : 0.1349, and the best parameter is : {'n_estimators': 116}\n"
     ]
    }
   ],
   "source": [
    "candidate_params = {'n_estimators' : [115,116,117,118,119,120,121]}\n",
    "print_best_params(lgbm_fitter5,candidate_params)"
   ]
  },
  {
   "cell_type": "code",
   "execution_count": 123,
   "id": "7b4271e8",
   "metadata": {},
   "outputs": [
    {
     "name": "stdout",
     "output_type": "stream",
     "text": [
      "when the model BaggingRegressor is taken with grid search cv = 5 the best avg rmse value is : 0.1441, and the best parameter is : {'n_estimators': 155}\n"
     ]
    }
   ],
   "source": [
    "candidate_params = {'n_estimators' : [150,151,152,153,154,155,156,157,158,159,160,161,162,163,164]}\n",
    "print_best_params(bg_fitter5,candidate_params)"
   ]
  },
  {
   "cell_type": "code",
   "execution_count": 125,
   "id": "a8407396",
   "metadata": {},
   "outputs": [
    {
     "name": "stdout",
     "output_type": "stream",
     "text": [
      "when the model ExtraTreesRegressor is taken with grid search cv = 5 the best avg rmse value is : 0.1411, and the best parameter is : {'n_estimators': 163}\n"
     ]
    }
   ],
   "source": [
    "candidate_params = {'n_estimators' : [160,161,162,163,164,165,166]}\n",
    "print_best_params(et_fitter5,candidate_params)"
   ]
  },
  {
   "cell_type": "code",
   "execution_count": null,
   "id": "9665bbcb",
   "metadata": {},
   "outputs": [],
   "source": []
  },
  {
   "cell_type": "markdown",
   "id": "d6c048f9",
   "metadata": {},
   "source": [
    "#### modeling, evaluating, and predicting (6th trial)"
   ]
  },
  {
   "cell_type": "code",
   "execution_count": 126,
   "id": "15b532cf",
   "metadata": {},
   "outputs": [],
   "source": [
    "# ordinary linear regression model\n",
    "line_fitter7 = LinearRegression()\n",
    "### turned models through series of parameter adjustments\n",
    "# linear models\n",
    "ridge_fitter7 = Ridge(alpha=171)\n",
    "lasso_fitter7 = Lasso(alpha=0.0024)\n",
    "elasticNet_fitter7 = ElasticNet(alpha = 0.1, l1_ratio=0.001)\n",
    "# ensemble models\n",
    "xgb_fitter7 = XGBRegressor(n_estimators=110)\n",
    "gbm_fitter7 = GradientBoostingRegressor(n_estimators=167)\n",
    "rf_fitter7 = RandomForestRegressor(n_estimators=148)\n",
    "lgbm_fitter7 = LGBMRegressor(n_estimators=116)\n",
    "bg_fitter7 = BaggingRegressor(n_estimators=155)\n",
    "et_fitter7 = ExtraTreesRegressor(n_estimators=163)"
   ]
  },
  {
   "cell_type": "code",
   "execution_count": 127,
   "id": "f52b727e",
   "metadata": {},
   "outputs": [
    {
     "name": "stdout",
     "output_type": "stream",
     "text": [
      "##### LinearRegression #####\n",
      "RMSLE : 0.1378444976733832\n",
      "##### Ridge #####\n",
      "RMSLE : 0.15876820593967056\n",
      "##### Lasso #####\n",
      "RMSLE : 0.14605514145023765\n",
      "##### ElasticNet #####\n",
      "RMSLE : 0.15348942078351083\n",
      "##### XGBRegressor #####\n",
      "RMSLE : 0.134234166618854\n",
      "##### GradientBoostingRegressor #####\n",
      "RMSLE : 0.06682462867398456\n",
      "##### RandomForestRegressor #####\n",
      "RMSLE : 0.12243313396813654\n",
      "##### LGBMRegressor #####\n",
      "RMSLE : 0.10268879201726082\n",
      "##### BaggingRegressor #####\n",
      "RMSLE : 0.12545236603021082\n",
      "##### ExtraTreesRegressor #####\n",
      "RMSLE : 0.14356653683158443\n"
     ]
    },
    {
     "data": {
      "text/plain": [
       "{'GradientBoostingRegressor(n_estimators=167)': 0.06682462867398456,\n",
       " 'LGBMRegressor(n_estimators=116)': 0.10268879201726082,\n",
       " 'RandomForestRegressor(n_estimators=148)': 0.12243313396813654,\n",
       " 'BaggingRegressor(n_estimators=155)': 0.12545236603021082,\n",
       " \"XGBRegressor(base_score=0.5, booster='gbtree', callbacks=None,\\n             colsample_bylevel=1, colsample_bynode=1, colsample_bytree=1,\\n             early_stopping_rounds=None, enable_categorical=False,\\n             eval_metric=None, gamma=0, gpu_id=-1, grow_policy='depthwise',\\n             importance_type=None, interaction_constraints='',\\n             learning_rate=0.300000012, max_bin=256, max_cat_to_onehot=4,\\n             max_delta_step=0, max_depth=6, max_leaves=0, min_child_weight=1,\\n             missing=nan, monotone_constraints='()', n_estimators=110, n_jobs=0,\\n             num_parallel_tree=1, predictor='auto', random_state=0, reg_alpha=0,\\n             reg_lambda=1, ...)\": 0.134234166618854,\n",
       " 'LinearRegression()': 0.1378444976733832,\n",
       " 'ExtraTreesRegressor(n_estimators=163)': 0.14356653683158443,\n",
       " 'Lasso(alpha=0.0024)': 0.14605514145023765,\n",
       " 'ElasticNet(alpha=0.1, l1_ratio=0.001)': 0.15348942078351083,\n",
       " 'Ridge(alpha=171)': 0.15876820593967056}"
      ]
     },
     "execution_count": 127,
     "metadata": {},
     "output_type": "execute_result"
    }
   ],
   "source": [
    "### Print RMSLE values using the user-defined function above\n",
    "dict_rmsle = {}\n",
    "for model in [line_fitter7,ridge_fitter7,lasso_fitter7,elasticNet_fitter7,xgb_fitter7,gbm_fitter7,rf_fitter7,lgbm_fitter7,bg_fitter7,et_fitter7]:\n",
    "    rmsle_value = print_rmsle_values(model,X_train.values,X_test.values,y_train.values,y_test.values)\n",
    "    dict_rmsle[str(model)] = rmsle_value\n",
    "### Sort RMSLE values in ascending order\n",
    "{k: v for k, v in sorted(dict_rmsle.items(), key=lambda item: item[1])}"
   ]
  },
  {
   "cell_type": "code",
   "execution_count": null,
   "id": "230aaf49",
   "metadata": {},
   "outputs": [],
   "source": []
  },
  {
   "cell_type": "code",
   "execution_count": 128,
   "id": "d38d477e",
   "metadata": {},
   "outputs": [],
   "source": [
    "### Feature Engineering\n",
    "df_house_test_extracted6['IndoorSF'] =  df_house_test_extracted6['BsmtFinSF1'] + df_house_test_extracted6['BsmtUnfSF'] \\\n",
    "                                + df_house_test_extracted6['TotalBsmtSF'] + df_house_test_extracted6['TotalBsmtSF'] \\\n",
    "                                + df_house_test_extracted6['1stFlrSF'] \\\n",
    "                                + df_house_test_extracted6['2ndFlrSF'] + df_house_test_extracted6['GrLivArea']\n",
    "df_house_test_extracted6['OutdoorSF'] = df_house_test_extracted6['WoodDeckSF'] + df_house_test_extracted6['OpenPorchSF']\n",
    "# drop used columns\n",
    "df_house_test_extracted6.drop(['BsmtFinSF1','BsmtUnfSF','TotalBsmtSF','TotalBsmtSF','1stFlrSF','2ndFlrSF','GrLivArea'],axis=1,inplace=True)\n",
    "df_house_test_extracted6.drop(['WoodDeckSF','OpenPorchSF'],axis=1,inplace=True)\n",
    "\n",
    "#=======================================================================================================================================\n",
    "# # reduced number of one hot encodings\n",
    "# LotShape_ohe = pd.get_dummies(df_house_test['LotShape'],prefix='LotShape')\n",
    "# MasVnrType_ohe = pd.get_dummies(df_house_test['MasVnrType'],prefix='MasVnrType')\n",
    "# BsmtExposure_ohe = pd.get_dummies(df_house_test['BsmtExposure'],prefix='BsmtExposure')\n",
    "# GarageFinish_ohe = pd.get_dummies(df_house_test['GarageFinish'],prefix='GarageFinish')\n",
    "# df_house_test_extracted6_ = pd.concat([df_house_test_extracted6,LotShape_ohe,MasVnrType_ohe, BsmtExposure_ohe, GarageFinish_ohe],axis = 1)\n",
    "# df_house_test_extracted6_.drop(['LotShape_','MasVnrType_' ,'BsmtExposure_' ,'GarageFinish_'],axis=1,inplace=True)\n",
    "#=======================================================================================================================================\n",
    "col_lst = [\n",
    "        'LotShape_','MasVnrType_' ,'BsmtExposure_' ,'GarageFinish_',\n",
    "    \n",
    "        'MSSubClass', 'MSZoning_', 'LotFrontage', 'LotArea', 'LotConfig_',\n",
    "       'Neighborhood_', 'HouseStyle_', 'OverallQual', 'OverallCond',\n",
    "       'RoofStyle_', 'MasVnrArea', 'ExterQual_', 'Foundation_', 'BsmtQual_',\n",
    "       'BsmtFinType1_', 'HeatingQC_', 'BsmtFullBath', 'FullBath', 'HalfBath',\n",
    "       'BedroomAbvGr', 'KitchenQual_', 'TotRmsAbvGrd', 'Fireplaces',\n",
    "       'FireplaceQu_', 'GarageType_', 'House_Age', 'Garage_Age', 'GarageCars',\n",
    "       'GarageArea', 'Exterior_Avg', 'IndoorSF', 'OutdoorSF']\n",
    "#--------------------------------------------------------------\n",
    "# create column and contain standardized data from the columns above, in sequence\n",
    "for i in range(len(col_lst)):\n",
    "    # standardize the data, using the library\n",
    "    array_tst = df_house_test_extracted6[col_lst[i]].values.reshape(-1,1)\n",
    "    scaled_data_tst = scaler.fit_transform(array_tst) \n",
    "    # making new column's name\n",
    "    new_col = col_lst[i] + '(scaled)'\n",
    "    # create column for containing the standardized data\n",
    "    df_house_test_extracted6[new_col] = scaled_data_tst"
   ]
  },
  {
   "cell_type": "code",
   "execution_count": 129,
   "id": "3358d656",
   "metadata": {},
   "outputs": [
    {
     "data": {
      "text/html": [
       "<div>\n",
       "<style scoped>\n",
       "    .dataframe tbody tr th:only-of-type {\n",
       "        vertical-align: middle;\n",
       "    }\n",
       "\n",
       "    .dataframe tbody tr th {\n",
       "        vertical-align: top;\n",
       "    }\n",
       "\n",
       "    .dataframe thead th {\n",
       "        text-align: right;\n",
       "    }\n",
       "</style>\n",
       "<table border=\"1\" class=\"dataframe\">\n",
       "  <thead>\n",
       "    <tr style=\"text-align: right;\">\n",
       "      <th></th>\n",
       "      <th>Id</th>\n",
       "      <th>SalePrice</th>\n",
       "    </tr>\n",
       "  </thead>\n",
       "  <tbody>\n",
       "    <tr>\n",
       "      <th>0</th>\n",
       "      <td>1461</td>\n",
       "      <td>124203.758754</td>\n",
       "    </tr>\n",
       "    <tr>\n",
       "      <th>1</th>\n",
       "      <td>1462</td>\n",
       "      <td>167328.030224</td>\n",
       "    </tr>\n",
       "    <tr>\n",
       "      <th>2</th>\n",
       "      <td>1463</td>\n",
       "      <td>176327.952849</td>\n",
       "    </tr>\n",
       "    <tr>\n",
       "      <th>3</th>\n",
       "      <td>1464</td>\n",
       "      <td>191670.258745</td>\n",
       "    </tr>\n",
       "    <tr>\n",
       "      <th>4</th>\n",
       "      <td>1465</td>\n",
       "      <td>178827.714588</td>\n",
       "    </tr>\n",
       "    <tr>\n",
       "      <th>...</th>\n",
       "      <td>...</td>\n",
       "      <td>...</td>\n",
       "    </tr>\n",
       "    <tr>\n",
       "      <th>1454</th>\n",
       "      <td>2915</td>\n",
       "      <td>81083.194442</td>\n",
       "    </tr>\n",
       "    <tr>\n",
       "      <th>1455</th>\n",
       "      <td>2916</td>\n",
       "      <td>90254.482749</td>\n",
       "    </tr>\n",
       "    <tr>\n",
       "      <th>1456</th>\n",
       "      <td>2917</td>\n",
       "      <td>186014.625362</td>\n",
       "    </tr>\n",
       "    <tr>\n",
       "      <th>1457</th>\n",
       "      <td>2918</td>\n",
       "      <td>112860.923656</td>\n",
       "    </tr>\n",
       "    <tr>\n",
       "      <th>1458</th>\n",
       "      <td>2919</td>\n",
       "      <td>226925.029173</td>\n",
       "    </tr>\n",
       "  </tbody>\n",
       "</table>\n",
       "<p>1459 rows × 2 columns</p>\n",
       "</div>"
      ],
      "text/plain": [
       "        Id      SalePrice\n",
       "0     1461  124203.758754\n",
       "1     1462  167328.030224\n",
       "2     1463  176327.952849\n",
       "3     1464  191670.258745\n",
       "4     1465  178827.714588\n",
       "...    ...            ...\n",
       "1454  2915   81083.194442\n",
       "1455  2916   90254.482749\n",
       "1456  2917  186014.625362\n",
       "1457  2918  112860.923656\n",
       "1458  2919  226925.029173\n",
       "\n",
       "[1459 rows x 2 columns]"
      ]
     },
     "execution_count": 129,
     "metadata": {},
     "output_type": "execute_result"
    }
   ],
   "source": [
    "df_house_test_extracted6_2b_predicted = df_house_test_extracted6[[\n",
    "        'LotShape_(scaled)','MasVnrType_(scaled)','BsmtExposure_(scaled)','GarageFinish_(scaled)',\n",
    "        \n",
    "        'MSSubClass(scaled)','MSZoning_(scaled)', 'LotFrontage(scaled)', 'LotArea(scaled)',\n",
    "       'LotConfig_(scaled)', 'Neighborhood_(scaled)', 'HouseStyle_(scaled)',\n",
    "       'OverallQual(scaled)', 'OverallCond(scaled)', 'RoofStyle_(scaled)',\n",
    "       'MasVnrArea(scaled)', 'ExterQual_(scaled)', 'Foundation_(scaled)',\n",
    "       'BsmtQual_(scaled)', 'BsmtFinType1_(scaled)', 'HeatingQC_(scaled)',\n",
    "       'BsmtFullBath(scaled)', 'FullBath(scaled)', 'HalfBath(scaled)',\n",
    "       'BedroomAbvGr(scaled)', 'KitchenQual_(scaled)', 'TotRmsAbvGrd(scaled)',\n",
    "       'Fireplaces(scaled)', 'FireplaceQu_(scaled)', 'GarageType_(scaled)',\n",
    "       'House_Age(scaled)', 'Garage_Age(scaled)', 'GarageCars(scaled)',\n",
    "       'GarageArea(scaled)', 'Exterior_Avg(scaled)',\n",
    "       'IndoorSF(scaled)', 'OutdoorSF(scaled)']]\n",
    "result_from_model4 = gbm_fitter7.predict(df_house_test_extracted6_2b_predicted)\n",
    "df_house_test6['SalePrice'] = 0\n",
    "df_house_test6['SalePrice'] = np.expm1(result_from_model4)\n",
    "df_house_test6[['Id','SalePrice']]"
   ]
  },
  {
   "cell_type": "code",
   "execution_count": 130,
   "id": "6ee2108d",
   "metadata": {},
   "outputs": [],
   "source": [
    "df_house_test6[['Id','SalePrice']].to_csv('C:/Users/thsong/submission9.csv',index=False)"
   ]
  },
  {
   "cell_type": "code",
   "execution_count": null,
   "id": "ffeb1106",
   "metadata": {},
   "outputs": [],
   "source": []
  },
  {
   "cell_type": "markdown",
   "id": "c26c2bde",
   "metadata": {},
   "source": [
    "### test relationship between RMSLE and actual Kaggle Score"
   ]
  },
  {
   "cell_type": "code",
   "execution_count": null,
   "id": "bbe6611d",
   "metadata": {},
   "outputs": [],
   "source": [
    "line_fitter7,ridge_fitter7,lasso_fitter7,elasticNet_fitter7,xgb_fitter7,\n",
    "#gbm_fitter7,\n",
    "rf_fitter7,lgbm_fitter7,bg_fitter7,et_fitter7"
   ]
  },
  {
   "cell_type": "code",
   "execution_count": 131,
   "id": "561e5b0e",
   "metadata": {},
   "outputs": [],
   "source": [
    "# result_from_model4_2 = line_fitter7.predict(df_house_test_extracted6_2b_predicted)\n",
    "# df_house_test6['SalePrice'] = 0\n",
    "# df_house_test6['SalePrice'] = np.expm1(result_from_model4_2)\n",
    "# df_house_test6[['Id','SalePrice']].to_csv('C:/Users/thsong/submission9_2.csv',index=False)\n",
    "#-----------------------------------------------------------------------------------------------\n",
    "result_from_model4_3 = ridge_fitter7.predict(df_house_test_extracted6_2b_predicted)\n",
    "df_house_test6['SalePrice'] = 0\n",
    "df_house_test6['SalePrice'] = np.expm1(result_from_model4_3)\n",
    "df_house_test6[['Id','SalePrice']].to_csv('C:/Users/thsong/submission9_3.csv',index=False)\n",
    "#---------------------------------------------------------------------------------------------\n",
    "result_from_model4_4 = lasso_fitter7.predict(df_house_test_extracted6_2b_predicted)\n",
    "df_house_test6['SalePrice'] = 0\n",
    "df_house_test6['SalePrice'] = np.expm1(result_from_model4_4)\n",
    "df_house_test6[['Id','SalePrice']].to_csv('C:/Users/thsong/submission9_4.csv',index=False)\n",
    "#---------------------------------------------------\n",
    "result_from_model4_5 = elasticNet_fitter7.predict(df_house_test_extracted6_2b_predicted)\n",
    "df_house_test6['SalePrice'] = 0\n",
    "df_house_test6['SalePrice'] = np.expm1(result_from_model4_5)\n",
    "df_house_test6[['Id','SalePrice']].to_csv('C:/Users/thsong/submission9_5.csv',index=False)\n",
    "#------------------------------------------------------\n",
    "result_from_model4_6 = xgb_fitter7.predict(df_house_test_extracted6_2b_predicted)\n",
    "df_house_test6['SalePrice'] = 0\n",
    "df_house_test6['SalePrice'] = np.expm1(result_from_model4_6)\n",
    "df_house_test6[['Id','SalePrice']].to_csv('C:/Users/thsong/submission9_6.csv',index=False)\n",
    "#---------------------------------------------------\n",
    "result_from_model4_7 = lgbm_fitter7.predict(df_house_test_extracted6_2b_predicted)\n",
    "df_house_test6['SalePrice'] = 0\n",
    "df_house_test6['SalePrice'] = np.expm1(result_from_model4_7)\n",
    "df_house_test6[['Id','SalePrice']].to_csv('C:/Users/thsong/submission9_7.csv',index=False)\n",
    "#----------------------\n",
    "result_from_model4_8 = bg_fitter7.predict(df_house_test_extracted6_2b_predicted)\n",
    "df_house_test6['SalePrice'] = 0\n",
    "df_house_test6['SalePrice'] = np.expm1(result_from_model4_8)\n",
    "df_house_test6[['Id','SalePrice']].to_csv('C:/Users/thsong/submission9_8.csv',index=False)\n",
    "#------------------------\n",
    "result_from_model4_9 = et_fitter7.predict(df_house_test_extracted6_2b_predicted)\n",
    "df_house_test6['SalePrice'] = 0\n",
    "df_house_test6['SalePrice'] = np.expm1(result_from_model4_9)\n",
    "df_house_test6[['Id','SalePrice']].to_csv('C:/Users/thsong/submission9_9.csv',index=False)\n",
    "#-----------------------------"
   ]
  },
  {
   "cell_type": "code",
   "execution_count": null,
   "id": "d758468b",
   "metadata": {},
   "outputs": [],
   "source": []
  },
  {
   "cell_type": "markdown",
   "id": "f0be3b96",
   "metadata": {},
   "source": [
    "### 7th trial, using statistics"
   ]
  },
  {
   "cell_type": "code",
   "execution_count": 179,
   "id": "0c30aaf5",
   "metadata": {},
   "outputs": [],
   "source": [
    "### Feature Engineering\n",
    "\n",
    "# trial 1 : remove GarageCars or GarageArea, and compare each case\n",
    "# trial 2 : remove OverallQual\n",
    "# trial 3 : remove 'TotalBsmtSF' or '1stFlrSF', and compare each case\n",
    "\n",
    "### Trial 1 ###\n",
    "\n",
    "#=======================================================================================================================================\n",
    "col_lst = [\n",
    "    'LotShape_','MasVnrType_' ,'BsmtExposure_' ,'GarageFinish_',\n",
    "    \n",
    "    'MSSubClass', 'MSZoning_', 'LotFrontage', 'LotArea', 'LotConfig_',\n",
    "       'Neighborhood_', 'HouseStyle_', 'OverallQual', 'OverallCond',\n",
    "       'RoofStyle_', 'MasVnrArea', 'ExterQual_', 'Foundation_', 'BsmtQual_',\n",
    "       'BsmtFinType1_', 'HeatingQC_', 'BsmtFullBath', 'FullBath', 'HalfBath',\n",
    "       'BedroomAbvGr', 'KitchenQual_', 'TotRmsAbvGrd', 'Fireplaces',\n",
    "       'FireplaceQu_', 'GarageType_', 'House_Age', 'Garage_Age', \n",
    "           \n",
    "       'GarageArea', 'Exterior_Avg', 'SalePrice'] #  'GarageCars',\n",
    "#--------------------------------------------------------------\n",
    "# create column and contain standardized data from the columns above, in sequence\n",
    "for i in range(len(col_lst)):\n",
    "    # standardize the data, using the library\n",
    "    array_tst = df_house_extracted7[col_lst[i]].values.reshape(-1,1)\n",
    "    scaled_data_tst = scaler.fit_transform(array_tst) \n",
    "    # making new column's name\n",
    "    new_col = col_lst[i] + '(scaled)'\n",
    "    # create column for containing the standardized data\n",
    "    df_house_extracted7[new_col] = scaled_data_tst\n",
    "#-----------------------------------------------------\n",
    "log_SalePrice = np.log1p(df_house_extracted7['SalePrice'])\n",
    "df_house_extracted7['SalePrice(log)'] = log_SalePrice\n",
    "#------------------------------\n",
    "X = df_house_extracted7[[\n",
    "    'LotShape_(scaled)','MasVnrType_(scaled)' ,'BsmtExposure_(scaled)' ,'GarageFinish_(scaled)',\n",
    "    \n",
    "    'MSSubClass(scaled)','MSZoning_(scaled)', 'LotFrontage(scaled)', 'LotArea(scaled)',\n",
    "    'LotConfig_(scaled)', 'Neighborhood_(scaled)', 'HouseStyle_(scaled)','OverallQual(scaled)', \n",
    "    'OverallCond(scaled)', 'RoofStyle_(scaled)','MasVnrArea(scaled)', 'ExterQual_(scaled)', \n",
    "    'Foundation_(scaled)','BsmtQual_(scaled)', 'BsmtFinType1_(scaled)', 'HeatingQC_(scaled)',\n",
    "    'BsmtFullBath(scaled)', 'FullBath(scaled)', 'HalfBath(scaled)','BedroomAbvGr(scaled)', \n",
    "    'KitchenQual_(scaled)', 'TotRmsAbvGrd(scaled)','Fireplaces(scaled)', 'FireplaceQu_(scaled)', \n",
    "    'GarageType_(scaled)','House_Age(scaled)', 'Garage_Age(scaled)', \n",
    "    \n",
    "    'GarageArea(scaled)', 'Exterior_Avg(scaled)']]   # 'GarageCars(scaled)',\n",
    "y = df_house_extracted7['SalePrice(log)']\n",
    "# split X and y \n",
    "# make sure that 'test' here is different from 'test' in df_house_test\n",
    "X_train, X_test, y_train, y_test = train_test_split(X,y,test_size=0.2,random_state=42)"
   ]
  },
  {
   "cell_type": "code",
   "execution_count": 180,
   "id": "0331eb7e",
   "metadata": {},
   "outputs": [
    {
     "name": "stdout",
     "output_type": "stream",
     "text": [
      "when the model Ridge is taken with grid search cv = 5 the best avg rmse value is : 0.1535, and the best parameter is : {'alpha': 64}\n"
     ]
    }
   ],
   "source": [
    "ridge_params2 = {'alpha':[60,61,62,63,64,65,66,67,68,69]}\n",
    "print_best_params(ridge_fitter5,ridge_params2)"
   ]
  },
  {
   "cell_type": "code",
   "execution_count": 183,
   "id": "12ad5e72",
   "metadata": {},
   "outputs": [
    {
     "name": "stdout",
     "output_type": "stream",
     "text": [
      "when the model Lasso is taken with grid search cv = 5 the best avg rmse value is : 0.1533, and the best parameter is : {'alpha': 0.0026}\n"
     ]
    }
   ],
   "source": [
    "lasso_params2 = {'alpha':[0.0025,0.0026,0.0027,0.0028,0.0029,0.003,0.004,0.005]}\n",
    "print_best_params(lasso_fitter5,lasso_params2)"
   ]
  },
  {
   "cell_type": "code",
   "execution_count": 184,
   "id": "326a35e9",
   "metadata": {},
   "outputs": [
    {
     "name": "stdout",
     "output_type": "stream",
     "text": [
      "when the model ElasticNet is taken with grid search cv = 5 the best avg rmse value is : 0.1533, and the best parameter is : {'alpha': 0.03, 'l1_ratio': 0.07}\n"
     ]
    }
   ],
   "source": [
    "eln_params2 = {'alpha':[0.01,0.02,0.03,0.04,0.05],\n",
    "            'l1_ratio':[0.022,0.03,0.04,0.05,0.06,0.07,0.08,0.09,0.1,0.2,0.3,0.4]} # just 0.0001, not zero\n",
    "print_best_params(elasticNet_fitter5,eln_params2)"
   ]
  },
  {
   "cell_type": "code",
   "execution_count": 187,
   "id": "5541580f",
   "metadata": {},
   "outputs": [
    {
     "name": "stdout",
     "output_type": "stream",
     "text": [
      "when the model XGBRegressor is taken with grid search cv = 5 the best avg rmse value is : 0.1542, and the best parameter is : {'n_estimators': 46}\n"
     ]
    }
   ],
   "source": [
    "candidate_params = {'n_estimators' : [45,46,47,48,49,50,51,52]}\n",
    "print_best_params(xgb_fitter5,candidate_params)"
   ]
  },
  {
   "cell_type": "code",
   "execution_count": 188,
   "id": "fbce322d",
   "metadata": {},
   "outputs": [
    {
     "name": "stdout",
     "output_type": "stream",
     "text": [
      "when the model GradientBoostingRegressor is taken with grid search cv = 5 the best avg rmse value is : 0.1449, and the best parameter is : {'n_estimators': 170}\n"
     ]
    }
   ],
   "source": [
    "candidate_params = {'n_estimators' : [162,163,164,165,166,167,168,169,170]}\n",
    "print_best_params(gbm_fitter5,candidate_params)"
   ]
  },
  {
   "cell_type": "code",
   "execution_count": 189,
   "id": "f1d95c98",
   "metadata": {
    "scrolled": true
   },
   "outputs": [
    {
     "name": "stdout",
     "output_type": "stream",
     "text": [
      "when the model RandomForestRegressor is taken with grid search cv = 5 the best avg rmse value is : 0.1552, and the best parameter is : {'n_estimators': 160}\n"
     ]
    }
   ],
   "source": [
    "candidate_params = {'n_estimators' : [150,151,152,153,154,155,156,157,158,159,160,161,162,163,164]}\n",
    "print_best_params(rf_fitter5,candidate_params)"
   ]
  },
  {
   "cell_type": "code",
   "execution_count": 212,
   "id": "3a7ddc09",
   "metadata": {},
   "outputs": [
    {
     "name": "stdout",
     "output_type": "stream",
     "text": [
      "when the model LGBMRegressor is taken with grid search cv = 5 the best avg rmse value is : 0.1479, and the best parameter is : {'n_estimators': 126}\n"
     ]
    }
   ],
   "source": [
    "candidate_params = {'n_estimators' : [125,126,127,128,129,130,131,132,133,134]}\n",
    "print_best_params(lgbm_fitter5,candidate_params)"
   ]
  },
  {
   "cell_type": "code",
   "execution_count": 191,
   "id": "834a2131",
   "metadata": {},
   "outputs": [
    {
     "name": "stdout",
     "output_type": "stream",
     "text": [
      "when the model BaggingRegressor is taken with grid search cv = 5 the best avg rmse value is : 0.1564, and the best parameter is : {'n_estimators': 130}\n"
     ]
    }
   ],
   "source": [
    "candidate_params = {'n_estimators' : [125,126,127,128,129,130,131,132,133,134]}\n",
    "print_best_params(bg_fitter5,candidate_params)"
   ]
  },
  {
   "cell_type": "code",
   "execution_count": 192,
   "id": "006fb528",
   "metadata": {
    "scrolled": true
   },
   "outputs": [
    {
     "name": "stdout",
     "output_type": "stream",
     "text": [
      "when the model ExtraTreesRegressor is taken with grid search cv = 5 the best avg rmse value is : 0.1541, and the best parameter is : {'n_estimators': 129}\n"
     ]
    }
   ],
   "source": [
    "candidate_params = {'n_estimators' : [125,126,127,128,129,130,131,132,133,134]}\n",
    "print_best_params(et_fitter5,candidate_params)"
   ]
  },
  {
   "cell_type": "code",
   "execution_count": 193,
   "id": "0b28b791",
   "metadata": {},
   "outputs": [],
   "source": [
    "# ordinary linear regression model\n",
    "line_fitter8 = LinearRegression()\n",
    "### turned models through series of parameter adjustments\n",
    "# linear models\n",
    "ridge_fitter8 = Ridge(alpha=64)\n",
    "lasso_fitter8 = Lasso(alpha=0.0026)\n",
    "elasticNet_fitter8 = ElasticNet(alpha = 0.03, l1_ratio=0.07)\n",
    "# ensemble models\n",
    "xgb_fitter8 = XGBRegressor(n_estimators=46)\n",
    "gbm_fitter8 = GradientBoostingRegressor(n_estimators=170)\n",
    "rf_fitter8 = RandomForestRegressor(n_estimators=160)\n",
    "lgbm_fitter8 = LGBMRegressor(n_estimators=126) # 131\n",
    "bg_fitter8 = BaggingRegressor(n_estimators=130)\n",
    "et_fitter8 = ExtraTreesRegressor(n_estimators=129)"
   ]
  },
  {
   "cell_type": "code",
   "execution_count": 194,
   "id": "2adb40d6",
   "metadata": {},
   "outputs": [
    {
     "name": "stdout",
     "output_type": "stream",
     "text": [
      "##### LinearRegression #####\n",
      "RMSLE : 0.1480156248189644\n",
      "##### Ridge #####\n",
      "RMSLE : 0.15600280698192492\n",
      "##### Lasso #####\n",
      "RMSLE : 0.15881256234206031\n",
      "##### ElasticNet #####\n",
      "RMSLE : 0.16104571627241304\n",
      "##### XGBRegressor #####\n",
      "RMSLE : 0.10462008677492687\n",
      "##### GradientBoostingRegressor #####\n",
      "RMSLE : 0.09161093829821752\n",
      "##### RandomForestRegressor #####\n",
      "RMSLE : 0.11960123947244279\n",
      "##### LGBMRegressor #####\n",
      "RMSLE : 0.1492636059341525\n",
      "##### BaggingRegressor #####\n",
      "RMSLE : 0.14430963845595396\n",
      "##### ExtraTreesRegressor #####\n",
      "RMSLE : 0.18625276235786517\n"
     ]
    },
    {
     "data": {
      "text/plain": [
       "{'GradientBoostingRegressor(n_estimators=170)': 0.09161093829821752,\n",
       " \"XGBRegressor(base_score=0.5, booster='gbtree', callbacks=None,\\n             colsample_bylevel=1, colsample_bynode=1, colsample_bytree=1,\\n             early_stopping_rounds=None, enable_categorical=False,\\n             eval_metric=None, gamma=0, gpu_id=-1, grow_policy='depthwise',\\n             importance_type=None, interaction_constraints='',\\n             learning_rate=0.300000012, max_bin=256, max_cat_to_onehot=4,\\n             max_delta_step=0, max_depth=6, max_leaves=0, min_child_weight=1,\\n             missing=nan, monotone_constraints='()', n_estimators=46, n_jobs=0,\\n             num_parallel_tree=1, predictor='auto', random_state=0, reg_alpha=0,\\n             reg_lambda=1, ...)\": 0.10462008677492687,\n",
       " 'RandomForestRegressor(n_estimators=160)': 0.11960123947244279,\n",
       " 'BaggingRegressor(n_estimators=130)': 0.14430963845595396,\n",
       " 'LinearRegression()': 0.1480156248189644,\n",
       " 'LGBMRegressor(n_estimators=131)': 0.1492636059341525,\n",
       " 'Ridge(alpha=64)': 0.15600280698192492,\n",
       " 'Lasso(alpha=0.0026)': 0.15881256234206031,\n",
       " 'ElasticNet(alpha=0.03, l1_ratio=0.07)': 0.16104571627241304,\n",
       " 'ExtraTreesRegressor(n_estimators=129)': 0.18625276235786517}"
      ]
     },
     "execution_count": 194,
     "metadata": {},
     "output_type": "execute_result"
    }
   ],
   "source": [
    "### Print RMSLE values using the user-defined function above\n",
    "dict_rmsle = {}\n",
    "for model in [line_fitter8,ridge_fitter8,lasso_fitter8,elasticNet_fitter8,xgb_fitter8,gbm_fitter8,rf_fitter8,lgbm_fitter8,bg_fitter8,et_fitter8]:\n",
    "    rmsle_value = print_rmsle_values(model,X_train.values,X_test.values,y_train.values,y_test.values)\n",
    "    dict_rmsle[str(model)] = rmsle_value\n",
    "### Sort RMSLE values in ascending order\n",
    "{k: v for k, v in sorted(dict_rmsle.items(), key=lambda item: item[1])}"
   ]
  },
  {
   "cell_type": "code",
   "execution_count": 195,
   "id": "332c141e",
   "metadata": {},
   "outputs": [],
   "source": [
    "### Feature Engineering\n",
    "#=======================================================================================================================================\n",
    "col_lst = [\n",
    "        'LotShape_','MasVnrType_' ,'BsmtExposure_' ,'GarageFinish_',\n",
    "    \n",
    "        'MSSubClass', 'MSZoning_', 'LotFrontage', 'LotArea', 'LotConfig_',\n",
    "       'Neighborhood_', 'HouseStyle_', 'OverallQual', 'OverallCond',\n",
    "       'RoofStyle_', 'MasVnrArea', 'ExterQual_', 'Foundation_', 'BsmtQual_',\n",
    "       'BsmtFinType1_', 'HeatingQC_', 'BsmtFullBath', 'FullBath', 'HalfBath',\n",
    "       'BedroomAbvGr', 'KitchenQual_', 'TotRmsAbvGrd', 'Fireplaces',\n",
    "       'FireplaceQu_', 'GarageType_', 'House_Age', 'Garage_Age', \n",
    "       'GarageArea', 'Exterior_Avg'] # 'GarageCars',\n",
    "#--------------------------------------------------------------\n",
    "#------------\n",
    "# create column and contain standardized data from the columns above, in sequence\n",
    "for i in range(len(col_lst)):\n",
    "    # standardize the data, using the library\n",
    "    array_tst = df_house_test_extracted7[col_lst[i]].values.reshape(-1,1)\n",
    "    scaled_data_tst = scaler.fit_transform(array_tst) \n",
    "    # making new column's name\n",
    "    new_col = col_lst[i] + '(scaled)'\n",
    "    # create column for containing the standardized data\n",
    "    df_house_test_extracted7[new_col] = scaled_data_tst"
   ]
  },
  {
   "cell_type": "code",
   "execution_count": 196,
   "id": "e7e59a22",
   "metadata": {},
   "outputs": [
    {
     "data": {
      "text/html": [
       "<div>\n",
       "<style scoped>\n",
       "    .dataframe tbody tr th:only-of-type {\n",
       "        vertical-align: middle;\n",
       "    }\n",
       "\n",
       "    .dataframe tbody tr th {\n",
       "        vertical-align: top;\n",
       "    }\n",
       "\n",
       "    .dataframe thead th {\n",
       "        text-align: right;\n",
       "    }\n",
       "</style>\n",
       "<table border=\"1\" class=\"dataframe\">\n",
       "  <thead>\n",
       "    <tr style=\"text-align: right;\">\n",
       "      <th></th>\n",
       "      <th>Id</th>\n",
       "      <th>SalePrice</th>\n",
       "    </tr>\n",
       "  </thead>\n",
       "  <tbody>\n",
       "    <tr>\n",
       "      <th>0</th>\n",
       "      <td>1461</td>\n",
       "      <td>132077.338905</td>\n",
       "    </tr>\n",
       "    <tr>\n",
       "      <th>1</th>\n",
       "      <td>1462</td>\n",
       "      <td>158130.863642</td>\n",
       "    </tr>\n",
       "    <tr>\n",
       "      <th>2</th>\n",
       "      <td>1463</td>\n",
       "      <td>166672.089576</td>\n",
       "    </tr>\n",
       "    <tr>\n",
       "      <th>3</th>\n",
       "      <td>1464</td>\n",
       "      <td>183600.450780</td>\n",
       "    </tr>\n",
       "    <tr>\n",
       "      <th>4</th>\n",
       "      <td>1465</td>\n",
       "      <td>197646.031415</td>\n",
       "    </tr>\n",
       "    <tr>\n",
       "      <th>...</th>\n",
       "      <td>...</td>\n",
       "      <td>...</td>\n",
       "    </tr>\n",
       "    <tr>\n",
       "      <th>1454</th>\n",
       "      <td>2915</td>\n",
       "      <td>85734.217076</td>\n",
       "    </tr>\n",
       "    <tr>\n",
       "      <th>1455</th>\n",
       "      <td>2916</td>\n",
       "      <td>93691.104993</td>\n",
       "    </tr>\n",
       "    <tr>\n",
       "      <th>1456</th>\n",
       "      <td>2917</td>\n",
       "      <td>179474.415726</td>\n",
       "    </tr>\n",
       "    <tr>\n",
       "      <th>1457</th>\n",
       "      <td>2918</td>\n",
       "      <td>113803.956677</td>\n",
       "    </tr>\n",
       "    <tr>\n",
       "      <th>1458</th>\n",
       "      <td>2919</td>\n",
       "      <td>218684.206018</td>\n",
       "    </tr>\n",
       "  </tbody>\n",
       "</table>\n",
       "<p>1459 rows × 2 columns</p>\n",
       "</div>"
      ],
      "text/plain": [
       "        Id      SalePrice\n",
       "0     1461  132077.338905\n",
       "1     1462  158130.863642\n",
       "2     1463  166672.089576\n",
       "3     1464  183600.450780\n",
       "4     1465  197646.031415\n",
       "...    ...            ...\n",
       "1454  2915   85734.217076\n",
       "1455  2916   93691.104993\n",
       "1456  2917  179474.415726\n",
       "1457  2918  113803.956677\n",
       "1458  2919  218684.206018\n",
       "\n",
       "[1459 rows x 2 columns]"
      ]
     },
     "execution_count": 196,
     "metadata": {},
     "output_type": "execute_result"
    }
   ],
   "source": [
    "df_house_test_extracted7_2b_predicted = df_house_test_extracted7[[\n",
    "        'LotShape_(scaled)','MasVnrType_(scaled)','BsmtExposure_(scaled)','GarageFinish_(scaled)',\n",
    "        \n",
    "        'MSSubClass(scaled)','MSZoning_(scaled)', 'LotFrontage(scaled)', 'LotArea(scaled)',\n",
    "       'LotConfig_(scaled)', 'Neighborhood_(scaled)', 'HouseStyle_(scaled)',\n",
    "       'OverallQual(scaled)', 'OverallCond(scaled)', 'RoofStyle_(scaled)',\n",
    "       'MasVnrArea(scaled)', 'ExterQual_(scaled)', 'Foundation_(scaled)',\n",
    "       'BsmtQual_(scaled)', 'BsmtFinType1_(scaled)', 'HeatingQC_(scaled)',\n",
    "       'BsmtFullBath(scaled)', 'FullBath(scaled)', 'HalfBath(scaled)',\n",
    "       'BedroomAbvGr(scaled)', 'KitchenQual_(scaled)', 'TotRmsAbvGrd(scaled)',\n",
    "       'Fireplaces(scaled)', 'FireplaceQu_(scaled)', 'GarageType_(scaled)',\n",
    "       'House_Age(scaled)', 'Garage_Age(scaled)', \n",
    "       'GarageArea(scaled)', 'Exterior_Avg(scaled)']] # 'GarageCars(scaled)',\n",
    "result_from_model5 = gbm_fitter8.predict(df_house_test_extracted7_2b_predicted)\n",
    "df_house_test7['SalePrice'] = 0\n",
    "df_house_test7['SalePrice'] = np.expm1(result_from_model5)\n",
    "df_house_test7[['Id','SalePrice']]"
   ]
  },
  {
   "cell_type": "code",
   "execution_count": 197,
   "id": "1f84a615",
   "metadata": {},
   "outputs": [],
   "source": [
    "df_house_test7[['Id','SalePrice']].to_csv('C:/Users/thsong/submission10_1.csv',index=False)"
   ]
  },
  {
   "cell_type": "code",
   "execution_count": 174,
   "id": "f1f4b464",
   "metadata": {},
   "outputs": [
    {
     "data": {
      "text/plain": [
       "(29, 33)"
      ]
     },
     "execution_count": 174,
     "metadata": {},
     "output_type": "execute_result"
    }
   ],
   "source": [
    "len(X.columns), len(df_house_test_extracted7_2b_predicted.columns)"
   ]
  },
  {
   "cell_type": "code",
   "execution_count": null,
   "id": "1bc58f0f",
   "metadata": {},
   "outputs": [],
   "source": []
  },
  {
   "cell_type": "code",
   "execution_count": 198,
   "id": "6ef350f5",
   "metadata": {},
   "outputs": [],
   "source": [
    "### Feature Engineering\n",
    "\n",
    "# trial 1 : remove GarageCars or GarageArea, and compare each case\n",
    "# trial 2 : remove OverallQual\n",
    "# trial 3 : remove 'TotalBsmtSF' or '1stFlrSF', and compare each case\n",
    "\n",
    "### Trial 1 ###\n",
    "\n",
    "#=======================================================================================================================================\n",
    "col_lst = [\n",
    "    'LotShape_','MasVnrType_' ,'BsmtExposure_' ,'GarageFinish_',\n",
    "    \n",
    "    'MSSubClass', 'MSZoning_', 'LotFrontage', 'LotArea', 'LotConfig_',\n",
    "       'Neighborhood_', 'HouseStyle_', 'OverallQual', 'OverallCond',\n",
    "       'RoofStyle_', 'MasVnrArea', 'ExterQual_', 'Foundation_', 'BsmtQual_',\n",
    "       'BsmtFinType1_', 'HeatingQC_', 'BsmtFullBath', 'FullBath', 'HalfBath',\n",
    "       'BedroomAbvGr', 'KitchenQual_', 'TotRmsAbvGrd', 'Fireplaces',\n",
    "       'FireplaceQu_', 'GarageType_', 'House_Age', 'Garage_Age', \n",
    "       'GarageCars',    \n",
    "        'Exterior_Avg', 'SalePrice'] #  'GarageArea',\n",
    "#--------------------------------------------------------------\n",
    "# create column and contain standardized data from the columns above, in sequence\n",
    "for i in range(len(col_lst)):\n",
    "    # standardize the data, using the library\n",
    "    array_tst = df_house_extracted8[col_lst[i]].values.reshape(-1,1)\n",
    "    scaled_data_tst = scaler.fit_transform(array_tst) \n",
    "    # making new column's name\n",
    "    new_col = col_lst[i] + '(scaled)'\n",
    "    # create column for containing the standardized data\n",
    "    df_house_extracted8[new_col] = scaled_data_tst\n",
    "#-----------------------------------------------------\n",
    "log_SalePrice = np.log1p(df_house_extracted8['SalePrice'])\n",
    "df_house_extracted8['SalePrice(log)'] = log_SalePrice\n",
    "#------------------------------\n",
    "X = df_house_extracted8[[\n",
    "    'LotShape_(scaled)','MasVnrType_(scaled)' ,'BsmtExposure_(scaled)' ,'GarageFinish_(scaled)',\n",
    "    \n",
    "    'MSSubClass(scaled)','MSZoning_(scaled)', 'LotFrontage(scaled)', 'LotArea(scaled)',\n",
    "    'LotConfig_(scaled)', 'Neighborhood_(scaled)', 'HouseStyle_(scaled)','OverallQual(scaled)', \n",
    "    'OverallCond(scaled)', 'RoofStyle_(scaled)','MasVnrArea(scaled)', 'ExterQual_(scaled)', \n",
    "    'Foundation_(scaled)','BsmtQual_(scaled)', 'BsmtFinType1_(scaled)', 'HeatingQC_(scaled)',\n",
    "    'BsmtFullBath(scaled)', 'FullBath(scaled)', 'HalfBath(scaled)','BedroomAbvGr(scaled)', \n",
    "    'KitchenQual_(scaled)', 'TotRmsAbvGrd(scaled)','Fireplaces(scaled)', 'FireplaceQu_(scaled)', \n",
    "    'GarageType_(scaled)','House_Age(scaled)', 'Garage_Age(scaled)', \n",
    "    'GarageCars(scaled)',\n",
    "     'Exterior_Avg(scaled)']]   # 'GarageArea(scaled)',\n",
    "y = df_house_extracted8['SalePrice(log)']\n",
    "# split X and y \n",
    "# make sure that 'test' here is different from 'test' in df_house_test\n",
    "X_train, X_test, y_train, y_test = train_test_split(X,y,test_size=0.2,random_state=42)"
   ]
  },
  {
   "cell_type": "code",
   "execution_count": 201,
   "id": "305c4978",
   "metadata": {},
   "outputs": [
    {
     "name": "stdout",
     "output_type": "stream",
     "text": [
      "when the model Ridge is taken with grid search cv = 5 the best avg rmse value is : 0.1535, and the best parameter is : {'alpha': 66}\n"
     ]
    }
   ],
   "source": [
    "ridge_params2 = {'alpha':[60,61,62,63,64,65,66,67,68,69]}\n",
    "print_best_params(ridge_fitter5,ridge_params2)"
   ]
  },
  {
   "cell_type": "code",
   "execution_count": 202,
   "id": "3f24e40c",
   "metadata": {},
   "outputs": [
    {
     "name": "stdout",
     "output_type": "stream",
     "text": [
      "when the model Lasso is taken with grid search cv = 5 the best avg rmse value is : 0.1532, and the best parameter is : {'alpha': 0.0029}\n"
     ]
    }
   ],
   "source": [
    "lasso_params2 = {'alpha':[0.0025,0.0026,0.0027,0.0028,0.0029,0.003,0.004,0.005]}\n",
    "print_best_params(lasso_fitter5,lasso_params2)"
   ]
  },
  {
   "cell_type": "code",
   "execution_count": 203,
   "id": "071a40fe",
   "metadata": {},
   "outputs": [
    {
     "name": "stdout",
     "output_type": "stream",
     "text": [
      "when the model ElasticNet is taken with grid search cv = 5 the best avg rmse value is : 0.1532, and the best parameter is : {'alpha': 0.03, 'l1_ratio': 0.08}\n"
     ]
    }
   ],
   "source": [
    "eln_params2 = {'alpha':[0.01,0.02,0.03,0.04,0.05],\n",
    "            'l1_ratio':[0.022,0.03,0.04,0.05,0.06,0.07,0.08,0.09,0.1,0.2,0.3,0.4]} # just 0.0001, not zero\n",
    "print_best_params(elasticNet_fitter5,eln_params2)"
   ]
  },
  {
   "cell_type": "code",
   "execution_count": 206,
   "id": "8b3754cc",
   "metadata": {},
   "outputs": [
    {
     "name": "stdout",
     "output_type": "stream",
     "text": [
      "when the model XGBRegressor is taken with grid search cv = 5 the best avg rmse value is : 0.1552, and the best parameter is : {'n_estimators': 80}\n"
     ]
    }
   ],
   "source": [
    "candidate_params = {'n_estimators' : [75,76,77,78,79,80,81,82,83,84]}\n",
    "print_best_params(xgb_fitter5,candidate_params)"
   ]
  },
  {
   "cell_type": "code",
   "execution_count": 207,
   "id": "a7c7232e",
   "metadata": {},
   "outputs": [
    {
     "name": "stdout",
     "output_type": "stream",
     "text": [
      "when the model GradientBoostingRegressor is taken with grid search cv = 5 the best avg rmse value is : 0.1441, and the best parameter is : {'n_estimators': 167}\n"
     ]
    }
   ],
   "source": [
    "candidate_params = {'n_estimators' : [162,163,164,165,166,167,168,169,170]}\n",
    "print_best_params(gbm_fitter5,candidate_params)"
   ]
  },
  {
   "cell_type": "code",
   "execution_count": 208,
   "id": "6161df92",
   "metadata": {},
   "outputs": [
    {
     "name": "stdout",
     "output_type": "stream",
     "text": [
      "when the model RandomForestRegressor is taken with grid search cv = 5 the best avg rmse value is : 0.1564, and the best parameter is : {'n_estimators': 152}\n"
     ]
    }
   ],
   "source": [
    "candidate_params = {'n_estimators' : [150,151,152,153,154,155,156,157,158,159,160,161,162,163,164]}\n",
    "print_best_params(rf_fitter5,candidate_params)"
   ]
  },
  {
   "cell_type": "code",
   "execution_count": 213,
   "id": "5a5b2c45",
   "metadata": {},
   "outputs": [
    {
     "name": "stdout",
     "output_type": "stream",
     "text": [
      "when the model LGBMRegressor is taken with grid search cv = 5 the best avg rmse value is : 0.1479, and the best parameter is : {'n_estimators': 126}\n"
     ]
    }
   ],
   "source": [
    "candidate_params = {'n_estimators' : [125,126,127,128,129,130,131,132,133,134]}\n",
    "print_best_params(lgbm_fitter5,candidate_params)"
   ]
  },
  {
   "cell_type": "code",
   "execution_count": 210,
   "id": "eed4fc84",
   "metadata": {},
   "outputs": [
    {
     "name": "stdout",
     "output_type": "stream",
     "text": [
      "when the model BaggingRegressor is taken with grid search cv = 5 the best avg rmse value is : 0.1559, and the best parameter is : {'n_estimators': 131}\n"
     ]
    }
   ],
   "source": [
    "candidate_params = {'n_estimators' : [125,126,127,128,129,130,131,132,133,134]}\n",
    "print_best_params(bg_fitter5,candidate_params)"
   ]
  },
  {
   "cell_type": "code",
   "execution_count": 211,
   "id": "4b6b5414",
   "metadata": {},
   "outputs": [
    {
     "name": "stdout",
     "output_type": "stream",
     "text": [
      "when the model ExtraTreesRegressor is taken with grid search cv = 5 the best avg rmse value is : 0.1555, and the best parameter is : {'n_estimators': 126}\n"
     ]
    }
   ],
   "source": [
    "candidate_params = {'n_estimators' : [125,126,127,128,129,130,131,132,133,134]}\n",
    "print_best_params(et_fitter5,candidate_params)"
   ]
  },
  {
   "cell_type": "code",
   "execution_count": 214,
   "id": "234f4ad0",
   "metadata": {},
   "outputs": [],
   "source": [
    "# ordinary linear regression model\n",
    "line_fitter9 = LinearRegression()\n",
    "### turned models through series of parameter adjustments\n",
    "# linear models\n",
    "ridge_fitter9 = Ridge(alpha=66)\n",
    "lasso_fitter9 = Lasso(alpha=0.0029)\n",
    "elasticNet_fitter9 = ElasticNet(alpha = 0.03, l1_ratio=0.08)\n",
    "# ensemble models\n",
    "xgb_fitter9 = XGBRegressor(n_estimators=80)\n",
    "gbm_fitter9 = GradientBoostingRegressor(n_estimators=167)\n",
    "rf_fitter9 = RandomForestRegressor(n_estimators=152)\n",
    "lgbm_fitter9 = LGBMRegressor(n_estimators=126)\n",
    "bg_fitter9 = BaggingRegressor(n_estimators=131)\n",
    "et_fitter9 = ExtraTreesRegressor(n_estimators=126)"
   ]
  },
  {
   "cell_type": "code",
   "execution_count": 215,
   "id": "87003cce",
   "metadata": {},
   "outputs": [
    {
     "name": "stdout",
     "output_type": "stream",
     "text": [
      "##### LinearRegression #####\n",
      "RMSLE : 0.1475649872711532\n",
      "##### Ridge #####\n",
      "RMSLE : 0.15562514133321165\n",
      "##### Lasso #####\n",
      "RMSLE : 0.1556617697729713\n",
      "##### ElasticNet #####\n",
      "RMSLE : 0.15832544938863252\n",
      "##### XGBRegressor #####\n",
      "RMSLE : 0.12453260568730064\n",
      "##### GradientBoostingRegressor #####\n",
      "RMSLE : 0.09066758872370619\n",
      "##### RandomForestRegressor #####\n",
      "RMSLE : 0.11779033569597686\n",
      "##### LGBMRegressor #####\n",
      "RMSLE : 0.157146773945332\n",
      "##### BaggingRegressor #####\n",
      "RMSLE : 0.11811903209990288\n",
      "##### ExtraTreesRegressor #####\n",
      "RMSLE : 0.17940815188223921\n"
     ]
    },
    {
     "data": {
      "text/plain": [
       "{'GradientBoostingRegressor(n_estimators=167)': 0.09066758872370619,\n",
       " 'RandomForestRegressor(n_estimators=152)': 0.11779033569597686,\n",
       " 'BaggingRegressor(n_estimators=131)': 0.11811903209990288,\n",
       " \"XGBRegressor(base_score=0.5, booster='gbtree', callbacks=None,\\n             colsample_bylevel=1, colsample_bynode=1, colsample_bytree=1,\\n             early_stopping_rounds=None, enable_categorical=False,\\n             eval_metric=None, gamma=0, gpu_id=-1, grow_policy='depthwise',\\n             importance_type=None, interaction_constraints='',\\n             learning_rate=0.300000012, max_bin=256, max_cat_to_onehot=4,\\n             max_delta_step=0, max_depth=6, max_leaves=0, min_child_weight=1,\\n             missing=nan, monotone_constraints='()', n_estimators=80, n_jobs=0,\\n             num_parallel_tree=1, predictor='auto', random_state=0, reg_alpha=0,\\n             reg_lambda=1, ...)\": 0.12453260568730064,\n",
       " 'LinearRegression()': 0.1475649872711532,\n",
       " 'Ridge(alpha=66)': 0.15562514133321165,\n",
       " 'Lasso(alpha=0.0029)': 0.1556617697729713,\n",
       " 'LGBMRegressor(n_estimators=126)': 0.157146773945332,\n",
       " 'ElasticNet(alpha=0.03, l1_ratio=0.08)': 0.15832544938863252,\n",
       " 'ExtraTreesRegressor(n_estimators=126)': 0.17940815188223921}"
      ]
     },
     "execution_count": 215,
     "metadata": {},
     "output_type": "execute_result"
    }
   ],
   "source": [
    "### Print RMSLE values using the user-defined function above\n",
    "dict_rmsle = {}\n",
    "for model in [line_fitter9,ridge_fitter9,lasso_fitter9,elasticNet_fitter9,xgb_fitter9,gbm_fitter9,rf_fitter9,lgbm_fitter9,bg_fitter9,et_fitter9]:\n",
    "    rmsle_value = print_rmsle_values(model,X_train.values,X_test.values,y_train.values,y_test.values)\n",
    "    dict_rmsle[str(model)] = rmsle_value\n",
    "### Sort RMSLE values in ascending order\n",
    "{k: v for k, v in sorted(dict_rmsle.items(), key=lambda item: item[1])}"
   ]
  },
  {
   "cell_type": "code",
   "execution_count": 216,
   "id": "cb49b5d9",
   "metadata": {},
   "outputs": [],
   "source": [
    "### Feature Engineering\n",
    "#=======================================================================================================================================\n",
    "col_lst = [\n",
    "        'LotShape_','MasVnrType_' ,'BsmtExposure_' ,'GarageFinish_',\n",
    "    \n",
    "        'MSSubClass', 'MSZoning_', 'LotFrontage', 'LotArea', 'LotConfig_',\n",
    "       'Neighborhood_', 'HouseStyle_', 'OverallQual', 'OverallCond',\n",
    "       'RoofStyle_', 'MasVnrArea', 'ExterQual_', 'Foundation_', 'BsmtQual_',\n",
    "       'BsmtFinType1_', 'HeatingQC_', 'BsmtFullBath', 'FullBath', 'HalfBath',\n",
    "       'BedroomAbvGr', 'KitchenQual_', 'TotRmsAbvGrd', 'Fireplaces',\n",
    "       'FireplaceQu_', 'GarageType_', 'House_Age', 'Garage_Age', \n",
    "       'GarageCars',\n",
    "    'Exterior_Avg'] #  'GarageArea',\n",
    "#--------------------------------------------------------------\n",
    "#------------\n",
    "# create column and contain standardized data from the columns above, in sequence\n",
    "for i in range(len(col_lst)):\n",
    "    # standardize the data, using the library\n",
    "    array_tst = df_house_test_extracted8[col_lst[i]].values.reshape(-1,1)\n",
    "    scaled_data_tst = scaler.fit_transform(array_tst) \n",
    "    # making new column's name\n",
    "    new_col = col_lst[i] + '(scaled)'\n",
    "    # create column for containing the standardized data\n",
    "    df_house_test_extracted8[new_col] = scaled_data_tst"
   ]
  },
  {
   "cell_type": "code",
   "execution_count": 218,
   "id": "894303fd",
   "metadata": {},
   "outputs": [
    {
     "data": {
      "text/html": [
       "<div>\n",
       "<style scoped>\n",
       "    .dataframe tbody tr th:only-of-type {\n",
       "        vertical-align: middle;\n",
       "    }\n",
       "\n",
       "    .dataframe tbody tr th {\n",
       "        vertical-align: top;\n",
       "    }\n",
       "\n",
       "    .dataframe thead th {\n",
       "        text-align: right;\n",
       "    }\n",
       "</style>\n",
       "<table border=\"1\" class=\"dataframe\">\n",
       "  <thead>\n",
       "    <tr style=\"text-align: right;\">\n",
       "      <th></th>\n",
       "      <th>Id</th>\n",
       "      <th>SalePrice</th>\n",
       "    </tr>\n",
       "  </thead>\n",
       "  <tbody>\n",
       "    <tr>\n",
       "      <th>0</th>\n",
       "      <td>1461</td>\n",
       "      <td>127973.845970</td>\n",
       "    </tr>\n",
       "    <tr>\n",
       "      <th>1</th>\n",
       "      <td>1462</td>\n",
       "      <td>148902.787503</td>\n",
       "    </tr>\n",
       "    <tr>\n",
       "      <th>2</th>\n",
       "      <td>1463</td>\n",
       "      <td>165887.778492</td>\n",
       "    </tr>\n",
       "    <tr>\n",
       "      <th>3</th>\n",
       "      <td>1464</td>\n",
       "      <td>182759.299502</td>\n",
       "    </tr>\n",
       "    <tr>\n",
       "      <th>4</th>\n",
       "      <td>1465</td>\n",
       "      <td>190715.869895</td>\n",
       "    </tr>\n",
       "    <tr>\n",
       "      <th>...</th>\n",
       "      <td>...</td>\n",
       "      <td>...</td>\n",
       "    </tr>\n",
       "    <tr>\n",
       "      <th>1454</th>\n",
       "      <td>2915</td>\n",
       "      <td>84495.246426</td>\n",
       "    </tr>\n",
       "    <tr>\n",
       "      <th>1455</th>\n",
       "      <td>2916</td>\n",
       "      <td>92238.436310</td>\n",
       "    </tr>\n",
       "    <tr>\n",
       "      <th>1456</th>\n",
       "      <td>2917</td>\n",
       "      <td>180986.851692</td>\n",
       "    </tr>\n",
       "    <tr>\n",
       "      <th>1457</th>\n",
       "      <td>2918</td>\n",
       "      <td>110286.705379</td>\n",
       "    </tr>\n",
       "    <tr>\n",
       "      <th>1458</th>\n",
       "      <td>2919</td>\n",
       "      <td>215128.104350</td>\n",
       "    </tr>\n",
       "  </tbody>\n",
       "</table>\n",
       "<p>1459 rows × 2 columns</p>\n",
       "</div>"
      ],
      "text/plain": [
       "        Id      SalePrice\n",
       "0     1461  127973.845970\n",
       "1     1462  148902.787503\n",
       "2     1463  165887.778492\n",
       "3     1464  182759.299502\n",
       "4     1465  190715.869895\n",
       "...    ...            ...\n",
       "1454  2915   84495.246426\n",
       "1455  2916   92238.436310\n",
       "1456  2917  180986.851692\n",
       "1457  2918  110286.705379\n",
       "1458  2919  215128.104350\n",
       "\n",
       "[1459 rows x 2 columns]"
      ]
     },
     "execution_count": 218,
     "metadata": {},
     "output_type": "execute_result"
    }
   ],
   "source": [
    "df_house_test_extracted8_2b_predicted = df_house_test_extracted8[[\n",
    "        'LotShape_(scaled)','MasVnrType_(scaled)','BsmtExposure_(scaled)','GarageFinish_(scaled)',\n",
    "        \n",
    "        'MSSubClass(scaled)','MSZoning_(scaled)', 'LotFrontage(scaled)', 'LotArea(scaled)',\n",
    "       'LotConfig_(scaled)', 'Neighborhood_(scaled)', 'HouseStyle_(scaled)',\n",
    "       'OverallQual(scaled)', 'OverallCond(scaled)', 'RoofStyle_(scaled)',\n",
    "       'MasVnrArea(scaled)', 'ExterQual_(scaled)', 'Foundation_(scaled)',\n",
    "       'BsmtQual_(scaled)', 'BsmtFinType1_(scaled)', 'HeatingQC_(scaled)',\n",
    "       'BsmtFullBath(scaled)', 'FullBath(scaled)', 'HalfBath(scaled)',\n",
    "       'BedroomAbvGr(scaled)', 'KitchenQual_(scaled)', 'TotRmsAbvGrd(scaled)',\n",
    "       'Fireplaces(scaled)', 'FireplaceQu_(scaled)', 'GarageType_(scaled)',\n",
    "       'House_Age(scaled)', 'Garage_Age(scaled)', \n",
    "       'GarageCars(scaled)', \n",
    "    \n",
    "    'Exterior_Avg(scaled)']] # 'GarageArea(scaled)',\n",
    "result_from_model6 = gbm_fitter9.predict(df_house_test_extracted8_2b_predicted)\n",
    "df_house_test8['SalePrice'] = 0\n",
    "df_house_test8['SalePrice'] = np.expm1(result_from_model6)\n",
    "df_house_test8[['Id','SalePrice']]"
   ]
  },
  {
   "cell_type": "code",
   "execution_count": 219,
   "id": "f378564c",
   "metadata": {},
   "outputs": [],
   "source": [
    "df_house_test8[['Id','SalePrice']].to_csv('C:/Users/thsong/submission10_2.csv',index=False)"
   ]
  },
  {
   "cell_type": "code",
   "execution_count": null,
   "id": "3540b33f",
   "metadata": {},
   "outputs": [],
   "source": []
  },
  {
   "cell_type": "code",
   "execution_count": 243,
   "id": "69c16d20",
   "metadata": {},
   "outputs": [],
   "source": [
    "### Feature Engineering\n",
    "\n",
    "# trial 1 : remove GarageCars or GarageArea, and compare each case\n",
    "##--- trial 2 : remove OverallQual -------------------------------------\n",
    "# trial 3 : remove 'TotalBsmtSF' or '1stFlrSF', and compare each case (aborted : because of early trial on the SF combination)\n",
    "\n",
    "### Trial 1 ###\n",
    "\n",
    "#=======================================================================================================================================\n",
    "col_lst = [\n",
    "    'LotShape_','MasVnrType_' ,'BsmtExposure_' ,'GarageFinish_',\n",
    "    \n",
    "    'MSSubClass', 'MSZoning_', 'LotFrontage', 'LotArea', 'LotConfig_',\n",
    "       'Neighborhood_', 'HouseStyle_',  'OverallCond',\n",
    "       'RoofStyle_', 'MasVnrArea', 'ExterQual_', 'Foundation_', 'BsmtQual_',\n",
    "       'BsmtFinType1_', 'HeatingQC_', 'BsmtFullBath', 'FullBath', 'HalfBath',\n",
    "       'BedroomAbvGr', 'KitchenQual_', 'TotRmsAbvGrd', 'Fireplaces',\n",
    "       'FireplaceQu_', 'GarageType_', 'House_Age', 'Garage_Age', \n",
    "       'GarageCars', 'GarageArea',   \n",
    "        'Exterior_Avg', 'SalePrice'] #  'OverallQual',\n",
    "#--------------------------------------------------------------\n",
    "# create column and contain standardized data from the columns above, in sequence\n",
    "for i in range(len(col_lst)):\n",
    "    # standardize the data, using the library\n",
    "    array_tst = df_house_extracted9[col_lst[i]].values.reshape(-1,1)\n",
    "    scaled_data_tst = scaler.fit_transform(array_tst) \n",
    "    # making new column's name\n",
    "    new_col = col_lst[i] + '(scaled)'\n",
    "    # create column for containing the standardized data\n",
    "    df_house_extracted9[new_col] = scaled_data_tst\n",
    "#-----------------------------------------------------\n",
    "log_SalePrice = np.log1p(df_house_extracted9['SalePrice'])\n",
    "df_house_extracted9['SalePrice(log)'] = log_SalePrice\n",
    "#------------------------------\n",
    "X = df_house_extracted9[[\n",
    "    'LotShape_(scaled)','MasVnrType_(scaled)' ,'BsmtExposure_(scaled)' ,'GarageFinish_(scaled)',\n",
    "    \n",
    "    'MSSubClass(scaled)','MSZoning_(scaled)', 'LotFrontage(scaled)', 'LotArea(scaled)',\n",
    "    'LotConfig_(scaled)', 'Neighborhood_(scaled)', 'HouseStyle_(scaled)',\n",
    "    'OverallCond(scaled)', 'RoofStyle_(scaled)','MasVnrArea(scaled)', 'ExterQual_(scaled)', \n",
    "    'Foundation_(scaled)','BsmtQual_(scaled)', 'BsmtFinType1_(scaled)', 'HeatingQC_(scaled)',\n",
    "    'BsmtFullBath(scaled)', 'FullBath(scaled)', 'HalfBath(scaled)','BedroomAbvGr(scaled)', \n",
    "    'KitchenQual_(scaled)', 'TotRmsAbvGrd(scaled)','Fireplaces(scaled)', 'FireplaceQu_(scaled)', \n",
    "    'GarageType_(scaled)','House_Age(scaled)', 'Garage_Age(scaled)', \n",
    "    'GarageCars(scaled)', 'GarageArea(scaled)', \n",
    "     'Exterior_Avg(scaled)']]   # 'OverallQual(scaled)', \n",
    "y = df_house_extracted9['SalePrice(log)'] \n",
    "# split X and y \n",
    "# make sure that 'test' here is different from 'test' in df_house_test\n",
    "X_train, X_test, y_train, y_test = train_test_split(X,y,test_size=0.2,random_state=42)"
   ]
  },
  {
   "cell_type": "code",
   "execution_count": 247,
   "id": "41aa4027",
   "metadata": {},
   "outputs": [
    {
     "name": "stdout",
     "output_type": "stream",
     "text": [
      "when the model Ridge is taken with grid search cv = 5 the best avg rmse value is : 0.165, and the best parameter is : {'alpha': 115}\n"
     ]
    }
   ],
   "source": [
    "ridge_params2 = {'alpha':[114,115,116,117,118,119]}\n",
    "print_best_params(ridge_fitter5,ridge_params2)"
   ]
  },
  {
   "cell_type": "code",
   "execution_count": 250,
   "id": "2bfbe22c",
   "metadata": {},
   "outputs": [
    {
     "name": "stdout",
     "output_type": "stream",
     "text": [
      "when the model Lasso is taken with grid search cv = 5 the best avg rmse value is : 0.1652, and the best parameter is : {'alpha': 0.0024}\n"
     ]
    }
   ],
   "source": [
    "lasso_params2 = {'alpha':[0.0021,0.0022,0.0023,0.0024,0.0025,0.0026,0.0027,0.0028,0.0029]}\n",
    "print_best_params(lasso_fitter5,lasso_params2)"
   ]
  },
  {
   "cell_type": "code",
   "execution_count": 257,
   "id": "e8210011",
   "metadata": {},
   "outputs": [
    {
     "name": "stdout",
     "output_type": "stream",
     "text": [
      "when the model ElasticNet is taken with grid search cv = 5 the best avg rmse value is : 0.1649, and the best parameter is : {'alpha': 0.08, 'l1_ratio': 0.017}\n"
     ]
    }
   ],
   "source": [
    "eln_params2 = {'alpha':[0.05,0.06,0.07,0.08],\n",
    "            'l1_ratio':[0.016,0.017,0.018,0.019,0.02,0.021,0.022]} # just 0.0001, not zero\n",
    "print_best_params(elasticNet_fitter5,eln_params2)"
   ]
  },
  {
   "cell_type": "code",
   "execution_count": 259,
   "id": "79133d00",
   "metadata": {},
   "outputs": [
    {
     "name": "stdout",
     "output_type": "stream",
     "text": [
      "when the model XGBRegressor is taken with grid search cv = 5 the best avg rmse value is : 0.1613, and the best parameter is : {'n_estimators': 46}\n"
     ]
    }
   ],
   "source": [
    "candidate_params = {'n_estimators' : [44,45,46,47,48]}\n",
    "print_best_params(xgb_fitter5,candidate_params)"
   ]
  },
  {
   "cell_type": "code",
   "execution_count": 263,
   "id": "1ab8a509",
   "metadata": {},
   "outputs": [
    {
     "name": "stdout",
     "output_type": "stream",
     "text": [
      "when the model GradientBoostingRegressor is taken with grid search cv = 5 the best avg rmse value is : 0.1508, and the best parameter is : {'n_estimators': 260}\n"
     ]
    }
   ],
   "source": [
    "candidate_params = {'n_estimators' : [255,256,257,258,259,260,261,262,263,264]}\n",
    "print_best_params(gbm_fitter5,candidate_params)"
   ]
  },
  {
   "cell_type": "code",
   "execution_count": 264,
   "id": "3a84ae1a",
   "metadata": {},
   "outputs": [
    {
     "name": "stdout",
     "output_type": "stream",
     "text": [
      "when the model RandomForestRegressor is taken with grid search cv = 5 the best avg rmse value is : 0.1625, and the best parameter is : {'n_estimators': 153}\n"
     ]
    }
   ],
   "source": [
    "candidate_params = {'n_estimators' : [150,151,152,153,154,155,156,157,158,159,160,161,162,163,164]}\n",
    "print_best_params(rf_fitter5,candidate_params)"
   ]
  },
  {
   "cell_type": "code",
   "execution_count": 265,
   "id": "d28b3728",
   "metadata": {},
   "outputs": [
    {
     "name": "stdout",
     "output_type": "stream",
     "text": [
      "when the model LGBMRegressor is taken with grid search cv = 5 the best avg rmse value is : 0.1533, and the best parameter is : {'n_estimators': 129}\n"
     ]
    }
   ],
   "source": [
    "candidate_params = {'n_estimators' : [125,126,127,128,129,130,131,132,133,134]}\n",
    "print_best_params(lgbm_fitter5,candidate_params)"
   ]
  },
  {
   "cell_type": "code",
   "execution_count": 266,
   "id": "d9dd5bbd",
   "metadata": {},
   "outputs": [
    {
     "name": "stdout",
     "output_type": "stream",
     "text": [
      "when the model BaggingRegressor is taken with grid search cv = 5 the best avg rmse value is : 0.1628, and the best parameter is : {'n_estimators': 132}\n"
     ]
    }
   ],
   "source": [
    "candidate_params = {'n_estimators' : [125,126,127,128,129,130,131,132,133,134]}\n",
    "print_best_params(bg_fitter5,candidate_params)"
   ]
  },
  {
   "cell_type": "code",
   "execution_count": 270,
   "id": "c816b1ff",
   "metadata": {},
   "outputs": [
    {
     "name": "stdout",
     "output_type": "stream",
     "text": [
      "when the model ExtraTreesRegressor is taken with grid search cv = 5 the best avg rmse value is : 0.1631, and the best parameter is : {'n_estimators': 172}\n"
     ]
    }
   ],
   "source": [
    "candidate_params = {'n_estimators' : [171,172,173,174,175,176]}\n",
    "print_best_params(et_fitter5,candidate_params)"
   ]
  },
  {
   "cell_type": "code",
   "execution_count": 271,
   "id": "8f451502",
   "metadata": {},
   "outputs": [],
   "source": [
    "# ordinary linear regression model\n",
    "line_fitter10 = LinearRegression()\n",
    "### turned models through series of parameter adjustments\n",
    "# linear models\n",
    "ridge_fitter10 = Ridge(alpha=115)\n",
    "lasso_fitter10 = Lasso(alpha=0.0024)\n",
    "elasticNet_fitter10 = ElasticNet(alpha = 0.08, l1_ratio=0.017)\n",
    "# ensemble models\n",
    "xgb_fitter10 = XGBRegressor(n_estimators=46)\n",
    "gbm_fitter10 = GradientBoostingRegressor(n_estimators=260)\n",
    "rf_fitter10 = RandomForestRegressor(n_estimators=153)\n",
    "lgbm_fitter10 = LGBMRegressor(n_estimators=129)\n",
    "bg_fitter10 = BaggingRegressor(n_estimators=132)\n",
    "et_fitter10 = ExtraTreesRegressor(n_estimators=172)"
   ]
  },
  {
   "cell_type": "code",
   "execution_count": 272,
   "id": "42516adc",
   "metadata": {},
   "outputs": [
    {
     "name": "stdout",
     "output_type": "stream",
     "text": [
      "##### LinearRegression #####\n",
      "RMSLE : 0.20049298065126903\n",
      "##### Ridge #####\n",
      "RMSLE : 0.20528249575590493\n",
      "##### Lasso #####\n",
      "RMSLE : 0.20756186282051606\n",
      "##### ElasticNet #####\n",
      "RMSLE : 0.20737681361797952\n",
      "##### XGBRegressor #####\n",
      "RMSLE : 0.1517458672699774\n",
      "##### GradientBoostingRegressor #####\n",
      "RMSLE : 0.09256139994425654\n",
      "##### RandomForestRegressor #####\n",
      "RMSLE : 0.1448956316013022\n",
      "##### LGBMRegressor #####\n",
      "RMSLE : 0.1312998352921603\n",
      "##### BaggingRegressor #####\n",
      "RMSLE : 0.15958030003053356\n",
      "##### ExtraTreesRegressor #####\n",
      "RMSLE : 0.17331326577275558\n"
     ]
    },
    {
     "data": {
      "text/plain": [
       "{'GradientBoostingRegressor(n_estimators=260)': 0.09256139994425654,\n",
       " 'LGBMRegressor(n_estimators=129)': 0.1312998352921603,\n",
       " 'RandomForestRegressor(n_estimators=153)': 0.1448956316013022,\n",
       " \"XGBRegressor(base_score=0.5, booster='gbtree', callbacks=None,\\n             colsample_bylevel=1, colsample_bynode=1, colsample_bytree=1,\\n             early_stopping_rounds=None, enable_categorical=False,\\n             eval_metric=None, gamma=0, gpu_id=-1, grow_policy='depthwise',\\n             importance_type=None, interaction_constraints='',\\n             learning_rate=0.300000012, max_bin=256, max_cat_to_onehot=4,\\n             max_delta_step=0, max_depth=6, max_leaves=0, min_child_weight=1,\\n             missing=nan, monotone_constraints='()', n_estimators=46, n_jobs=0,\\n             num_parallel_tree=1, predictor='auto', random_state=0, reg_alpha=0,\\n             reg_lambda=1, ...)\": 0.1517458672699774,\n",
       " 'BaggingRegressor(n_estimators=132)': 0.15958030003053356,\n",
       " 'ExtraTreesRegressor(n_estimators=172)': 0.17331326577275558,\n",
       " 'LinearRegression()': 0.20049298065126903,\n",
       " 'Ridge(alpha=115)': 0.20528249575590493,\n",
       " 'ElasticNet(alpha=0.08, l1_ratio=0.017)': 0.20737681361797952,\n",
       " 'Lasso(alpha=0.0024)': 0.20756186282051606}"
      ]
     },
     "execution_count": 272,
     "metadata": {},
     "output_type": "execute_result"
    }
   ],
   "source": [
    "### Print RMSLE values using the user-defined function above\n",
    "dict_rmsle = {}\n",
    "for model in [line_fitter10,ridge_fitter10,lasso_fitter10,elasticNet_fitter10,xgb_fitter10,gbm_fitter10,rf_fitter10,lgbm_fitter10,bg_fitter10,et_fitter10]:\n",
    "    rmsle_value = print_rmsle_values(model,X_train.values,X_test.values,y_train.values,y_test.values)\n",
    "    dict_rmsle[str(model)] = rmsle_value\n",
    "### Sort RMSLE values in ascending order\n",
    "{k: v for k, v in sorted(dict_rmsle.items(), key=lambda item: item[1])}"
   ]
  },
  {
   "cell_type": "code",
   "execution_count": 273,
   "id": "4440cece",
   "metadata": {},
   "outputs": [
    {
     "data": {
      "text/html": [
       "<div>\n",
       "<style scoped>\n",
       "    .dataframe tbody tr th:only-of-type {\n",
       "        vertical-align: middle;\n",
       "    }\n",
       "\n",
       "    .dataframe tbody tr th {\n",
       "        vertical-align: top;\n",
       "    }\n",
       "\n",
       "    .dataframe thead th {\n",
       "        text-align: right;\n",
       "    }\n",
       "</style>\n",
       "<table border=\"1\" class=\"dataframe\">\n",
       "  <thead>\n",
       "    <tr style=\"text-align: right;\">\n",
       "      <th></th>\n",
       "      <th>Id</th>\n",
       "      <th>SalePrice</th>\n",
       "    </tr>\n",
       "  </thead>\n",
       "  <tbody>\n",
       "    <tr>\n",
       "      <th>0</th>\n",
       "      <td>1461</td>\n",
       "      <td>124323.985935</td>\n",
       "    </tr>\n",
       "    <tr>\n",
       "      <th>1</th>\n",
       "      <td>1462</td>\n",
       "      <td>155742.479384</td>\n",
       "    </tr>\n",
       "    <tr>\n",
       "      <th>2</th>\n",
       "      <td>1463</td>\n",
       "      <td>177688.133940</td>\n",
       "    </tr>\n",
       "    <tr>\n",
       "      <th>3</th>\n",
       "      <td>1464</td>\n",
       "      <td>189144.277466</td>\n",
       "    </tr>\n",
       "    <tr>\n",
       "      <th>4</th>\n",
       "      <td>1465</td>\n",
       "      <td>161220.992974</td>\n",
       "    </tr>\n",
       "    <tr>\n",
       "      <th>...</th>\n",
       "      <td>...</td>\n",
       "      <td>...</td>\n",
       "    </tr>\n",
       "    <tr>\n",
       "      <th>1454</th>\n",
       "      <td>2915</td>\n",
       "      <td>88161.910107</td>\n",
       "    </tr>\n",
       "    <tr>\n",
       "      <th>1455</th>\n",
       "      <td>2916</td>\n",
       "      <td>97702.703829</td>\n",
       "    </tr>\n",
       "    <tr>\n",
       "      <th>1456</th>\n",
       "      <td>2917</td>\n",
       "      <td>188761.777600</td>\n",
       "    </tr>\n",
       "    <tr>\n",
       "      <th>1457</th>\n",
       "      <td>2918</td>\n",
       "      <td>115447.761757</td>\n",
       "    </tr>\n",
       "    <tr>\n",
       "      <th>1458</th>\n",
       "      <td>2919</td>\n",
       "      <td>202705.542146</td>\n",
       "    </tr>\n",
       "  </tbody>\n",
       "</table>\n",
       "<p>1459 rows × 2 columns</p>\n",
       "</div>"
      ],
      "text/plain": [
       "        Id      SalePrice\n",
       "0     1461  124323.985935\n",
       "1     1462  155742.479384\n",
       "2     1463  177688.133940\n",
       "3     1464  189144.277466\n",
       "4     1465  161220.992974\n",
       "...    ...            ...\n",
       "1454  2915   88161.910107\n",
       "1455  2916   97702.703829\n",
       "1456  2917  188761.777600\n",
       "1457  2918  115447.761757\n",
       "1458  2919  202705.542146\n",
       "\n",
       "[1459 rows x 2 columns]"
      ]
     },
     "execution_count": 273,
     "metadata": {},
     "output_type": "execute_result"
    }
   ],
   "source": [
    "### Feature Engineering\n",
    "#=======================================================================================================================================\n",
    "col_lst = [\n",
    "        'LotShape_','MasVnrType_' ,'BsmtExposure_' ,'GarageFinish_',\n",
    "    \n",
    "        'MSSubClass', 'MSZoning_', 'LotFrontage', 'LotArea', 'LotConfig_',\n",
    "       'Neighborhood_', 'HouseStyle_', 'OverallCond',\n",
    "       'RoofStyle_', 'MasVnrArea', 'ExterQual_', 'Foundation_', 'BsmtQual_',\n",
    "       'BsmtFinType1_', 'HeatingQC_', 'BsmtFullBath', 'FullBath', 'HalfBath',\n",
    "       'BedroomAbvGr', 'KitchenQual_', 'TotRmsAbvGrd', 'Fireplaces',\n",
    "       'FireplaceQu_', 'GarageType_', 'House_Age', 'Garage_Age', \n",
    "       'GarageCars', 'GarageArea',\n",
    "    'Exterior_Avg'] #  'OverallQual', \n",
    "#--------------------------------------------------------------\n",
    "#------------\n",
    "# create column and contain standardized data from the columns above, in sequence\n",
    "for i in range(len(col_lst)):\n",
    "    # standardize the data, using the library\n",
    "    array_tst = df_house_test_extracted9[col_lst[i]].values.reshape(-1,1)\n",
    "    scaled_data_tst = scaler.fit_transform(array_tst) \n",
    "    # making new column's name\n",
    "    new_col = col_lst[i] + '(scaled)'\n",
    "    # create column for containing the standardized data\n",
    "    df_house_test_extracted9[new_col] = scaled_data_tst\n",
    "###====================================================================\n",
    "df_house_test_extracted9_2b_predicted = df_house_test_extracted9[[\n",
    "        'LotShape_(scaled)','MasVnrType_(scaled)','BsmtExposure_(scaled)','GarageFinish_(scaled)',\n",
    "        \n",
    "        'MSSubClass(scaled)','MSZoning_(scaled)', 'LotFrontage(scaled)', 'LotArea(scaled)',\n",
    "       'LotConfig_(scaled)', 'Neighborhood_(scaled)', 'HouseStyle_(scaled)',\n",
    "        'OverallCond(scaled)', 'RoofStyle_(scaled)',\n",
    "       'MasVnrArea(scaled)', 'ExterQual_(scaled)', 'Foundation_(scaled)',\n",
    "       'BsmtQual_(scaled)', 'BsmtFinType1_(scaled)', 'HeatingQC_(scaled)',\n",
    "       'BsmtFullBath(scaled)', 'FullBath(scaled)', 'HalfBath(scaled)',\n",
    "       'BedroomAbvGr(scaled)', 'KitchenQual_(scaled)', 'TotRmsAbvGrd(scaled)',\n",
    "       'Fireplaces(scaled)', 'FireplaceQu_(scaled)', 'GarageType_(scaled)',\n",
    "       'House_Age(scaled)', 'Garage_Age(scaled)', \n",
    "       'GarageCars(scaled)', 'GarageArea(scaled)',\n",
    "    \n",
    "    'Exterior_Avg(scaled)']] # 'OverallQual(scaled)',\n",
    "result_from_model7 = gbm_fitter10.predict(df_house_test_extracted9_2b_predicted)\n",
    "df_house_test9['SalePrice'] = 0\n",
    "df_house_test9['SalePrice'] = np.expm1(result_from_model7)\n",
    "df_house_test9[['Id','SalePrice']]"
   ]
  },
  {
   "cell_type": "code",
   "execution_count": 274,
   "id": "ca7f037c",
   "metadata": {},
   "outputs": [],
   "source": [
    "df_house_test9[['Id','SalePrice']].to_csv('C:/Users/thsong/submission10_3.csv',index=False)"
   ]
  },
  {
   "cell_type": "code",
   "execution_count": null,
   "id": "c23698d1",
   "metadata": {},
   "outputs": [],
   "source": []
  },
  {
   "cell_type": "code",
   "execution_count": null,
   "id": "1afb9b74",
   "metadata": {},
   "outputs": [],
   "source": []
  },
  {
   "cell_type": "markdown",
   "id": "3db1c85d",
   "metadata": {},
   "source": [
    "#### adding unextracted columns"
   ]
  },
  {
   "cell_type": "code",
   "execution_count": 220,
   "id": "37ee4d8b",
   "metadata": {},
   "outputs": [
    {
     "data": {
      "text/plain": [
       "Index(['Id', 'MSSubClass', 'MSZoning', 'LotFrontage', 'LotArea', 'Street',\n",
       "       'Alley', 'LotShape', 'LandContour', 'Utilities', 'LotConfig',\n",
       "       'LandSlope', 'Neighborhood', 'Condition1', 'Condition2', 'BldgType',\n",
       "       'HouseStyle', 'OverallQual', 'OverallCond', 'YearBuilt', 'YearRemodAdd',\n",
       "       'RoofStyle', 'RoofMatl', 'Exterior1st', 'Exterior2nd', 'MasVnrType',\n",
       "       'MasVnrArea', 'ExterQual', 'ExterCond', 'Foundation', 'BsmtQual',\n",
       "       'BsmtCond', 'BsmtExposure', 'BsmtFinType1', 'BsmtFinSF1',\n",
       "       'BsmtFinType2', 'BsmtFinSF2', 'BsmtUnfSF', 'TotalBsmtSF', 'Heating',\n",
       "       'HeatingQC', 'CentralAir', 'Electrical', '1stFlrSF', '2ndFlrSF',\n",
       "       'LowQualFinSF', 'GrLivArea', 'BsmtFullBath', 'BsmtHalfBath', 'FullBath',\n",
       "       'HalfBath', 'BedroomAbvGr', 'KitchenAbvGr', 'KitchenQual',\n",
       "       'TotRmsAbvGrd', 'Functional', 'Fireplaces', 'FireplaceQu', 'GarageType',\n",
       "       'GarageYrBlt', 'GarageFinish', 'GarageCars', 'GarageArea', 'GarageQual',\n",
       "       'GarageCond', 'PavedDrive', 'WoodDeckSF', 'OpenPorchSF',\n",
       "       'EnclosedPorch', '3SsnPorch', 'ScreenPorch', 'PoolArea', 'PoolQC',\n",
       "       'Fence', 'MiscFeature', 'MiscVal', 'MoSold', 'YrSold', 'SaleType',\n",
       "       'SaleCondition', 'SalePrice'],\n",
       "      dtype='object')"
      ]
     },
     "execution_count": 220,
     "metadata": {},
     "output_type": "execute_result"
    }
   ],
   "source": [
    "df_house.columns"
   ]
  },
  {
   "cell_type": "code",
   "execution_count": 281,
   "id": "93fdac96",
   "metadata": {},
   "outputs": [
    {
     "data": {
      "text/plain": [
       "1Fam      1220\n",
       "TwnhsE     114\n",
       "Duplex      52\n",
       "Twnhs       43\n",
       "2fmCon      31\n",
       "Name: BldgType, dtype: int64"
      ]
     },
     "execution_count": 281,
     "metadata": {},
     "output_type": "execute_result"
    }
   ],
   "source": [
    "df_house.BldgType.value_counts()"
   ]
  },
  {
   "cell_type": "code",
   "execution_count": 221,
   "id": "4f5e418d",
   "metadata": {},
   "outputs": [
    {
     "data": {
      "text/plain": [
       "Index(['MSSubClass', 'MSZoning_', 'LotFrontage', 'LotArea', 'LotShape_',\n",
       "       'LotConfig_', 'Neighborhood_', 'HouseStyle_', 'OverallQual',\n",
       "       'OverallCond', 'RoofStyle_', 'MasVnrType_', 'MasVnrArea', 'ExterQual_',\n",
       "       'Foundation_', 'BsmtQual_', 'BsmtExposure_', 'BsmtFinType1_',\n",
       "       'BsmtFinSF1', 'BsmtUnfSF', 'TotalBsmtSF', 'HeatingQC_', '1stFlrSF',\n",
       "       '2ndFlrSF', 'GrLivArea', 'BsmtFullBath', 'FullBath', 'HalfBath',\n",
       "       'BedroomAbvGr', 'KitchenQual_', 'TotRmsAbvGrd', 'Fireplaces',\n",
       "       'FireplaceQu_', 'GarageType_', 'House_Age', 'Garage_Age',\n",
       "       'GarageFinish_', 'GarageCars', 'GarageArea', 'WoodDeckSF',\n",
       "       'OpenPorchSF', 'Exterior_Avg', 'SalePrice'],\n",
       "      dtype='object')"
      ]
     },
     "execution_count": 221,
     "metadata": {},
     "output_type": "execute_result"
    }
   ],
   "source": [
    "df_house_extracted.columns"
   ]
  },
  {
   "cell_type": "code",
   "execution_count": 225,
   "id": "bbd9ed75",
   "metadata": {},
   "outputs": [],
   "source": [
    "df_house_columns_tst = df_house.columns.values\n",
    "df_house_extracted_columns_tst = df_house_extracted.columns.values"
   ]
  },
  {
   "cell_type": "code",
   "execution_count": 236,
   "id": "fb2ea0b5",
   "metadata": {},
   "outputs": [],
   "source": [
    "set_difference = set(df_house_columns_tst) - set(df_house_extracted_columns_tst)\n",
    "list_difference = list(set_difference)"
   ]
  },
  {
   "cell_type": "code",
   "execution_count": 238,
   "id": "6d7681bc",
   "metadata": {},
   "outputs": [
    {
     "name": "stdout",
     "output_type": "stream",
     "text": [
      "{'MoSold', 'Exterior2nd', 'GarageType', 'RoofStyle', 'Utilities', 'GarageCond', 'Neighborhood', 'Foundation', 'MiscFeature', 'LandContour', 'SaleType', 'GarageQual', 'ExterCond', 'LotConfig', 'RoofMatl', 'GarageFinish', 'SaleCondition', 'BsmtQual', '3SsnPorch', 'Id', 'Heating', 'YrSold', 'MSZoning', 'EnclosedPorch', 'BsmtCond', 'ExterQual', 'YearBuilt', 'PavedDrive', 'LowQualFinSF', 'BsmtFinSF2', 'KitchenQual', 'MiscVal', 'FireplaceQu', 'BsmtHalfBath', 'HeatingQC', 'Alley', 'BsmtFinType1', 'HouseStyle', 'Functional', 'Condition1', 'GarageYrBlt', 'KitchenAbvGr', 'BsmtFinType2', 'LandSlope', 'YearRemodAdd', 'PoolArea', 'Fence', 'BsmtExposure', 'BldgType', 'Condition2', 'CentralAir', 'PoolQC', 'Electrical', 'Exterior1st', 'LotShape', 'ScreenPorch', 'MasVnrType', 'Street'}\n"
     ]
    }
   ],
   "source": [
    "print(set_difference)"
   ]
  },
  {
   "cell_type": "code",
   "execution_count": null,
   "id": "03c25b18",
   "metadata": {},
   "outputs": [],
   "source": []
  },
  {
   "cell_type": "code",
   "execution_count": null,
   "id": "46bb1642",
   "metadata": {},
   "outputs": [],
   "source": [
    "# trial 6 : add 'BldgType'\n",
    "# trial 7 : add 'EnclosedPorch'\n",
    "# trial 8 : add 'SaleType'\n",
    "# trial 9 : add SaleCondition\n",
    "# trial 10 : split 'Exterior_Avg' into 'Exterior1st' and 'Exterior2nd'"
   ]
  },
  {
   "cell_type": "code",
   "execution_count": null,
   "id": "05f9a8b4",
   "metadata": {},
   "outputs": [],
   "source": []
  },
  {
   "cell_type": "code",
   "execution_count": 280,
   "id": "bc98b0eb",
   "metadata": {},
   "outputs": [],
   "source": [
    "#df_house10"
   ]
  },
  {
   "cell_type": "code",
   "execution_count": null,
   "id": "4fdacd62",
   "metadata": {},
   "outputs": [],
   "source": [
    "### Feature Engineering\n",
    "\n",
    "# trial 6 : add 'BldgType'\n",
    "\n",
    "#=======================================================================================================================================\n",
    "col_lst = [\n",
    "    'LotShape_','MasVnrType_' ,'BsmtExposure_' ,'GarageFinish_',\n",
    "    \n",
    "    'MSSubClass', 'MSZoning_', 'LotFrontage', 'LotArea', 'LotConfig_',\n",
    "       'Neighborhood_', 'HouseStyle_',  'OverallCond','OverallQual',\n",
    "       'RoofStyle_', 'MasVnrArea', 'ExterQual_', 'Foundation_', 'BsmtQual_',\n",
    "       'BsmtFinType1_', 'HeatingQC_', 'BsmtFullBath', 'FullBath', 'HalfBath',\n",
    "       'BedroomAbvGr', 'KitchenQual_', 'TotRmsAbvGrd', 'Fireplaces',\n",
    "       'FireplaceQu_', 'GarageType_', 'House_Age', 'Garage_Age', \n",
    "       'GarageCars', 'GarageArea',   \n",
    "        'Exterior_Avg', 'SalePrice'] \n",
    "#--------------------------------------------------------------\n",
    "# create column and contain standardized data from the columns above, in sequence\n",
    "for i in range(len(col_lst)):\n",
    "    # standardize the data, using the library\n",
    "    array_tst = df_house_extracted10[col_lst[i]].values.reshape(-1,1)\n",
    "    scaled_data_tst = scaler.fit_transform(array_tst) \n",
    "    # making new column's name\n",
    "    new_col = col_lst[i] + '(scaled)'\n",
    "    # create column for containing the standardized data\n",
    "    df_house_extracted10[new_col] = scaled_data_tst\n",
    "#-----------------------------------------------------\n",
    "log_SalePrice = np.log1p(df_house_extracted10['SalePrice'])\n",
    "df_house_extracted10['SalePrice(log)'] = log_SalePrice\n",
    "#------------------------------\n",
    "X = df_house_extracted10[[\n",
    "    'LotShape_(scaled)','MasVnrType_(scaled)' ,'BsmtExposure_(scaled)' ,'GarageFinish_(scaled)',\n",
    "    \n",
    "    'MSSubClass(scaled)','MSZoning_(scaled)', 'LotFrontage(scaled)', 'LotArea(scaled)',\n",
    "    'LotConfig_(scaled)', 'Neighborhood_(scaled)', 'HouseStyle_(scaled)',\n",
    "    'OverallCond(scaled)','OverallQual(scaled)', 'RoofStyle_(scaled)','MasVnrArea(scaled)', 'ExterQual_(scaled)', \n",
    "    'Foundation_(scaled)','BsmtQual_(scaled)', 'BsmtFinType1_(scaled)', 'HeatingQC_(scaled)',\n",
    "    'BsmtFullBath(scaled)', 'FullBath(scaled)', 'HalfBath(scaled)','BedroomAbvGr(scaled)', \n",
    "    'KitchenQual_(scaled)', 'TotRmsAbvGrd(scaled)','Fireplaces(scaled)', 'FireplaceQu_(scaled)', \n",
    "    'GarageType_(scaled)','House_Age(scaled)', 'Garage_Age(scaled)', \n",
    "    'GarageCars(scaled)', 'GarageArea(scaled)', \n",
    "     'Exterior_Avg(scaled)']]   \n",
    "y = df_house_extracted10['SalePrice(log)'] \n",
    "# split X and y \n",
    "# make sure that 'test' here is different from 'test' in df_house_test\n",
    "X_train, X_test, y_train, y_test = train_test_split(X,y,test_size=0.2,random_state=42)"
   ]
  },
  {
   "cell_type": "code",
   "execution_count": null,
   "id": "8e6c53ed",
   "metadata": {},
   "outputs": [],
   "source": []
  },
  {
   "cell_type": "code",
   "execution_count": null,
   "id": "552af83c",
   "metadata": {},
   "outputs": [],
   "source": []
  },
  {
   "cell_type": "code",
   "execution_count": null,
   "id": "6c722df8",
   "metadata": {},
   "outputs": [],
   "source": []
  },
  {
   "cell_type": "code",
   "execution_count": null,
   "id": "c8fc9731",
   "metadata": {},
   "outputs": [],
   "source": []
  },
  {
   "cell_type": "code",
   "execution_count": null,
   "id": "fb92d613",
   "metadata": {},
   "outputs": [],
   "source": []
  },
  {
   "cell_type": "code",
   "execution_count": null,
   "id": "1d376cda",
   "metadata": {},
   "outputs": [],
   "source": []
  },
  {
   "cell_type": "code",
   "execution_count": null,
   "id": "6659042d",
   "metadata": {},
   "outputs": [],
   "source": []
  },
  {
   "cell_type": "code",
   "execution_count": null,
   "id": "21837f5d",
   "metadata": {},
   "outputs": [],
   "source": []
  }
 ],
 "metadata": {
  "kernelspec": {
   "display_name": "Python 3 (ipykernel)",
   "language": "python",
   "name": "python3"
  },
  "language_info": {
   "codemirror_mode": {
    "name": "ipython",
    "version": 3
   },
   "file_extension": ".py",
   "mimetype": "text/x-python",
   "name": "python",
   "nbconvert_exporter": "python",
   "pygments_lexer": "ipython3",
   "version": "3.9.7"
  }
 },
 "nbformat": 4,
 "nbformat_minor": 5
}
